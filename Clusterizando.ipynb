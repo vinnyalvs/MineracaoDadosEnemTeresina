{
 "cells": [
  {
   "cell_type": "code",
   "execution_count": 1,
   "metadata": {},
   "outputs": [],
   "source": [
    "%matplotlib inline\n",
    "import pandas as pd\n",
    "import numpy as np\n",
    "import seaborn as sns\n",
    "import matplotlib.pyplot as plt\n",
    "from sklearn.metrics import silhouette_samples, silhouette_score\n",
    "from sklearn import preprocessing\n",
    "from sklearn.cluster import KMeans\n",
    "from sklearn.metrics import davies_bouldin_score\n",
    "import matplotlib.cm as cm"
   ]
  },
  {
   "cell_type": "code",
   "execution_count": 2,
   "metadata": {},
   "outputs": [],
   "source": [
    "#!pip install yellowbrick"
   ]
  },
  {
   "cell_type": "code",
   "execution_count": 3,
   "metadata": {},
   "outputs": [],
   "source": [
    "import matplotlib.style as style\n",
    "style.available\n",
    "style.use('seaborn-poster') #sets the size of the charts\n",
    "style.use('ggplot')"
   ]
  },
  {
   "cell_type": "markdown",
   "metadata": {},
   "source": [
    "# Exemplo de excução do Kmeans\n",
    "### import numpy as np\n",
    "### X = np.array([[1, 2,3], [1, 4,5], [1, 0,3],[5, 2,4], [10, 4,5], [10, 0,8]])\n",
    "### kmeans = KMeans(n_clusters=2, random_state=0).fit_predict(X)"
   ]
  },
  {
   "cell_type": "code",
   "execution_count": 4,
   "metadata": {},
   "outputs": [],
   "source": [
    "path = 'dados/notasParaClusterizacao2019.csv'"
   ]
  },
  {
   "cell_type": "code",
   "execution_count": 5,
   "metadata": {},
   "outputs": [],
   "source": [
    "notasEnem = pd.read_csv(path,sep=';',encoding='latin1',low_memory=False)\n"
   ]
  },
  {
   "cell_type": "code",
   "execution_count": 6,
   "metadata": {},
   "outputs": [
    {
     "data": {
      "text/html": [
       "<div>\n",
       "<style scoped>\n",
       "    .dataframe tbody tr th:only-of-type {\n",
       "        vertical-align: middle;\n",
       "    }\n",
       "\n",
       "    .dataframe tbody tr th {\n",
       "        vertical-align: top;\n",
       "    }\n",
       "\n",
       "    .dataframe thead th {\n",
       "        text-align: right;\n",
       "    }\n",
       "</style>\n",
       "<table border=\"1\" class=\"dataframe\">\n",
       "  <thead>\n",
       "    <tr style=\"text-align: right;\">\n",
       "      <th></th>\n",
       "      <th>RendaMaxima</th>\n",
       "      <th>NU_NOTA_MT</th>\n",
       "      <th>NU_NOTA_CH</th>\n",
       "      <th>NU_NOTA_LC</th>\n",
       "      <th>NU_NOTA_CN</th>\n",
       "      <th>NU_NOTA_REDACAO</th>\n",
       "    </tr>\n",
       "  </thead>\n",
       "  <tbody>\n",
       "    <tr>\n",
       "      <th>0</th>\n",
       "      <td>0</td>\n",
       "      <td>505.6</td>\n",
       "      <td>507.4</td>\n",
       "      <td>528.2</td>\n",
       "      <td>408.4</td>\n",
       "      <td>620.0</td>\n",
       "    </tr>\n",
       "    <tr>\n",
       "      <th>1</th>\n",
       "      <td>2495</td>\n",
       "      <td>469.1</td>\n",
       "      <td>463.5</td>\n",
       "      <td>504.9</td>\n",
       "      <td>372.2</td>\n",
       "      <td>700.0</td>\n",
       "    </tr>\n",
       "    <tr>\n",
       "      <th>2</th>\n",
       "      <td>2994</td>\n",
       "      <td>486.3</td>\n",
       "      <td>455.5</td>\n",
       "      <td>520.6</td>\n",
       "      <td>503.9</td>\n",
       "      <td>560.0</td>\n",
       "    </tr>\n",
       "    <tr>\n",
       "      <th>3</th>\n",
       "      <td>1497</td>\n",
       "      <td>418.1</td>\n",
       "      <td>427.6</td>\n",
       "      <td>488.5</td>\n",
       "      <td>410.8</td>\n",
       "      <td>440.0</td>\n",
       "    </tr>\n",
       "    <tr>\n",
       "      <th>4</th>\n",
       "      <td>998</td>\n",
       "      <td>466.7</td>\n",
       "      <td>436.9</td>\n",
       "      <td>470.9</td>\n",
       "      <td>443.6</td>\n",
       "      <td>260.0</td>\n",
       "    </tr>\n",
       "    <tr>\n",
       "      <th>...</th>\n",
       "      <td>...</td>\n",
       "      <td>...</td>\n",
       "      <td>...</td>\n",
       "      <td>...</td>\n",
       "      <td>...</td>\n",
       "      <td>...</td>\n",
       "    </tr>\n",
       "    <tr>\n",
       "      <th>6743</th>\n",
       "      <td>1996</td>\n",
       "      <td>467.2</td>\n",
       "      <td>405.4</td>\n",
       "      <td>532.7</td>\n",
       "      <td>422.6</td>\n",
       "      <td>500.0</td>\n",
       "    </tr>\n",
       "    <tr>\n",
       "      <th>6744</th>\n",
       "      <td>0</td>\n",
       "      <td>426.9</td>\n",
       "      <td>474.6</td>\n",
       "      <td>500.3</td>\n",
       "      <td>438.4</td>\n",
       "      <td>480.0</td>\n",
       "    </tr>\n",
       "    <tr>\n",
       "      <th>6745</th>\n",
       "      <td>998</td>\n",
       "      <td>499.7</td>\n",
       "      <td>501.2</td>\n",
       "      <td>460.9</td>\n",
       "      <td>396.0</td>\n",
       "      <td>480.0</td>\n",
       "    </tr>\n",
       "    <tr>\n",
       "      <th>6746</th>\n",
       "      <td>1497</td>\n",
       "      <td>519.2</td>\n",
       "      <td>579.2</td>\n",
       "      <td>590.2</td>\n",
       "      <td>557.4</td>\n",
       "      <td>880.0</td>\n",
       "    </tr>\n",
       "    <tr>\n",
       "      <th>6747</th>\n",
       "      <td>2495</td>\n",
       "      <td>582.5</td>\n",
       "      <td>508.0</td>\n",
       "      <td>565.4</td>\n",
       "      <td>551.3</td>\n",
       "      <td>880.0</td>\n",
       "    </tr>\n",
       "  </tbody>\n",
       "</table>\n",
       "<p>6748 rows × 6 columns</p>\n",
       "</div>"
      ],
      "text/plain": [
       "      RendaMaxima  NU_NOTA_MT  NU_NOTA_CH  NU_NOTA_LC  NU_NOTA_CN  \\\n",
       "0               0       505.6       507.4       528.2       408.4   \n",
       "1            2495       469.1       463.5       504.9       372.2   \n",
       "2            2994       486.3       455.5       520.6       503.9   \n",
       "3            1497       418.1       427.6       488.5       410.8   \n",
       "4             998       466.7       436.9       470.9       443.6   \n",
       "...           ...         ...         ...         ...         ...   \n",
       "6743         1996       467.2       405.4       532.7       422.6   \n",
       "6744            0       426.9       474.6       500.3       438.4   \n",
       "6745          998       499.7       501.2       460.9       396.0   \n",
       "6746         1497       519.2       579.2       590.2       557.4   \n",
       "6747         2495       582.5       508.0       565.4       551.3   \n",
       "\n",
       "      NU_NOTA_REDACAO  \n",
       "0               620.0  \n",
       "1               700.0  \n",
       "2               560.0  \n",
       "3               440.0  \n",
       "4               260.0  \n",
       "...               ...  \n",
       "6743            500.0  \n",
       "6744            480.0  \n",
       "6745            480.0  \n",
       "6746            880.0  \n",
       "6747            880.0  \n",
       "\n",
       "[6748 rows x 6 columns]"
      ]
     },
     "execution_count": 6,
     "metadata": {},
     "output_type": "execute_result"
    }
   ],
   "source": [
    "notasEnem"
   ]
  },
  {
   "cell_type": "markdown",
   "metadata": {},
   "source": [
    "### Calculando a coluna notas média"
   ]
  },
  {
   "cell_type": "code",
   "execution_count": 7,
   "metadata": {},
   "outputs": [],
   "source": [
    "col = notasEnem.loc[: , \"NU_NOTA_MT\":\"NU_NOTA_REDACAO\"]\n",
    "df = col\n",
    "notasEnem['mediaNota'] = col.mean(axis=1)\n",
    "col = notasEnem.loc[: , \"NU_NOTA_MT\":\"NU_NOTA_REDACAO\"]\n",
    "\n",
    "\n"
   ]
  },
  {
   "cell_type": "code",
   "execution_count": 8,
   "metadata": {},
   "outputs": [
    {
     "data": {
      "text/plain": [
       "array([[505.6, 507.4, 528.2, 408.4, 620. ],\n",
       "       [469.1, 463.5, 504.9, 372.2, 700. ],\n",
       "       [486.3, 455.5, 520.6, 503.9, 560. ],\n",
       "       ...,\n",
       "       [499.7, 501.2, 460.9, 396. , 480. ],\n",
       "       [519.2, 579.2, 590.2, 557.4, 880. ],\n",
       "       [582.5, 508. , 565.4, 551.3, 880. ]])"
      ]
     },
     "execution_count": 8,
     "metadata": {},
     "output_type": "execute_result"
    }
   ],
   "source": [
    "col.values"
   ]
  },
  {
   "cell_type": "markdown",
   "metadata": {},
   "source": [
    "# Transformando base com Quantile Transformer"
   ]
  },
  {
   "cell_type": "code",
   "execution_count": 11,
   "metadata": {},
   "outputs": [],
   "source": [
    "scaler = preprocessing.QuantileTransformer(n_quantiles=5, random_state=19)\n",
    "X = scaler.fit_transform(col.values)\n"
   ]
  },
  {
   "cell_type": "markdown",
   "metadata": {},
   "source": [
    "# Calculando o melhor valor de K, salva em um arquivos TesteNumClusters"
   ]
  },
  {
   "cell_type": "code",
   "execution_count": 12,
   "metadata": {},
   "outputs": [
    {
     "name": "stdout",
     "output_type": "stream",
     "text": [
      "For n_clusters = 2  The best silhouette_score is : 0.4670993147136718  Seed: 13\n"
     ]
    }
   ],
   "source": [
    "import time\n",
    "oldTime = time.time()\n",
    "\n",
    "range_n_clusters = [2,3,4,5,6,7,8,9,10]\n",
    "\n",
    "range_seeds=[13]\n",
    "\n",
    "bestSilhouette = 0;\n",
    "bestK= 0;\n",
    "Results = {\n",
    "    \"K\" : [],\n",
    "    \"time\" : [],\n",
    "    \"S\": [],\n",
    "    \"seed\": []\n",
    "}\n",
    "\n",
    "for seed in range_seeds:\n",
    "    for n_clusters in range_n_clusters:\n",
    "        time_1 = time.time()\n",
    "        # Create a subplot with 1 row and 2 columns\n",
    "              # Initialize the clusterer with n_clusters value and a random generator\n",
    "        # seed of 10 for reproducibility.\n",
    "        clusterer = KMeans(n_clusters=n_clusters, init='random', random_state=seed,max_iter=1200)\n",
    "        cluster_labels = clusterer.fit_predict(X)\n",
    "\n",
    "        # The silhouette_score gives the average value for all the samples.\n",
    "        # This gives a perspective into the density and separation of the formed\n",
    "        # clusters\n",
    "        silhouette_avg = silhouette_score(X, cluster_labels)\n",
    "        #print(\"For n_clusters =\", n_clusters,\"The average silhouette_score is :\", silhouette_avg)\n",
    "        \n",
    "        time_2 = time.time() - time_1 \n",
    "        \n",
    "        Results[\"K\"].append(n_clusters)\n",
    "        Results[\"S\"].append(silhouette_avg)\n",
    "        Results[\"seed\"].append(seed)\n",
    "        Results[\"time\"].append(time_2)\n",
    "\n",
    "        if(silhouette_avg > bestSilhouette ):\n",
    "            bestSilhouette = silhouette_avg\n",
    "            bestK = n_clusters\n",
    "            bestCluster = cluster_labels\n",
    "        \n",
    "    print(\"For n_clusters =\", bestK,\n",
    "              \" The best silhouette_score is :\", bestSilhouette, \" Seed:\", seed)   \n",
    "       \n"
   ]
  },
  {
   "cell_type": "code",
   "execution_count": 13,
   "metadata": {},
   "outputs": [
    {
     "name": "stdout",
     "output_type": "stream",
     "text": [
      "13.990423679351807\n"
     ]
    }
   ],
   "source": [
    "# Printa o tempo total que levou, para curiosidade \n",
    "resultados = pd.DataFrame(Results)\n",
    "resultados.to_csv(\"Dados/TesteNumClusters.csv\")\n",
    "\n",
    "new_time = time.time() - oldTime\n",
    "\n",
    "print(new_time)"
   ]
  },
  {
   "cell_type": "code",
   "execution_count": 14,
   "metadata": {},
   "outputs": [],
   "source": [
    "resultados = pd.read_csv(\"Dados/TesteNumClusters.csv\")"
   ]
  },
  {
   "cell_type": "code",
   "execution_count": 15,
   "metadata": {},
   "outputs": [],
   "source": [
    "silhouette_scores = resultados['S']"
   ]
  },
  {
   "cell_type": "markdown",
   "metadata": {},
   "source": [
    "### O Gráfico a seguir é gerado com as diversas silhuetas calculadas"
   ]
  },
  {
   "cell_type": "code",
   "execution_count": 17,
   "metadata": {},
   "outputs": [
    {
     "data": {
      "image/png": "[encoded data removed]",
      "text/plain": [
       "<Figure size 504x360 with 1 Axes>"
      ]
     },
     "metadata": {},
     "output_type": "display_data"
    }
   ],
   "source": [
    "silhouette_scores = silhouette_scores[:6]\n",
    "\n",
    "ax = plt.subplots(figsize=(7, 5))\n",
    "plt.plot(range(2,8),silhouette_scores,\"bo-\",color=\"blue\",linewidth=3,label=\"Curva Silhueta\")\n",
    "t = plt.xlabel(\"Número de clusters\")\n",
    "text = plt.ylabel(\"Valor da Silhueta\")\n",
    "p = plt.xticks([2,3,4,5,6,7,8])\n",
    "\n",
    "k = np.argmax(silhouette_scores) + 2\n",
    "\n",
    "plt.axvline(x=k,linestyle=\"--\",label=\"Numero escolhido de clusters({})\".format(k))\n",
    "\n",
    "plt.scatter(k,silhouette_scores[k-2],c=\"red\",s=400)\n",
    "\n",
    "plt.legend(shadow=True)\n",
    "text.set_fontsize(20)\n",
    "t.set_fontsize(20)\n",
    "plt.savefig(\"Gráficos/CurvaSilhueta\")\n",
    "\n",
    "plt.show()"
   ]
  },
  {
   "cell_type": "markdown",
   "metadata": {},
   "source": [
    "### Aplicando normalização com QuantileTransformer\n",
    "### Aplicando Algoritmo Kmeans com K=2 e calculando silhueta"
   ]
  },
  {
   "cell_type": "code",
   "execution_count": 19,
   "metadata": {},
   "outputs": [
    {
     "name": "stdout",
     "output_type": "stream",
     "text": [
      "          count        mean        std     min     25%     50%     75%     max\n",
      "Cluster                                                                       \n",
      "0        3135.0  634.426054  60.184647  499.66  585.92  627.22  678.13  845.00\n",
      "1        3613.0  474.140720  44.538452  336.70  441.70  476.18  509.04  583.56\n",
      "1    3613\n",
      "0    3135\n",
      "Name: Cluster, dtype: int64\n",
      "0.4670993147136718\n",
      "Time:  0.8935792446136475\n"
     ]
    }
   ],
   "source": [
    "import time\n",
    "oldTime = time.time()\n",
    "\n",
    "clusterer = KMeans(n_clusters=bestK,random_state=13,max_iter=1200,init='random')\n",
    "cluster_labels = clusterer.fit_predict(X)\n",
    "\n",
    "silhouette_avg = silhouette_score(X, cluster_labels)\n",
    "\n",
    "labels = pd.DataFrame(clusterer.labels_)\n",
    "notasEnem['Cluster'] = labels[0]\n",
    "print(notasEnem.groupby(\"Cluster\")['mediaNota'].describe())\n",
    "print(notasEnem['Cluster'].value_counts()) \n",
    "\n",
    "\n",
    "print(silhouette_avg)\n",
    "\n",
    "elapsed = time.time() - oldTime;\n",
    "\n",
    "print(\"Time: \", elapsed)\n"
   ]
  },
  {
   "cell_type": "code",
   "execution_count": 25,
   "metadata": {},
   "outputs": [
    {
     "name": "stdout",
     "output_type": "stream",
     "text": [
      "For n_clusters = 2 The average silhouette_score is : 0.4670993147136718\n"
     ]
    },
    {
     "data": {
      "image/png": "[encoded data removed]",
      "text/plain": [
       "<Figure size 576x576 with 1 Axes>"
      ]
     },
     "metadata": {},
     "output_type": "display_data"
    }
   ],
   "source": [
    "range_n_clusters = [2]\n",
    "\n",
    "\n",
    "for n_clusters in range_n_clusters:\n",
    "    # Create a subplot with 1 row and 2 columns\n",
    "  \n",
    "    fig = plt.figure()\n",
    "    fig.set_size_inches(8, 8)\n",
    "    ax1 = fig.add_subplot()\n",
    "\n",
    "    # The 1st subplot is the silhouette plot\n",
    "    # The silhouette coefficient can range from -1, 1 but in this example all\n",
    "    # lie within [-0.1, 1]\n",
    "    ax1.set_xlim([-0.1, 1])\n",
    "    # The (n_clusters+1)*10 is for inserting blank space between silhouette\n",
    "    # plots of individual clusters, to demarcate them clearly.\n",
    "    ax1.set_ylim([0, len(X) + (n_clusters + 1) * 10])\n",
    "\n",
    "    # Initialize the clusterer with n_clusters value and a random generator\n",
    "    # seed of 10 for reproducibility.\n",
    "    #clusterer = KMeans(n_clusters=n_clusters,  random_state=seed,init='random',max_iter=1200)\n",
    "   # cluster_labels = clusterer.fit_predict(X)\n",
    "\n",
    "    # The silhouette_score gives the average value for all the samples.\n",
    "    # This gives a perspective into the density and separation of the formed\n",
    "    # clusters\n",
    "  #  silhouette_avg = silhouette_score(X, cluster_labels)\n",
    "    print(\"For n_clusters =\", n_clusters,\n",
    "          \"The average silhouette_score is :\", bestSilhouette)\n",
    "\n",
    "    # Compute the silhouette scores for each sample\n",
    "    sample_silhouette_values = silhouette_samples(X, cluster_labels)\n",
    "\n",
    "    y_lower = 10\n",
    "    rotulos = [\"A\",\"B\"]\n",
    "    colors = [(0.8862745098039215, 0.2901960784313726, 0.2),(0.20392156862745098, 0.5411764705882353, 0.7411764705882353)]\n",
    "    for i in range(n_clusters):\n",
    "        # Aggregate the silhouette scores for samples belonging to\n",
    "        # cluster i, and sort them\n",
    "        ith_cluster_silhouette_values = \\\n",
    "            sample_silhouette_values[cluster_labels == i]\n",
    "\n",
    "        ith_cluster_silhouette_values.sort()\n",
    "\n",
    "        size_cluster_i = ith_cluster_silhouette_values.shape[0]\n",
    "        y_upper = y_lower + size_cluster_i\n",
    "\n",
    "        #color = cm.nipy_spectral(float(i) / n_clusters)\n",
    "        color = colors[i]\n",
    "        ax1.fill_betweenx(np.arange(y_lower, y_upper),\n",
    "                          0, ith_cluster_silhouette_values,\n",
    "                          facecolor=color, edgecolor=color, alpha=0.9)\n",
    "\n",
    "        # Label the silhouette plots with their cluster numbers at the middle\n",
    "        ax1.text(-0.05, y_lower + 0.5 * size_cluster_i, rotulos[i])\n",
    "\n",
    "        # Compute the new y_lower for next plot\n",
    "        y_lower = y_upper + 10  # 10 for the 0 samples\n",
    "\n",
    "    #ax1.set_title(\"Plotagem da silhueta para os clusters\")\n",
    "    t = ax1.set_xlabel(\"Valor do Coeficiente Silhueta\")\n",
    "    text = ax1.set_ylabel(\"Rótulo Cluster\")\n",
    "    ax1.set_yticklabels([\"\"])\n",
    "    ax1.figure.savefig(\"Gráficos/Silhueta\")\n",
    "    text.set_fontsize(20)\n",
    "    t.set_fontsize(20)\n",
    "    \n",
    "     # The vertical line for average silhouette score of all the values\n",
    "    ax1.axvline(x=silhouette_avg, color=\"black\", linestyle=\"--\")\n",
    "    \n",
    "\n",
    "   \n",
    "\n",
    "  \n",
    "   \n",
    "\n",
    "  \n",
    "\n",
    "plt.show()"
   ]
  },
  {
   "cell_type": "markdown",
   "metadata": {},
   "source": [
    "### Printa em 3D as dimensôes (0,1,4) Ciências Humanas, Matemática e Redação "
   ]
  },
  {
   "cell_type": "code",
   "execution_count": null,
   "metadata": {},
   "outputs": [],
   "source": [
    "from mpl_toolkits.mplot3d import Axes3D\n",
    "\n",
    "fig = plt.figure()\n",
    "ax2 = fig.add_subplot(111, projection='3d')\n",
    "    \n",
    "# 2nd Plot showing the actual clusters formed\n",
    "colors = cm.nipy_spectral(cluster_labels.astype(float) / n_clusters)\n",
    "#colors = [(0.8862745098039215, 0.2901960784313726, 0.2), (0.20392156862745098, 0.5411764705882353, 0.7411764705882353)]\n",
    "ax2.scatter(X[:, 0], X[:,1], X[:, 4], marker='.', s=30, lw=0, alpha=0.7,c=colors, edgecolor='k')\n",
    "    \n",
    "# Labeling the clusters\n",
    "centers = clusterer.cluster_centers_\n",
    "# Draw white circles at cluster centers\n",
    "ax2.scatter(centers[:, 0], centers[:, 1], centers[:, 4], marker='o', c=\"red\", alpha=1, s=80)\n",
    "\n",
    "#for i, c in enumerate(centers):\n",
    "#    ax2.scatter(c[0], c[1], c[4], marker='X', alpha=1,\n",
    "#                    s=10000, edgecolor='k')\n",
    "\n",
    "ax2.set_title(\"Visualização 3D dos dados agrupados.\")\n",
    "ax2.set_xlabel(\"Nota Matemática\")\n",
    "ax2.set_ylabel(\"Nota Redação\")\n",
    "ax2.set_zlabel(\"Nota Ciências Humanas\")\n",
    "ax2.set_xticklabels(\"\")\n",
    "ax2.set_yticklabels(\"\")\n",
    "ax2.set_zticklabels(\"\")\n",
    "\n",
    "ax2.figure.savefig(\"Gráficos/Clusterizacao3D\")\n",
    "\n",
    "plt.suptitle((\"Silhouette analysis for KMeans clustering on sample data \"\n",
    "                  \"with n_clusters = %d\" % n_clusters),\n",
    "                 fontsize=14, fontweight='bold')\n",
    "\n",
    "plt.show()"
   ]
  },
  {
   "cell_type": "code",
   "execution_count": null,
   "metadata": {},
   "outputs": [],
   "source": [
    "labels = pd.DataFrame(clusterer.labels_)\n",
    "notasEnem['Cluster'] = labels[0]\n",
    "notasEnem['Cluster'].value_counts() \n",
    "\n",
    "notasEnem['mediaNota'] = round(notasEnem['mediaNota'])\n"
   ]
  },
  {
   "cell_type": "code",
   "execution_count": null,
   "metadata": {
    "scrolled": true
   },
   "outputs": [],
   "source": [
    "path = \"Dados/dadosParaMineracaoRegrasAssociacao2019.csv\"\n",
    "\n",
    "dadosEnem = pd.read_csv(path,sep=';',encoding='latin1',low_memory=False)"
   ]
  },
  {
   "cell_type": "code",
   "execution_count": null,
   "metadata": {},
   "outputs": [],
   "source": [
    "\n",
    "dadosEnem[\"Cluster\"] = notasEnem[\"Cluster\"]\n",
    "\n",
    "dadosEnem.to_csv(\"agrupadas_notas_normalizadoQuantil.csv\",sep=\";\")\n"
   ]
  },
  {
   "cell_type": "markdown",
   "metadata": {},
   "source": [
    "## Usando algoritmo de mineração de regras de associação\n",
    "\n",
    "### Não foi usado para o artigo, recomendo utilizar a ferramenta Orange (mais fácil para isso conforme indicado no README"
   ]
  },
  {
   "cell_type": "code",
   "execution_count": null,
   "metadata": {},
   "outputs": [],
   "source": [
    "!pip install apyori\n",
    "from apyori import apriori"
   ]
  },
  {
   "cell_type": "code",
   "execution_count": null,
   "metadata": {},
   "outputs": [],
   "source": [
    "path = \"agrupadas_notas_normalizadoQuantil\"\n",
    "\n",
    "dadosEnemClusterizados = pd.read_csv(path,sep=';',encoding='latin1',low_memory=False,index_col=0)"
   ]
  },
  {
   "cell_type": "code",
   "execution_count": null,
   "metadata": {},
   "outputs": [],
   "source": [
    "dadosEnemClusterizados"
   ]
  },
  {
   "cell_type": "code",
   "execution_count": null,
   "metadata": {},
   "outputs": [],
   "source": [
    "records = []\n",
    "for i in range(0,dadosEnem.shape[0]):\n",
    "    records.append([str(dadosEnem.values[i,j]) for j in range(0, dadosEnem.shape[1] )])"
   ]
  },
  {
   "cell_type": "code",
   "execution_count": null,
   "metadata": {},
   "outputs": [],
   "source": [
    "def remove_values_from_list(the_list, val):\n",
    "   return [value for value in the_list if value != val]\n",
    "\n"
   ]
  },
  {
   "cell_type": "code",
   "execution_count": null,
   "metadata": {},
   "outputs": [],
   "source": [
    "newRecords = []\n",
    "for record in records:\n",
    "    record = remove_values_from_list(record,\"0\")\n",
    "    newRecords.append(record)"
   ]
  },
  {
   "cell_type": "code",
   "execution_count": null,
   "metadata": {},
   "outputs": [],
   "source": [
    "dadosParaMineracao = pd.DataFrame(newRecords);\n",
    "#dadosParaMineracao.to_csv(\"dadosEnemParaAssociacao.csv\",sep=\";\")"
   ]
  },
  {
   "cell_type": "code",
   "execution_count": null,
   "metadata": {},
   "outputs": [],
   "source": [
    "association_rules = apriori(newRecords, min_support=0.15, min_confidence=0.4, min_lift=3, min_length=2)\n"
   ]
  },
  {
   "cell_type": "code",
   "execution_count": null,
   "metadata": {},
   "outputs": [],
   "source": [
    "association_results = list(association_rules)\n",
    "\n"
   ]
  },
  {
   "cell_type": "code",
   "execution_count": null,
   "metadata": {},
   "outputs": [],
   "source": [
    "association_rules"
   ]
  },
  {
   "cell_type": "code",
   "execution_count": null,
   "metadata": {},
   "outputs": [],
   "source": [
    "for item in association_results:\n",
    "\n",
    "    # first index of the inner list\n",
    "    # Contains base item and add item\n",
    "    pair = item[0] \n",
    "    items = [x for x in pair]\n",
    "    print(\"Rule: \" + items[0] + \" -> \" + items[1])\n",
    "\n",
    "    #second index of the inner list\n",
    "    print(\"Support: \" + str(item[1]))\n",
    "\n",
    "    #third index of the list located at 0th\n",
    "    #of the third index of the inner list\n",
    "\n",
    "    print(\"Confidence: \" + str(item[2][0][2]))\n",
    "    print(\"Lift: \" + str(item[2][0][3]))\n",
    "    print(\"=====================================\")"
   ]
  },
  {
   "cell_type": "code",
   "execution_count": null,
   "metadata": {},
   "outputs": [],
   "source": []
  }
 ],
 "metadata": {
  "hide_input": false,
  "kernelspec": {
   "display_name": "Python 3",
   "language": "python",
   "name": "python3"
  },
  "language_info": {
   "codemirror_mode": {
    "name": "ipython",
    "version": 3
   },
   "file_extension": ".py",
   "mimetype": "text/x-python",
   "name": "python",
   "nbconvert_exporter": "python",
   "pygments_lexer": "ipython3",
   "version": "3.7.6"
  }
 },
 "nbformat": 4,
 "nbformat_minor": 4
}

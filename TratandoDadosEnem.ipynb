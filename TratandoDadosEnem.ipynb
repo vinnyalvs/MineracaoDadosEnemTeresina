{
 "cells": [
  {
   "cell_type": "code",
   "execution_count": 1,
   "metadata": {
    "colab": {},
    "colab_type": "code",
    "id": "Ce_jZdzf0WRL"
   },
   "outputs": [],
   "source": [
    "#!pip install apyori\n",
    "#!pip install mlxtend"
   ]
  },
  {
   "cell_type": "code",
   "execution_count": 2,
   "metadata": {
    "colab": {},
    "colab_type": "code",
    "id": "1PnnheVd0JyG"
   },
   "outputs": [],
   "source": [
    "import pandas as pd\n",
    "import numpy as np\n",
    "import matplotlib.pyplot as plt\n",
    "import seaborn as sns\n"
   ]
  },
  {
   "cell_type": "code",
   "execution_count": 3,
   "metadata": {},
   "outputs": [],
   "source": [
    "path = \"Dados/MicroDados2019Teresina.csv\""
   ]
  },
  {
   "cell_type": "code",
   "execution_count": 4,
   "metadata": {
    "colab": {
     "base_uri": "https://localhost:8080/",
     "height": 126
    },
    "colab_type": "code",
    "id": "VZtpLozA0JyU",
    "outputId": "ee7d1823-78f3-464c-b457-1c8ac910a50c"
   },
   "outputs": [
    {
     "data": {
      "text/html": [
       "<div>\n",
       "<style scoped>\n",
       "    .dataframe tbody tr th:only-of-type {\n",
       "        vertical-align: middle;\n",
       "    }\n",
       "\n",
       "    .dataframe tbody tr th {\n",
       "        vertical-align: top;\n",
       "    }\n",
       "\n",
       "    .dataframe thead th {\n",
       "        text-align: right;\n",
       "    }\n",
       "</style>\n",
       "<table border=\"1\" class=\"dataframe\">\n",
       "  <thead>\n",
       "    <tr style=\"text-align: right;\">\n",
       "      <th></th>\n",
       "      <th>NU_INSCRICAO</th>\n",
       "      <th>CO_MUNICIPIO_RESIDENCIA</th>\n",
       "      <th>CO_UF_RESIDENCIA</th>\n",
       "      <th>NU_IDADE</th>\n",
       "      <th>TP_SEXO</th>\n",
       "      <th>TP_ESTADO_CIVIL</th>\n",
       "      <th>TP_COR_RACA</th>\n",
       "      <th>TP_NACIONALIDADE</th>\n",
       "      <th>CO_MUNICIPIO_NASCIMENTO</th>\n",
       "      <th>NO_MUNICIPIO_NASCIMENTO</th>\n",
       "      <th>...</th>\n",
       "      <th>Q016</th>\n",
       "      <th>Q017</th>\n",
       "      <th>Q018</th>\n",
       "      <th>Q019</th>\n",
       "      <th>Q020</th>\n",
       "      <th>Q021</th>\n",
       "      <th>Q022</th>\n",
       "      <th>Q023</th>\n",
       "      <th>Q024</th>\n",
       "      <th>Q025</th>\n",
       "    </tr>\n",
       "  </thead>\n",
       "  <tbody>\n",
       "    <tr>\n",
       "      <th>0</th>\n",
       "      <td>190001095296</td>\n",
       "      <td>2112209</td>\n",
       "      <td>21</td>\n",
       "      <td>17</td>\n",
       "      <td>M</td>\n",
       "      <td>1</td>\n",
       "      <td>3</td>\n",
       "      <td>2</td>\n",
       "      <td>NaN</td>\n",
       "      <td>NaN</td>\n",
       "      <td>...</td>\n",
       "      <td>A</td>\n",
       "      <td>A</td>\n",
       "      <td>A</td>\n",
       "      <td>B</td>\n",
       "      <td>A</td>\n",
       "      <td>A</td>\n",
       "      <td>B</td>\n",
       "      <td>A</td>\n",
       "      <td>A</td>\n",
       "      <td>A</td>\n",
       "    </tr>\n",
       "    <tr>\n",
       "      <th>1</th>\n",
       "      <td>190001095696</td>\n",
       "      <td>2211001</td>\n",
       "      <td>22</td>\n",
       "      <td>16</td>\n",
       "      <td>M</td>\n",
       "      <td>1</td>\n",
       "      <td>3</td>\n",
       "      <td>1</td>\n",
       "      <td>2112209.0</td>\n",
       "      <td>Timon</td>\n",
       "      <td>...</td>\n",
       "      <td>B</td>\n",
       "      <td>A</td>\n",
       "      <td>A</td>\n",
       "      <td>B</td>\n",
       "      <td>B</td>\n",
       "      <td>A</td>\n",
       "      <td>D</td>\n",
       "      <td>A</td>\n",
       "      <td>A</td>\n",
       "      <td>A</td>\n",
       "    </tr>\n",
       "    <tr>\n",
       "      <th>2</th>\n",
       "      <td>190001095731</td>\n",
       "      <td>2112209</td>\n",
       "      <td>21</td>\n",
       "      <td>18</td>\n",
       "      <td>F</td>\n",
       "      <td>1</td>\n",
       "      <td>3</td>\n",
       "      <td>1</td>\n",
       "      <td>2211001.0</td>\n",
       "      <td>Teresina</td>\n",
       "      <td>...</td>\n",
       "      <td>A</td>\n",
       "      <td>A</td>\n",
       "      <td>A</td>\n",
       "      <td>B</td>\n",
       "      <td>B</td>\n",
       "      <td>A</td>\n",
       "      <td>C</td>\n",
       "      <td>A</td>\n",
       "      <td>B</td>\n",
       "      <td>B</td>\n",
       "    </tr>\n",
       "    <tr>\n",
       "      <th>3</th>\n",
       "      <td>190001095751</td>\n",
       "      <td>2112209</td>\n",
       "      <td>21</td>\n",
       "      <td>19</td>\n",
       "      <td>M</td>\n",
       "      <td>1</td>\n",
       "      <td>3</td>\n",
       "      <td>1</td>\n",
       "      <td>3526902.0</td>\n",
       "      <td>Limeira</td>\n",
       "      <td>...</td>\n",
       "      <td>B</td>\n",
       "      <td>A</td>\n",
       "      <td>B</td>\n",
       "      <td>B</td>\n",
       "      <td>A</td>\n",
       "      <td>A</td>\n",
       "      <td>D</td>\n",
       "      <td>A</td>\n",
       "      <td>A</td>\n",
       "      <td>B</td>\n",
       "    </tr>\n",
       "    <tr>\n",
       "      <th>4</th>\n",
       "      <td>190001095932</td>\n",
       "      <td>2211001</td>\n",
       "      <td>22</td>\n",
       "      <td>38</td>\n",
       "      <td>F</td>\n",
       "      <td>1</td>\n",
       "      <td>0</td>\n",
       "      <td>1</td>\n",
       "      <td>2211001.0</td>\n",
       "      <td>Teresina</td>\n",
       "      <td>...</td>\n",
       "      <td>A</td>\n",
       "      <td>A</td>\n",
       "      <td>A</td>\n",
       "      <td>B</td>\n",
       "      <td>A</td>\n",
       "      <td>A</td>\n",
       "      <td>C</td>\n",
       "      <td>A</td>\n",
       "      <td>A</td>\n",
       "      <td>B</td>\n",
       "    </tr>\n",
       "    <tr>\n",
       "      <th>...</th>\n",
       "      <td>...</td>\n",
       "      <td>...</td>\n",
       "      <td>...</td>\n",
       "      <td>...</td>\n",
       "      <td>...</td>\n",
       "      <td>...</td>\n",
       "      <td>...</td>\n",
       "      <td>...</td>\n",
       "      <td>...</td>\n",
       "      <td>...</td>\n",
       "      <td>...</td>\n",
       "      <td>...</td>\n",
       "      <td>...</td>\n",
       "      <td>...</td>\n",
       "      <td>...</td>\n",
       "      <td>...</td>\n",
       "      <td>...</td>\n",
       "      <td>...</td>\n",
       "      <td>...</td>\n",
       "      <td>...</td>\n",
       "      <td>...</td>\n",
       "    </tr>\n",
       "    <tr>\n",
       "      <th>8087</th>\n",
       "      <td>190006118415</td>\n",
       "      <td>2211001</td>\n",
       "      <td>22</td>\n",
       "      <td>18</td>\n",
       "      <td>M</td>\n",
       "      <td>1</td>\n",
       "      <td>3</td>\n",
       "      <td>1</td>\n",
       "      <td>2211001.0</td>\n",
       "      <td>Teresina</td>\n",
       "      <td>...</td>\n",
       "      <td>B</td>\n",
       "      <td>A</td>\n",
       "      <td>A</td>\n",
       "      <td>B</td>\n",
       "      <td>A</td>\n",
       "      <td>B</td>\n",
       "      <td>E</td>\n",
       "      <td>A</td>\n",
       "      <td>B</td>\n",
       "      <td>B</td>\n",
       "    </tr>\n",
       "    <tr>\n",
       "      <th>8088</th>\n",
       "      <td>190006119693</td>\n",
       "      <td>2211001</td>\n",
       "      <td>22</td>\n",
       "      <td>17</td>\n",
       "      <td>F</td>\n",
       "      <td>1</td>\n",
       "      <td>3</td>\n",
       "      <td>1</td>\n",
       "      <td>2211001.0</td>\n",
       "      <td>Teresina</td>\n",
       "      <td>...</td>\n",
       "      <td>A</td>\n",
       "      <td>A</td>\n",
       "      <td>A</td>\n",
       "      <td>B</td>\n",
       "      <td>A</td>\n",
       "      <td>A</td>\n",
       "      <td>C</td>\n",
       "      <td>A</td>\n",
       "      <td>A</td>\n",
       "      <td>A</td>\n",
       "    </tr>\n",
       "    <tr>\n",
       "      <th>8089</th>\n",
       "      <td>190006119702</td>\n",
       "      <td>2211001</td>\n",
       "      <td>22</td>\n",
       "      <td>18</td>\n",
       "      <td>F</td>\n",
       "      <td>1</td>\n",
       "      <td>3</td>\n",
       "      <td>1</td>\n",
       "      <td>2103000.0</td>\n",
       "      <td>Caxias</td>\n",
       "      <td>...</td>\n",
       "      <td>A</td>\n",
       "      <td>A</td>\n",
       "      <td>A</td>\n",
       "      <td>B</td>\n",
       "      <td>B</td>\n",
       "      <td>A</td>\n",
       "      <td>C</td>\n",
       "      <td>A</td>\n",
       "      <td>A</td>\n",
       "      <td>A</td>\n",
       "    </tr>\n",
       "    <tr>\n",
       "      <th>8090</th>\n",
       "      <td>190006119724</td>\n",
       "      <td>2211001</td>\n",
       "      <td>22</td>\n",
       "      <td>17</td>\n",
       "      <td>F</td>\n",
       "      <td>1</td>\n",
       "      <td>2</td>\n",
       "      <td>1</td>\n",
       "      <td>2211001.0</td>\n",
       "      <td>Teresina</td>\n",
       "      <td>...</td>\n",
       "      <td>B</td>\n",
       "      <td>A</td>\n",
       "      <td>A</td>\n",
       "      <td>B</td>\n",
       "      <td>A</td>\n",
       "      <td>A</td>\n",
       "      <td>C</td>\n",
       "      <td>A</td>\n",
       "      <td>A</td>\n",
       "      <td>B</td>\n",
       "    </tr>\n",
       "    <tr>\n",
       "      <th>8091</th>\n",
       "      <td>190006119734</td>\n",
       "      <td>2211001</td>\n",
       "      <td>22</td>\n",
       "      <td>18</td>\n",
       "      <td>F</td>\n",
       "      <td>1</td>\n",
       "      <td>3</td>\n",
       "      <td>1</td>\n",
       "      <td>2211001.0</td>\n",
       "      <td>Teresina</td>\n",
       "      <td>...</td>\n",
       "      <td>A</td>\n",
       "      <td>A</td>\n",
       "      <td>A</td>\n",
       "      <td>B</td>\n",
       "      <td>B</td>\n",
       "      <td>A</td>\n",
       "      <td>E</td>\n",
       "      <td>A</td>\n",
       "      <td>B</td>\n",
       "      <td>B</td>\n",
       "    </tr>\n",
       "  </tbody>\n",
       "</table>\n",
       "<p>8092 rows × 71 columns</p>\n",
       "</div>"
      ],
      "text/plain": [
       "      NU_INSCRICAO  CO_MUNICIPIO_RESIDENCIA  CO_UF_RESIDENCIA  NU_IDADE  \\\n",
       "0     190001095296                  2112209                21        17   \n",
       "1     190001095696                  2211001                22        16   \n",
       "2     190001095731                  2112209                21        18   \n",
       "3     190001095751                  2112209                21        19   \n",
       "4     190001095932                  2211001                22        38   \n",
       "...            ...                      ...               ...       ...   \n",
       "8087  190006118415                  2211001                22        18   \n",
       "8088  190006119693                  2211001                22        17   \n",
       "8089  190006119702                  2211001                22        18   \n",
       "8090  190006119724                  2211001                22        17   \n",
       "8091  190006119734                  2211001                22        18   \n",
       "\n",
       "     TP_SEXO  TP_ESTADO_CIVIL  TP_COR_RACA  TP_NACIONALIDADE  \\\n",
       "0          M                1            3                 2   \n",
       "1          M                1            3                 1   \n",
       "2          F                1            3                 1   \n",
       "3          M                1            3                 1   \n",
       "4          F                1            0                 1   \n",
       "...      ...              ...          ...               ...   \n",
       "8087       M                1            3                 1   \n",
       "8088       F                1            3                 1   \n",
       "8089       F                1            3                 1   \n",
       "8090       F                1            2                 1   \n",
       "8091       F                1            3                 1   \n",
       "\n",
       "      CO_MUNICIPIO_NASCIMENTO NO_MUNICIPIO_NASCIMENTO  ...  Q016 Q017  Q018  \\\n",
       "0                         NaN                     NaN  ...     A    A     A   \n",
       "1                   2112209.0                   Timon  ...     B    A     A   \n",
       "2                   2211001.0                Teresina  ...     A    A     A   \n",
       "3                   3526902.0                 Limeira  ...     B    A     B   \n",
       "4                   2211001.0                Teresina  ...     A    A     A   \n",
       "...                       ...                     ...  ...   ...  ...   ...   \n",
       "8087                2211001.0                Teresina  ...     B    A     A   \n",
       "8088                2211001.0                Teresina  ...     A    A     A   \n",
       "8089                2103000.0                  Caxias  ...     A    A     A   \n",
       "8090                2211001.0                Teresina  ...     B    A     A   \n",
       "8091                2211001.0                Teresina  ...     A    A     A   \n",
       "\n",
       "      Q019  Q020  Q021  Q022  Q023  Q024 Q025  \n",
       "0        B     A     A     B     A     A    A  \n",
       "1        B     B     A     D     A     A    A  \n",
       "2        B     B     A     C     A     B    B  \n",
       "3        B     A     A     D     A     A    B  \n",
       "4        B     A     A     C     A     A    B  \n",
       "...    ...   ...   ...   ...   ...   ...  ...  \n",
       "8087     B     A     B     E     A     B    B  \n",
       "8088     B     A     A     C     A     A    A  \n",
       "8089     B     B     A     C     A     A    A  \n",
       "8090     B     A     A     C     A     A    B  \n",
       "8091     B     B     A     E     A     B    B  \n",
       "\n",
       "[8092 rows x 71 columns]"
      ]
     },
     "execution_count": 4,
     "metadata": {},
     "output_type": "execute_result"
    }
   ],
   "source": [
    "dadosEnem = pd.read_csv(path,sep=';',encoding='latin1',low_memory=False)\n",
    "\n",
    "dadosEnem"
   ]
  },
  {
   "cell_type": "code",
   "execution_count": 5,
   "metadata": {
    "colab": {
     "base_uri": "https://localhost:8080/",
     "height": 1000
    },
    "colab_type": "code",
    "id": "_nRztMfIWL7d",
    "outputId": "c71ea091-4435-4878-fa62-6f21e3105bf1"
   },
   "outputs": [
    {
     "name": "stdout",
     "output_type": "stream",
     "text": [
      "<class 'pandas.core.frame.DataFrame'>\n",
      "RangeIndex: 8092 entries, 0 to 8091\n",
      "Data columns (total 71 columns):\n",
      " #   Column                   Non-Null Count  Dtype  \n",
      "---  ------                   --------------  -----  \n",
      " 0   NU_INSCRICAO             8092 non-null   int64  \n",
      " 1   CO_MUNICIPIO_RESIDENCIA  8092 non-null   int64  \n",
      " 2   CO_UF_RESIDENCIA         8092 non-null   int64  \n",
      " 3   NU_IDADE                 8092 non-null   int64  \n",
      " 4   TP_SEXO                  8092 non-null   object \n",
      " 5   TP_ESTADO_CIVIL          8092 non-null   int64  \n",
      " 6   TP_COR_RACA              8092 non-null   int64  \n",
      " 7   TP_NACIONALIDADE         8092 non-null   int64  \n",
      " 8   CO_MUNICIPIO_NASCIMENTO  7761 non-null   float64\n",
      " 9   NO_MUNICIPIO_NASCIMENTO  7761 non-null   object \n",
      " 10  CO_UF_NASCIMENTO         7761 non-null   float64\n",
      " 11  SG_UF_NASCIMENTO         7761 non-null   object \n",
      " 12  TP_ST_CONCLUSAO          8092 non-null   int64  \n",
      " 13  TP_ANO_CONCLUIU          8092 non-null   int64  \n",
      " 14  TP_ESCOLA                8092 non-null   int64  \n",
      " 15  TP_ENSINO                7275 non-null   float64\n",
      " 16  IN_TREINEIRO             8092 non-null   int64  \n",
      " 17  CO_ESCOLA                8092 non-null   float64\n",
      " 18  CO_MUNICIPIO_ESC_x       8092 non-null   float64\n",
      " 19  NO_MUNICIPIO_ESC         8092 non-null   object \n",
      " 20  SG_UF_ESC                8092 non-null   object \n",
      " 21  TP_DEPENDENCIA_ADM_ESC   8092 non-null   float64\n",
      " 22  TP_LOCALIZACAO_ESC       8092 non-null   float64\n",
      " 23  TP_SIT_FUNC_ESC          8092 non-null   float64\n",
      " 24  CO_MUNICIPIO_ESC_y       8092 non-null   float64\n",
      " 25  CO_MUNICIPIO_PROVA       8092 non-null   int64  \n",
      " 26  NO_MUNICIPIO_PROVA       8092 non-null   object \n",
      " 27  CO_UF_PROVA              8092 non-null   int64  \n",
      " 28  SG_UF_PROVA              8092 non-null   object \n",
      " 29  TP_PRESENCA_CN           8092 non-null   int64  \n",
      " 30  TP_PRESENCA_CH           8092 non-null   int64  \n",
      " 31  TP_PRESENCA_LC           8092 non-null   int64  \n",
      " 32  TP_PRESENCA_MT           8092 non-null   int64  \n",
      " 33  NU_NOTA_CN               7271 non-null   float64\n",
      " 34  NU_NOTA_CH               7452 non-null   float64\n",
      " 35  NU_NOTA_LC               7452 non-null   float64\n",
      " 36  NU_NOTA_MT               7271 non-null   float64\n",
      " 37  TP_LINGUA                8092 non-null   int64  \n",
      " 38  TP_STATUS_REDACAO        7452 non-null   float64\n",
      " 39  NU_NOTA_COMP1            7452 non-null   float64\n",
      " 40  NU_NOTA_COMP2            7452 non-null   float64\n",
      " 41  NU_NOTA_COMP3            7452 non-null   float64\n",
      " 42  NU_NOTA_COMP4            7452 non-null   float64\n",
      " 43  NU_NOTA_COMP5            7452 non-null   float64\n",
      " 44  NU_NOTA_REDACAO          7452 non-null   float64\n",
      " 45  CO_MUNICIPIO_ESC         8092 non-null   float64\n",
      " 46  Q001                     8092 non-null   object \n",
      " 47  Q002                     8092 non-null   object \n",
      " 48  Q003                     8092 non-null   object \n",
      " 49  Q004                     8092 non-null   object \n",
      " 50  Q005                     8092 non-null   int64  \n",
      " 51  Q006                     8092 non-null   object \n",
      " 52  Q007                     8092 non-null   object \n",
      " 53  Q008                     8092 non-null   object \n",
      " 54  Q009                     8092 non-null   object \n",
      " 55  Q010                     8092 non-null   object \n",
      " 56  Q011                     8092 non-null   object \n",
      " 57  Q012                     8092 non-null   object \n",
      " 58  Q013                     8092 non-null   object \n",
      " 59  Q014                     8092 non-null   object \n",
      " 60  Q015                     8092 non-null   object \n",
      " 61  Q016                     8092 non-null   object \n",
      " 62  Q017                     8092 non-null   object \n",
      " 63  Q018                     8092 non-null   object \n",
      " 64  Q019                     8092 non-null   object \n",
      " 65  Q020                     8092 non-null   object \n",
      " 66  Q021                     8092 non-null   object \n",
      " 67  Q022                     8092 non-null   object \n",
      " 68  Q023                     8092 non-null   object \n",
      " 69  Q024                     8092 non-null   object \n",
      " 70  Q025                     8092 non-null   object \n",
      "dtypes: float64(21), int64(19), object(31)\n",
      "memory usage: 4.4+ MB\n"
     ]
    }
   ],
   "source": [
    "dadosEnem.info()"
   ]
  },
  {
   "cell_type": "markdown",
   "metadata": {
    "colab_type": "text",
    "id": "rhXgOy1W0Jyn"
   },
   "source": [
    "#Colunas a serem retiradas\n",
    "* SG_UF_NASCIMENTO (valor duplicado)\n",
    "* TP_Nacionalidade\n",
    "* TP_Estado_Civil\n",
    "* SG_UF_ESC\n",
    "* SG_UF_PROVA\n",
    "* CO_MUNICIPIO_PROVA (nesta base, as outras referências aos municipios foram feitas por nome)\n",
    "\n",
    "O que mais foi feito:\n",
    "* Retirada dos valores nan e várias colunas\n",
    "* Tratamento de dados\n",
    "* Tentativa de rodar o apriori\n"
   ]
  },
  {
   "cell_type": "code",
   "execution_count": null,
   "metadata": {
    "colab": {},
    "colab_type": "code",
    "id": "O1PiVCUZcLEi"
   },
   "outputs": [],
   "source": []
  },
  {
   "cell_type": "code",
   "execution_count": 6,
   "metadata": {
    "colab": {},
    "colab_type": "code",
    "id": "hD_O64660Jyp"
   },
   "outputs": [],
   "source": [
    "dadosEnem = dadosEnem.drop(['SG_UF_NASCIMENTO' ], axis=1)\n",
    "dadosEnem = dadosEnem.drop(['TP_NACIONALIDADE' ], axis=1)\n",
    "dadosEnem = dadosEnem.drop(['TP_ESTADO_CIVIL' ], axis=1)\n",
    "#dadosEnem = dadosEnem.drop(['SG_UF_ESC'], axis=1)\n",
    "dadosEnem = dadosEnem.drop(['CO_MUNICIPIO_ESC_x'], axis=1)\n",
    "dadosEnem = dadosEnem.drop(['CO_MUNICIPIO_ESC_y'], axis=1)\n",
    "dadosEnem = dadosEnem.drop(['SG_UF_PROVA'], axis=1)\n",
    "dadosEnem = dadosEnem.drop(['CO_MUNICIPIO_PROVA'], axis=1)\n",
    "dadosEnem = dadosEnem.drop(['TP_PRESENCA_CN'], axis=1)\n",
    "dadosEnem = dadosEnem.drop(['TP_PRESENCA_CH'], axis=1)\n",
    "dadosEnem = dadosEnem.drop(['TP_PRESENCA_LC'], axis=1)\n",
    "dadosEnem = dadosEnem.drop(['TP_PRESENCA_MT'], axis=1)\n",
    "\n",
    "\n",
    "\n",
    "\n",
    "\n",
    "\n",
    "\n",
    "\n",
    "\n",
    "\n",
    "\n",
    "\n"
   ]
  },
  {
   "cell_type": "markdown",
   "metadata": {
    "colab_type": "text",
    "id": "p52fIZWGXuni"
   },
   "source": [
    "## É necessário mudar o tipo de algumas colunas, já que li todas as colunas como tipo categoria"
   ]
  },
  {
   "cell_type": "markdown",
   "metadata": {
    "colab_type": "text",
    "id": "nJbOZvNP0ksS"
   },
   "source": [
    "# Tratando dados faltantes\n",
    "\n",
    "TP_ENSINO , TP_SIT_FUNC_ESC"
   ]
  },
  {
   "cell_type": "code",
   "execution_count": 7,
   "metadata": {
    "colab": {},
    "colab_type": "code",
    "id": "KW6qXUfN0JzC"
   },
   "outputs": [],
   "source": [
    "dadosEnem['TP_ENSINO'].fillna(0,inplace=True)\n",
    "dadosEnem['TP_SIT_FUNC_ESC'].fillna(0,inplace=True)\n",
    "dadosEnem['NO_MUNICIPIO_NASCIMENTO'].fillna(\"Não Informado\",inplace=True)\n",
    "dadosEnem['CO_UF_NASCIMENTO'].fillna('00',inplace=True)"
   ]
  },
  {
   "cell_type": "markdown",
   "metadata": {
    "colab_type": "text",
    "id": "6c1JHdw50JzO"
   },
   "source": [
    "#Para calcular a idade de campos Nan vou usar a técninca de dubstituir os campos pela média dos valores da coluna"
   ]
  },
  {
   "cell_type": "code",
   "execution_count": 8,
   "metadata": {
    "colab": {},
    "colab_type": "code",
    "id": "GzasAVDn0JzF"
   },
   "outputs": [],
   "source": [
    "\n",
    "dadosEnem['NU_IDADE'].fillna(dadosEnem['NU_IDADE'].mean(),inplace=True)"
   ]
  },
  {
   "cell_type": "code",
   "execution_count": 9,
   "metadata": {},
   "outputs": [
    {
     "name": "stdout",
     "output_type": "stream",
     "text": [
      "<class 'pandas.core.frame.DataFrame'>\n",
      "RangeIndex: 8092 entries, 0 to 8091\n",
      "Data columns (total 60 columns):\n",
      " #   Column                   Non-Null Count  Dtype  \n",
      "---  ------                   --------------  -----  \n",
      " 0   NU_INSCRICAO             8092 non-null   int64  \n",
      " 1   CO_MUNICIPIO_RESIDENCIA  8092 non-null   int64  \n",
      " 2   CO_UF_RESIDENCIA         8092 non-null   int64  \n",
      " 3   NU_IDADE                 8092 non-null   int64  \n",
      " 4   TP_SEXO                  8092 non-null   object \n",
      " 5   TP_COR_RACA              8092 non-null   int64  \n",
      " 6   CO_MUNICIPIO_NASCIMENTO  7761 non-null   float64\n",
      " 7   NO_MUNICIPIO_NASCIMENTO  8092 non-null   object \n",
      " 8   CO_UF_NASCIMENTO         8092 non-null   object \n",
      " 9   TP_ST_CONCLUSAO          8092 non-null   int64  \n",
      " 10  TP_ANO_CONCLUIU          8092 non-null   int64  \n",
      " 11  TP_ESCOLA                8092 non-null   int64  \n",
      " 12  TP_ENSINO                8092 non-null   float64\n",
      " 13  IN_TREINEIRO             8092 non-null   int64  \n",
      " 14  CO_ESCOLA                8092 non-null   float64\n",
      " 15  NO_MUNICIPIO_ESC         8092 non-null   object \n",
      " 16  SG_UF_ESC                8092 non-null   object \n",
      " 17  TP_DEPENDENCIA_ADM_ESC   8092 non-null   float64\n",
      " 18  TP_LOCALIZACAO_ESC       8092 non-null   float64\n",
      " 19  TP_SIT_FUNC_ESC          8092 non-null   float64\n",
      " 20  NO_MUNICIPIO_PROVA       8092 non-null   object \n",
      " 21  CO_UF_PROVA              8092 non-null   int64  \n",
      " 22  NU_NOTA_CN               7271 non-null   float64\n",
      " 23  NU_NOTA_CH               7452 non-null   float64\n",
      " 24  NU_NOTA_LC               7452 non-null   float64\n",
      " 25  NU_NOTA_MT               7271 non-null   float64\n",
      " 26  TP_LINGUA                8092 non-null   int64  \n",
      " 27  TP_STATUS_REDACAO        7452 non-null   float64\n",
      " 28  NU_NOTA_COMP1            7452 non-null   float64\n",
      " 29  NU_NOTA_COMP2            7452 non-null   float64\n",
      " 30  NU_NOTA_COMP3            7452 non-null   float64\n",
      " 31  NU_NOTA_COMP4            7452 non-null   float64\n",
      " 32  NU_NOTA_COMP5            7452 non-null   float64\n",
      " 33  NU_NOTA_REDACAO          7452 non-null   float64\n",
      " 34  CO_MUNICIPIO_ESC         8092 non-null   float64\n",
      " 35  Q001                     8092 non-null   object \n",
      " 36  Q002                     8092 non-null   object \n",
      " 37  Q003                     8092 non-null   object \n",
      " 38  Q004                     8092 non-null   object \n",
      " 39  Q005                     8092 non-null   int64  \n",
      " 40  Q006                     8092 non-null   object \n",
      " 41  Q007                     8092 non-null   object \n",
      " 42  Q008                     8092 non-null   object \n",
      " 43  Q009                     8092 non-null   object \n",
      " 44  Q010                     8092 non-null   object \n",
      " 45  Q011                     8092 non-null   object \n",
      " 46  Q012                     8092 non-null   object \n",
      " 47  Q013                     8092 non-null   object \n",
      " 48  Q014                     8092 non-null   object \n",
      " 49  Q015                     8092 non-null   object \n",
      " 50  Q016                     8092 non-null   object \n",
      " 51  Q017                     8092 non-null   object \n",
      " 52  Q018                     8092 non-null   object \n",
      " 53  Q019                     8092 non-null   object \n",
      " 54  Q020                     8092 non-null   object \n",
      " 55  Q021                     8092 non-null   object \n",
      " 56  Q022                     8092 non-null   object \n",
      " 57  Q023                     8092 non-null   object \n",
      " 58  Q024                     8092 non-null   object \n",
      " 59  Q025                     8092 non-null   object \n",
      "dtypes: float64(18), int64(12), object(30)\n",
      "memory usage: 3.7+ MB\n"
     ]
    }
   ],
   "source": [
    "dadosEnem.info()"
   ]
  },
  {
   "cell_type": "markdown",
   "metadata": {
    "colab_type": "text",
    "id": "hxy6I3F11NmN"
   },
   "source": [
    "#Problema: As Notas tem muitos campos sem valor, devido a ausência de alunos nas provas. Substituir todos os valores por 0 pode colocoar viés na base.\n",
    "\n",
    "Valores relacionados a média ficariam distorcidos.\n",
    "\n",
    "A solução que irei tomar é remover essas linhas com notas faltantes da minha base tratada. Caso voltemos atŕas é só descomentar e executar a célula abaixo que substitui as notas \"vazias\" por 0."
   ]
  },
  {
   "cell_type": "code",
   "execution_count": 10,
   "metadata": {
    "colab": {
     "base_uri": "https://localhost:8080/",
     "height": 55
    },
    "colab_type": "code",
    "id": "AHshJqg60JzH",
    "outputId": "2856f328-f369-47ca-8c4a-9351521f7cf4",
    "scrolled": true
   },
   "outputs": [
    {
     "data": {
      "text/plain": [
       "\" dadosEnem['NU_NOTA_CN'].fillna(0,inplace=True)\\ndadosEnem['NU_NOTA_CH'].fillna(0,inplace=True)\\ndadosEnem['NU_NOTA_LC'].fillna(0,inplace=True)\\ndadosEnem['NU_NOTA_MT'].fillna(0,inplace=True)\\ndadosEnem['TP_STATUS_REDACAO'].fillna(0,inplace=True)\\ndadosEnem['NU_NOTA_COMP1'].fillna(0,inplace=True)\\ndadosEnem['NU_NOTA_COMP2'].fillna(0,inplace=True)\\ndadosEnem['NU_NOTA_COMP3'].fillna(0,inplace=True)\\ndadosEnem['NU_NOTA_COMP4'].fillna(0,inplace=True)\\ndadosEnem['NU_NOTA_COMP5'].fillna(0,inplace=True)\\ndadosEnem['NU_NOTA_REDACAO'].fillna(0,inplace=True) \""
      ]
     },
     "execution_count": 10,
     "metadata": {},
     "output_type": "execute_result"
    }
   ],
   "source": [
    "''' dadosEnem['NU_NOTA_CN'].fillna(0,inplace=True)\n",
    "dadosEnem['NU_NOTA_CH'].fillna(0,inplace=True)\n",
    "dadosEnem['NU_NOTA_LC'].fillna(0,inplace=True)\n",
    "dadosEnem['NU_NOTA_MT'].fillna(0,inplace=True)\n",
    "dadosEnem['TP_STATUS_REDACAO'].fillna(0,inplace=True)\n",
    "dadosEnem['NU_NOTA_COMP1'].fillna(0,inplace=True)\n",
    "dadosEnem['NU_NOTA_COMP2'].fillna(0,inplace=True)\n",
    "dadosEnem['NU_NOTA_COMP3'].fillna(0,inplace=True)\n",
    "dadosEnem['NU_NOTA_COMP4'].fillna(0,inplace=True)\n",
    "dadosEnem['NU_NOTA_COMP5'].fillna(0,inplace=True)\n",
    "dadosEnem['NU_NOTA_REDACAO'].fillna(0,inplace=True) '''"
   ]
  },
  {
   "cell_type": "code",
   "execution_count": 11,
   "metadata": {
    "colab": {},
    "colab_type": "code",
    "id": "wZNoRrE50JzK"
   },
   "outputs": [],
   "source": [
    "#Limpando linhas vazias\n",
    "dadosTratados = dadosEnem.dropna()\n",
    "  "
   ]
  },
  {
   "cell_type": "code",
   "execution_count": 12,
   "metadata": {
    "colab": {
     "base_uri": "https://localhost:8080/",
     "height": 1000
    },
    "colab_type": "code",
    "id": "ViZ0Kg400JzP",
    "outputId": "883d5c62-f9fd-4d5d-bd85-eb26607de131"
   },
   "outputs": [
    {
     "name": "stdout",
     "output_type": "stream",
     "text": [
      "<class 'pandas.core.frame.DataFrame'>\n",
      "Int64Index: 6974 entries, 1 to 8091\n",
      "Data columns (total 60 columns):\n",
      " #   Column                   Non-Null Count  Dtype  \n",
      "---  ------                   --------------  -----  \n",
      " 0   NU_INSCRICAO             6974 non-null   int64  \n",
      " 1   CO_MUNICIPIO_RESIDENCIA  6974 non-null   int64  \n",
      " 2   CO_UF_RESIDENCIA         6974 non-null   int64  \n",
      " 3   NU_IDADE                 6974 non-null   int64  \n",
      " 4   TP_SEXO                  6974 non-null   object \n",
      " 5   TP_COR_RACA              6974 non-null   int64  \n",
      " 6   CO_MUNICIPIO_NASCIMENTO  6974 non-null   float64\n",
      " 7   NO_MUNICIPIO_NASCIMENTO  6974 non-null   object \n",
      " 8   CO_UF_NASCIMENTO         6974 non-null   object \n",
      " 9   TP_ST_CONCLUSAO          6974 non-null   int64  \n",
      " 10  TP_ANO_CONCLUIU          6974 non-null   int64  \n",
      " 11  TP_ESCOLA                6974 non-null   int64  \n",
      " 12  TP_ENSINO                6974 non-null   float64\n",
      " 13  IN_TREINEIRO             6974 non-null   int64  \n",
      " 14  CO_ESCOLA                6974 non-null   float64\n",
      " 15  NO_MUNICIPIO_ESC         6974 non-null   object \n",
      " 16  SG_UF_ESC                6974 non-null   object \n",
      " 17  TP_DEPENDENCIA_ADM_ESC   6974 non-null   float64\n",
      " 18  TP_LOCALIZACAO_ESC       6974 non-null   float64\n",
      " 19  TP_SIT_FUNC_ESC          6974 non-null   float64\n",
      " 20  NO_MUNICIPIO_PROVA       6974 non-null   object \n",
      " 21  CO_UF_PROVA              6974 non-null   int64  \n",
      " 22  NU_NOTA_CN               6974 non-null   float64\n",
      " 23  NU_NOTA_CH               6974 non-null   float64\n",
      " 24  NU_NOTA_LC               6974 non-null   float64\n",
      " 25  NU_NOTA_MT               6974 non-null   float64\n",
      " 26  TP_LINGUA                6974 non-null   int64  \n",
      " 27  TP_STATUS_REDACAO        6974 non-null   float64\n",
      " 28  NU_NOTA_COMP1            6974 non-null   float64\n",
      " 29  NU_NOTA_COMP2            6974 non-null   float64\n",
      " 30  NU_NOTA_COMP3            6974 non-null   float64\n",
      " 31  NU_NOTA_COMP4            6974 non-null   float64\n",
      " 32  NU_NOTA_COMP5            6974 non-null   float64\n",
      " 33  NU_NOTA_REDACAO          6974 non-null   float64\n",
      " 34  CO_MUNICIPIO_ESC         6974 non-null   float64\n",
      " 35  Q001                     6974 non-null   object \n",
      " 36  Q002                     6974 non-null   object \n",
      " 37  Q003                     6974 non-null   object \n",
      " 38  Q004                     6974 non-null   object \n",
      " 39  Q005                     6974 non-null   int64  \n",
      " 40  Q006                     6974 non-null   object \n",
      " 41  Q007                     6974 non-null   object \n",
      " 42  Q008                     6974 non-null   object \n",
      " 43  Q009                     6974 non-null   object \n",
      " 44  Q010                     6974 non-null   object \n",
      " 45  Q011                     6974 non-null   object \n",
      " 46  Q012                     6974 non-null   object \n",
      " 47  Q013                     6974 non-null   object \n",
      " 48  Q014                     6974 non-null   object \n",
      " 49  Q015                     6974 non-null   object \n",
      " 50  Q016                     6974 non-null   object \n",
      " 51  Q017                     6974 non-null   object \n",
      " 52  Q018                     6974 non-null   object \n",
      " 53  Q019                     6974 non-null   object \n",
      " 54  Q020                     6974 non-null   object \n",
      " 55  Q021                     6974 non-null   object \n",
      " 56  Q022                     6974 non-null   object \n",
      " 57  Q023                     6974 non-null   object \n",
      " 58  Q024                     6974 non-null   object \n",
      " 59  Q025                     6974 non-null   object \n",
      "dtypes: float64(18), int64(12), object(30)\n",
      "memory usage: 3.2+ MB\n"
     ]
    }
   ],
   "source": [
    "dadosTratados.info()"
   ]
  },
  {
   "cell_type": "code",
   "execution_count": 13,
   "metadata": {
    "colab": {},
    "colab_type": "code",
    "id": "siVTXu_s0JzU"
   },
   "outputs": [],
   "source": [
    "dadosTratados.to_csv(\"Dados/MicrodadosTeresinaTratado2019.csv\", encoding='latin1', index=False,sep=';')"
   ]
  },
  {
   "cell_type": "code",
   "execution_count": 14,
   "metadata": {
    "colab": {},
    "colab_type": "code",
    "id": "yNfbDFk10Jzb"
   },
   "outputs": [],
   "source": [
    "dadosEnem = pd.read_csv('Dados/MicrodadosTeresinaTratado2019.csv',sep=';',encoding='latin1',low_memory=False)"
   ]
  },
  {
   "cell_type": "code",
   "execution_count": 15,
   "metadata": {
    "colab": {
     "base_uri": "https://localhost:8080/",
     "height": 218
    },
    "colab_type": "code",
    "id": "eSxZsJt015L8",
    "outputId": "8223e16b-6bfe-4943-a79c-cd53e8ea9212"
   },
   "outputs": [
    {
     "data": {
      "text/html": [
       "<div>\n",
       "<style scoped>\n",
       "    .dataframe tbody tr th:only-of-type {\n",
       "        vertical-align: middle;\n",
       "    }\n",
       "\n",
       "    .dataframe tbody tr th {\n",
       "        vertical-align: top;\n",
       "    }\n",
       "\n",
       "    .dataframe thead th {\n",
       "        text-align: right;\n",
       "    }\n",
       "</style>\n",
       "<table border=\"1\" class=\"dataframe\">\n",
       "  <thead>\n",
       "    <tr style=\"text-align: right;\">\n",
       "      <th></th>\n",
       "      <th>NU_INSCRICAO</th>\n",
       "      <th>CO_MUNICIPIO_RESIDENCIA</th>\n",
       "      <th>CO_UF_RESIDENCIA</th>\n",
       "      <th>NU_IDADE</th>\n",
       "      <th>TP_SEXO</th>\n",
       "      <th>TP_COR_RACA</th>\n",
       "      <th>CO_MUNICIPIO_NASCIMENTO</th>\n",
       "      <th>NO_MUNICIPIO_NASCIMENTO</th>\n",
       "      <th>CO_UF_NASCIMENTO</th>\n",
       "      <th>TP_ST_CONCLUSAO</th>\n",
       "      <th>...</th>\n",
       "      <th>Q016</th>\n",
       "      <th>Q017</th>\n",
       "      <th>Q018</th>\n",
       "      <th>Q019</th>\n",
       "      <th>Q020</th>\n",
       "      <th>Q021</th>\n",
       "      <th>Q022</th>\n",
       "      <th>Q023</th>\n",
       "      <th>Q024</th>\n",
       "      <th>Q025</th>\n",
       "    </tr>\n",
       "  </thead>\n",
       "  <tbody>\n",
       "    <tr>\n",
       "      <th>0</th>\n",
       "      <td>190001095696</td>\n",
       "      <td>2211001</td>\n",
       "      <td>22</td>\n",
       "      <td>16</td>\n",
       "      <td>M</td>\n",
       "      <td>3</td>\n",
       "      <td>2112209.0</td>\n",
       "      <td>Timon</td>\n",
       "      <td>21.0</td>\n",
       "      <td>2</td>\n",
       "      <td>...</td>\n",
       "      <td>B</td>\n",
       "      <td>A</td>\n",
       "      <td>A</td>\n",
       "      <td>B</td>\n",
       "      <td>B</td>\n",
       "      <td>A</td>\n",
       "      <td>D</td>\n",
       "      <td>A</td>\n",
       "      <td>A</td>\n",
       "      <td>A</td>\n",
       "    </tr>\n",
       "    <tr>\n",
       "      <th>1</th>\n",
       "      <td>190001095731</td>\n",
       "      <td>2112209</td>\n",
       "      <td>21</td>\n",
       "      <td>18</td>\n",
       "      <td>F</td>\n",
       "      <td>3</td>\n",
       "      <td>2211001.0</td>\n",
       "      <td>Teresina</td>\n",
       "      <td>22.0</td>\n",
       "      <td>2</td>\n",
       "      <td>...</td>\n",
       "      <td>A</td>\n",
       "      <td>A</td>\n",
       "      <td>A</td>\n",
       "      <td>B</td>\n",
       "      <td>B</td>\n",
       "      <td>A</td>\n",
       "      <td>C</td>\n",
       "      <td>A</td>\n",
       "      <td>B</td>\n",
       "      <td>B</td>\n",
       "    </tr>\n",
       "    <tr>\n",
       "      <th>2</th>\n",
       "      <td>190001095751</td>\n",
       "      <td>2112209</td>\n",
       "      <td>21</td>\n",
       "      <td>19</td>\n",
       "      <td>M</td>\n",
       "      <td>3</td>\n",
       "      <td>3526902.0</td>\n",
       "      <td>Limeira</td>\n",
       "      <td>35.0</td>\n",
       "      <td>2</td>\n",
       "      <td>...</td>\n",
       "      <td>B</td>\n",
       "      <td>A</td>\n",
       "      <td>B</td>\n",
       "      <td>B</td>\n",
       "      <td>A</td>\n",
       "      <td>A</td>\n",
       "      <td>D</td>\n",
       "      <td>A</td>\n",
       "      <td>A</td>\n",
       "      <td>B</td>\n",
       "    </tr>\n",
       "    <tr>\n",
       "      <th>3</th>\n",
       "      <td>190001095932</td>\n",
       "      <td>2211001</td>\n",
       "      <td>22</td>\n",
       "      <td>38</td>\n",
       "      <td>F</td>\n",
       "      <td>0</td>\n",
       "      <td>2211001.0</td>\n",
       "      <td>Teresina</td>\n",
       "      <td>22.0</td>\n",
       "      <td>2</td>\n",
       "      <td>...</td>\n",
       "      <td>A</td>\n",
       "      <td>A</td>\n",
       "      <td>A</td>\n",
       "      <td>B</td>\n",
       "      <td>A</td>\n",
       "      <td>A</td>\n",
       "      <td>C</td>\n",
       "      <td>A</td>\n",
       "      <td>A</td>\n",
       "      <td>B</td>\n",
       "    </tr>\n",
       "    <tr>\n",
       "      <th>4</th>\n",
       "      <td>190001095942</td>\n",
       "      <td>2211001</td>\n",
       "      <td>22</td>\n",
       "      <td>17</td>\n",
       "      <td>M</td>\n",
       "      <td>1</td>\n",
       "      <td>2211001.0</td>\n",
       "      <td>Teresina</td>\n",
       "      <td>22.0</td>\n",
       "      <td>2</td>\n",
       "      <td>...</td>\n",
       "      <td>A</td>\n",
       "      <td>A</td>\n",
       "      <td>A</td>\n",
       "      <td>B</td>\n",
       "      <td>A</td>\n",
       "      <td>A</td>\n",
       "      <td>B</td>\n",
       "      <td>A</td>\n",
       "      <td>A</td>\n",
       "      <td>B</td>\n",
       "    </tr>\n",
       "  </tbody>\n",
       "</table>\n",
       "<p>5 rows × 60 columns</p>\n",
       "</div>"
      ],
      "text/plain": [
       "   NU_INSCRICAO  CO_MUNICIPIO_RESIDENCIA  CO_UF_RESIDENCIA  NU_IDADE TP_SEXO  \\\n",
       "0  190001095696                  2211001                22        16       M   \n",
       "1  190001095731                  2112209                21        18       F   \n",
       "2  190001095751                  2112209                21        19       M   \n",
       "3  190001095932                  2211001                22        38       F   \n",
       "4  190001095942                  2211001                22        17       M   \n",
       "\n",
       "   TP_COR_RACA  CO_MUNICIPIO_NASCIMENTO NO_MUNICIPIO_NASCIMENTO  \\\n",
       "0            3                2112209.0                   Timon   \n",
       "1            3                2211001.0                Teresina   \n",
       "2            3                3526902.0                 Limeira   \n",
       "3            0                2211001.0                Teresina   \n",
       "4            1                2211001.0                Teresina   \n",
       "\n",
       "   CO_UF_NASCIMENTO  TP_ST_CONCLUSAO  ...  Q016  Q017  Q018  Q019  Q020 Q021  \\\n",
       "0              21.0                2  ...     B     A     A     B     B    A   \n",
       "1              22.0                2  ...     A     A     A     B     B    A   \n",
       "2              35.0                2  ...     B     A     B     B     A    A   \n",
       "3              22.0                2  ...     A     A     A     B     A    A   \n",
       "4              22.0                2  ...     A     A     A     B     A    A   \n",
       "\n",
       "  Q022  Q023  Q024  Q025  \n",
       "0    D     A     A     A  \n",
       "1    C     A     B     B  \n",
       "2    D     A     A     B  \n",
       "3    C     A     A     B  \n",
       "4    B     A     A     B  \n",
       "\n",
       "[5 rows x 60 columns]"
      ]
     },
     "execution_count": 15,
     "metadata": {},
     "output_type": "execute_result"
    }
   ],
   "source": [
    "dadosEnem.head()\n"
   ]
  },
  {
   "cell_type": "code",
   "execution_count": 16,
   "metadata": {
    "colab": {
     "base_uri": "https://localhost:8080/",
     "height": 398
    },
    "colab_type": "code",
    "id": "j4AKyjkp17y_",
    "outputId": "fda0b89f-a482-4b01-c866-ab3aa6e93d34"
   },
   "outputs": [
    {
     "data": {
      "text/html": [
       "<div>\n",
       "<style scoped>\n",
       "    .dataframe tbody tr th:only-of-type {\n",
       "        vertical-align: middle;\n",
       "    }\n",
       "\n",
       "    .dataframe tbody tr th {\n",
       "        vertical-align: top;\n",
       "    }\n",
       "\n",
       "    .dataframe thead th {\n",
       "        text-align: right;\n",
       "    }\n",
       "</style>\n",
       "<table border=\"1\" class=\"dataframe\">\n",
       "  <thead>\n",
       "    <tr style=\"text-align: right;\">\n",
       "      <th></th>\n",
       "      <th>NU_INSCRICAO</th>\n",
       "      <th>CO_MUNICIPIO_RESIDENCIA</th>\n",
       "      <th>CO_UF_RESIDENCIA</th>\n",
       "      <th>NU_IDADE</th>\n",
       "      <th>TP_SEXO</th>\n",
       "      <th>TP_COR_RACA</th>\n",
       "      <th>CO_MUNICIPIO_NASCIMENTO</th>\n",
       "      <th>NO_MUNICIPIO_NASCIMENTO</th>\n",
       "      <th>CO_UF_NASCIMENTO</th>\n",
       "      <th>TP_ST_CONCLUSAO</th>\n",
       "      <th>...</th>\n",
       "      <th>Q016</th>\n",
       "      <th>Q017</th>\n",
       "      <th>Q018</th>\n",
       "      <th>Q019</th>\n",
       "      <th>Q020</th>\n",
       "      <th>Q021</th>\n",
       "      <th>Q022</th>\n",
       "      <th>Q023</th>\n",
       "      <th>Q024</th>\n",
       "      <th>Q025</th>\n",
       "    </tr>\n",
       "  </thead>\n",
       "  <tbody>\n",
       "    <tr>\n",
       "      <th>count</th>\n",
       "      <td>6.974000e+03</td>\n",
       "      <td>6.974000e+03</td>\n",
       "      <td>6974.000000</td>\n",
       "      <td>6974.000000</td>\n",
       "      <td>6974</td>\n",
       "      <td>6974.000000</td>\n",
       "      <td>6.974000e+03</td>\n",
       "      <td>6974</td>\n",
       "      <td>6974.000000</td>\n",
       "      <td>6974.0</td>\n",
       "      <td>...</td>\n",
       "      <td>6974</td>\n",
       "      <td>6974</td>\n",
       "      <td>6974</td>\n",
       "      <td>6974</td>\n",
       "      <td>6974</td>\n",
       "      <td>6974</td>\n",
       "      <td>6974</td>\n",
       "      <td>6974</td>\n",
       "      <td>6974</td>\n",
       "      <td>6974</td>\n",
       "    </tr>\n",
       "    <tr>\n",
       "      <th>unique</th>\n",
       "      <td>NaN</td>\n",
       "      <td>NaN</td>\n",
       "      <td>NaN</td>\n",
       "      <td>NaN</td>\n",
       "      <td>2</td>\n",
       "      <td>NaN</td>\n",
       "      <td>NaN</td>\n",
       "      <td>272</td>\n",
       "      <td>NaN</td>\n",
       "      <td>NaN</td>\n",
       "      <td>...</td>\n",
       "      <td>4</td>\n",
       "      <td>4</td>\n",
       "      <td>2</td>\n",
       "      <td>5</td>\n",
       "      <td>2</td>\n",
       "      <td>2</td>\n",
       "      <td>5</td>\n",
       "      <td>2</td>\n",
       "      <td>5</td>\n",
       "      <td>2</td>\n",
       "    </tr>\n",
       "    <tr>\n",
       "      <th>top</th>\n",
       "      <td>NaN</td>\n",
       "      <td>NaN</td>\n",
       "      <td>NaN</td>\n",
       "      <td>NaN</td>\n",
       "      <td>F</td>\n",
       "      <td>NaN</td>\n",
       "      <td>NaN</td>\n",
       "      <td>Teresina</td>\n",
       "      <td>NaN</td>\n",
       "      <td>NaN</td>\n",
       "      <td>...</td>\n",
       "      <td>A</td>\n",
       "      <td>A</td>\n",
       "      <td>A</td>\n",
       "      <td>B</td>\n",
       "      <td>A</td>\n",
       "      <td>A</td>\n",
       "      <td>C</td>\n",
       "      <td>A</td>\n",
       "      <td>A</td>\n",
       "      <td>B</td>\n",
       "    </tr>\n",
       "    <tr>\n",
       "      <th>freq</th>\n",
       "      <td>NaN</td>\n",
       "      <td>NaN</td>\n",
       "      <td>NaN</td>\n",
       "      <td>NaN</td>\n",
       "      <td>3916</td>\n",
       "      <td>NaN</td>\n",
       "      <td>NaN</td>\n",
       "      <td>5731</td>\n",
       "      <td>NaN</td>\n",
       "      <td>NaN</td>\n",
       "      <td>...</td>\n",
       "      <td>4453</td>\n",
       "      <td>6895</td>\n",
       "      <td>6515</td>\n",
       "      <td>4780</td>\n",
       "      <td>4730</td>\n",
       "      <td>5740</td>\n",
       "      <td>2098</td>\n",
       "      <td>5750</td>\n",
       "      <td>3866</td>\n",
       "      <td>5060</td>\n",
       "    </tr>\n",
       "    <tr>\n",
       "      <th>mean</th>\n",
       "      <td>1.900029e+11</td>\n",
       "      <td>2.208293e+06</td>\n",
       "      <td>21.974763</td>\n",
       "      <td>18.519214</td>\n",
       "      <td>NaN</td>\n",
       "      <td>2.444652</td>\n",
       "      <td>2.257334e+06</td>\n",
       "      <td>NaN</td>\n",
       "      <td>22.467164</td>\n",
       "      <td>2.0</td>\n",
       "      <td>...</td>\n",
       "      <td>NaN</td>\n",
       "      <td>NaN</td>\n",
       "      <td>NaN</td>\n",
       "      <td>NaN</td>\n",
       "      <td>NaN</td>\n",
       "      <td>NaN</td>\n",
       "      <td>NaN</td>\n",
       "      <td>NaN</td>\n",
       "      <td>NaN</td>\n",
       "      <td>NaN</td>\n",
       "    </tr>\n",
       "    <tr>\n",
       "      <th>std</th>\n",
       "      <td>1.422971e+06</td>\n",
       "      <td>5.786347e+04</td>\n",
       "      <td>0.578990</td>\n",
       "      <td>4.072499</td>\n",
       "      <td>NaN</td>\n",
       "      <td>0.919235</td>\n",
       "      <td>3.518254e+05</td>\n",
       "      <td>NaN</td>\n",
       "      <td>3.509590</td>\n",
       "      <td>0.0</td>\n",
       "      <td>...</td>\n",
       "      <td>NaN</td>\n",
       "      <td>NaN</td>\n",
       "      <td>NaN</td>\n",
       "      <td>NaN</td>\n",
       "      <td>NaN</td>\n",
       "      <td>NaN</td>\n",
       "      <td>NaN</td>\n",
       "      <td>NaN</td>\n",
       "      <td>NaN</td>\n",
       "      <td>NaN</td>\n",
       "    </tr>\n",
       "    <tr>\n",
       "      <th>min</th>\n",
       "      <td>1.900011e+11</td>\n",
       "      <td>2.101608e+06</td>\n",
       "      <td>21.000000</td>\n",
       "      <td>13.000000</td>\n",
       "      <td>NaN</td>\n",
       "      <td>0.000000</td>\n",
       "      <td>1.100205e+06</td>\n",
       "      <td>NaN</td>\n",
       "      <td>11.000000</td>\n",
       "      <td>2.0</td>\n",
       "      <td>...</td>\n",
       "      <td>NaN</td>\n",
       "      <td>NaN</td>\n",
       "      <td>NaN</td>\n",
       "      <td>NaN</td>\n",
       "      <td>NaN</td>\n",
       "      <td>NaN</td>\n",
       "      <td>NaN</td>\n",
       "      <td>NaN</td>\n",
       "      <td>NaN</td>\n",
       "      <td>NaN</td>\n",
       "    </tr>\n",
       "    <tr>\n",
       "      <th>25%</th>\n",
       "      <td>1.900011e+11</td>\n",
       "      <td>2.211001e+06</td>\n",
       "      <td>22.000000</td>\n",
       "      <td>17.000000</td>\n",
       "      <td>NaN</td>\n",
       "      <td>2.000000</td>\n",
       "      <td>2.211001e+06</td>\n",
       "      <td>NaN</td>\n",
       "      <td>22.000000</td>\n",
       "      <td>2.0</td>\n",
       "      <td>...</td>\n",
       "      <td>NaN</td>\n",
       "      <td>NaN</td>\n",
       "      <td>NaN</td>\n",
       "      <td>NaN</td>\n",
       "      <td>NaN</td>\n",
       "      <td>NaN</td>\n",
       "      <td>NaN</td>\n",
       "      <td>NaN</td>\n",
       "      <td>NaN</td>\n",
       "      <td>NaN</td>\n",
       "    </tr>\n",
       "    <tr>\n",
       "      <th>50%</th>\n",
       "      <td>1.900031e+11</td>\n",
       "      <td>2.211001e+06</td>\n",
       "      <td>22.000000</td>\n",
       "      <td>18.000000</td>\n",
       "      <td>NaN</td>\n",
       "      <td>3.000000</td>\n",
       "      <td>2.211001e+06</td>\n",
       "      <td>NaN</td>\n",
       "      <td>22.000000</td>\n",
       "      <td>2.0</td>\n",
       "      <td>...</td>\n",
       "      <td>NaN</td>\n",
       "      <td>NaN</td>\n",
       "      <td>NaN</td>\n",
       "      <td>NaN</td>\n",
       "      <td>NaN</td>\n",
       "      <td>NaN</td>\n",
       "      <td>NaN</td>\n",
       "      <td>NaN</td>\n",
       "      <td>NaN</td>\n",
       "      <td>NaN</td>\n",
       "    </tr>\n",
       "    <tr>\n",
       "      <th>75%</th>\n",
       "      <td>1.900040e+11</td>\n",
       "      <td>2.211001e+06</td>\n",
       "      <td>22.000000</td>\n",
       "      <td>18.000000</td>\n",
       "      <td>NaN</td>\n",
       "      <td>3.000000</td>\n",
       "      <td>2.211001e+06</td>\n",
       "      <td>NaN</td>\n",
       "      <td>22.000000</td>\n",
       "      <td>2.0</td>\n",
       "      <td>...</td>\n",
       "      <td>NaN</td>\n",
       "      <td>NaN</td>\n",
       "      <td>NaN</td>\n",
       "      <td>NaN</td>\n",
       "      <td>NaN</td>\n",
       "      <td>NaN</td>\n",
       "      <td>NaN</td>\n",
       "      <td>NaN</td>\n",
       "      <td>NaN</td>\n",
       "      <td>NaN</td>\n",
       "    </tr>\n",
       "    <tr>\n",
       "      <th>max</th>\n",
       "      <td>1.900061e+11</td>\n",
       "      <td>5.300108e+06</td>\n",
       "      <td>53.000000</td>\n",
       "      <td>65.000000</td>\n",
       "      <td>NaN</td>\n",
       "      <td>5.000000</td>\n",
       "      <td>5.300108e+06</td>\n",
       "      <td>NaN</td>\n",
       "      <td>53.000000</td>\n",
       "      <td>2.0</td>\n",
       "      <td>...</td>\n",
       "      <td>NaN</td>\n",
       "      <td>NaN</td>\n",
       "      <td>NaN</td>\n",
       "      <td>NaN</td>\n",
       "      <td>NaN</td>\n",
       "      <td>NaN</td>\n",
       "      <td>NaN</td>\n",
       "      <td>NaN</td>\n",
       "      <td>NaN</td>\n",
       "      <td>NaN</td>\n",
       "    </tr>\n",
       "  </tbody>\n",
       "</table>\n",
       "<p>11 rows × 60 columns</p>\n",
       "</div>"
      ],
      "text/plain": [
       "        NU_INSCRICAO  CO_MUNICIPIO_RESIDENCIA  CO_UF_RESIDENCIA     NU_IDADE  \\\n",
       "count   6.974000e+03             6.974000e+03       6974.000000  6974.000000   \n",
       "unique           NaN                      NaN               NaN          NaN   \n",
       "top              NaN                      NaN               NaN          NaN   \n",
       "freq             NaN                      NaN               NaN          NaN   \n",
       "mean    1.900029e+11             2.208293e+06         21.974763    18.519214   \n",
       "std     1.422971e+06             5.786347e+04          0.578990     4.072499   \n",
       "min     1.900011e+11             2.101608e+06         21.000000    13.000000   \n",
       "25%     1.900011e+11             2.211001e+06         22.000000    17.000000   \n",
       "50%     1.900031e+11             2.211001e+06         22.000000    18.000000   \n",
       "75%     1.900040e+11             2.211001e+06         22.000000    18.000000   \n",
       "max     1.900061e+11             5.300108e+06         53.000000    65.000000   \n",
       "\n",
       "       TP_SEXO  TP_COR_RACA  CO_MUNICIPIO_NASCIMENTO NO_MUNICIPIO_NASCIMENTO  \\\n",
       "count     6974  6974.000000             6.974000e+03                    6974   \n",
       "unique       2          NaN                      NaN                     272   \n",
       "top          F          NaN                      NaN                Teresina   \n",
       "freq      3916          NaN                      NaN                    5731   \n",
       "mean       NaN     2.444652             2.257334e+06                     NaN   \n",
       "std        NaN     0.919235             3.518254e+05                     NaN   \n",
       "min        NaN     0.000000             1.100205e+06                     NaN   \n",
       "25%        NaN     2.000000             2.211001e+06                     NaN   \n",
       "50%        NaN     3.000000             2.211001e+06                     NaN   \n",
       "75%        NaN     3.000000             2.211001e+06                     NaN   \n",
       "max        NaN     5.000000             5.300108e+06                     NaN   \n",
       "\n",
       "        CO_UF_NASCIMENTO  TP_ST_CONCLUSAO  ...  Q016  Q017  Q018  Q019  Q020  \\\n",
       "count        6974.000000           6974.0  ...  6974  6974  6974  6974  6974   \n",
       "unique               NaN              NaN  ...     4     4     2     5     2   \n",
       "top                  NaN              NaN  ...     A     A     A     B     A   \n",
       "freq                 NaN              NaN  ...  4453  6895  6515  4780  4730   \n",
       "mean           22.467164              2.0  ...   NaN   NaN   NaN   NaN   NaN   \n",
       "std             3.509590              0.0  ...   NaN   NaN   NaN   NaN   NaN   \n",
       "min            11.000000              2.0  ...   NaN   NaN   NaN   NaN   NaN   \n",
       "25%            22.000000              2.0  ...   NaN   NaN   NaN   NaN   NaN   \n",
       "50%            22.000000              2.0  ...   NaN   NaN   NaN   NaN   NaN   \n",
       "75%            22.000000              2.0  ...   NaN   NaN   NaN   NaN   NaN   \n",
       "max            53.000000              2.0  ...   NaN   NaN   NaN   NaN   NaN   \n",
       "\n",
       "        Q021  Q022  Q023  Q024  Q025  \n",
       "count   6974  6974  6974  6974  6974  \n",
       "unique     2     5     2     5     2  \n",
       "top        A     C     A     A     B  \n",
       "freq    5740  2098  5750  3866  5060  \n",
       "mean     NaN   NaN   NaN   NaN   NaN  \n",
       "std      NaN   NaN   NaN   NaN   NaN  \n",
       "min      NaN   NaN   NaN   NaN   NaN  \n",
       "25%      NaN   NaN   NaN   NaN   NaN  \n",
       "50%      NaN   NaN   NaN   NaN   NaN  \n",
       "75%      NaN   NaN   NaN   NaN   NaN  \n",
       "max      NaN   NaN   NaN   NaN   NaN  \n",
       "\n",
       "[11 rows x 60 columns]"
      ]
     },
     "execution_count": 16,
     "metadata": {},
     "output_type": "execute_result"
    }
   ],
   "source": [
    "dadosEnem.describe(include='all')\n"
   ]
  },
  {
   "cell_type": "code",
   "execution_count": null,
   "metadata": {},
   "outputs": [],
   "source": []
  },
  {
   "cell_type": "markdown",
   "metadata": {
    "colab": {},
    "colab_type": "code",
    "id": "pndINXoZBI2o"
   },
   "source": [
    "# Questionário"
   ]
  },
  {
   "cell_type": "code",
   "execution_count": null,
   "metadata": {},
   "outputs": [],
   "source": []
  },
  {
   "cell_type": "code",
   "execution_count": 17,
   "metadata": {
    "colab": {
     "base_uri": "https://localhost:8080/",
     "height": 440
    },
    "colab_type": "code",
    "id": "pvuhaI2tL7cA",
    "outputId": "9841694b-df05-4b26-baa0-edd9cd47e8af"
   },
   "outputs": [
    {
     "name": "stdout",
     "output_type": "stream",
     "text": [
      " A Nunca estudou. \n",
      " B Não completou a 4ª série/5º ano do Ensino Fundamental. \n",
      " C Completou a 4ª série/5º ano, mas não completou a 8ª série/9º ano do Ensino Fundamental. \n",
      " D Completou a 8ª série/9º ano do Ensino Fundamental, mas não completou o Ensino Médio. \n",
      " E Completou o Ensino Médio, mas não completou a Faculdade. \n",
      " F Completou a Faculdade, mas não completou a Pós-graduação. \n",
      " G Completou a Pós-graduação. \n",
      " H Não sei.\n"
     ]
    },
    {
     "data": {
      "image/png": "[encoded data removed]",
      "text/plain": [
       "<Figure size 432x288 with 1 Axes>"
      ]
     },
     "metadata": {
      "needs_background": "light"
     },
     "output_type": "display_data"
    }
   ],
   "source": [
    "contagem_de_questionario = dadosEnem['Q001'].value_counts().to_frame().reset_index()\n",
    "contagem_de_questionario.columns = [\"Respostas\", \"total\"]\n",
    "frequencia = dadosEnem['Q001'].value_counts(normalize=True)\n",
    "\n",
    "#contagem_de_questionario.head()\n",
    "plt.title('Até que série seu pai, ou o homem responsável por você, estudou?')\n",
    "\n",
    "\n",
    "sns.barplot(x=\"Respostas\", y = \"total\", data = contagem_de_questionario)\n",
    "\n",
    "\n",
    "print(\" A Nunca estudou. \\n B Não completou a 4ª série/5º ano do Ensino Fundamental. \\n C Completou a 4ª série/5º ano, mas não completou a 8ª série/9º ano do Ensino Fundamental. \\n D Completou a 8ª série/9º ano do Ensino Fundamental, mas não completou o Ensino Médio. \\n E Completou o Ensino Médio, mas não completou a Faculdade. \\n F Completou a Faculdade, mas não completou a Pós-graduação. \\n G Completou a Pós-graduação. \\n H Não sei.\")\n",
    "\n",
    "\n",
    "\n",
    "\n"
   ]
  },
  {
   "cell_type": "code",
   "execution_count": 18,
   "metadata": {
    "colab": {
     "base_uri": "https://localhost:8080/",
     "height": 440
    },
    "colab_type": "code",
    "id": "C4R08LhQLjlY",
    "outputId": "189ab62c-d945-42ed-bece-55b3316023e7"
   },
   "outputs": [
    {
     "name": "stdout",
     "output_type": "stream",
     "text": [
      "A Nunca estudou. \n",
      " B Não completou a 4ª série/5º ano do Ensino Fundamental. \n",
      " C Completou a 4ª série/5º ano, mas não completou a 8ª série/9º ano do Ensino Fundamental. \n",
      " D Completou a 8ª série/9º ano do Ensino Fundamental, mas não completou o Ensino Médio. \n",
      " E Completou o Ensino Médio, mas não completou a Faculdade. \n",
      " F Completou a Faculdade, mas não completou a Pós-graduação. \n",
      " G Completou a Pós-graduação. \n",
      " H Não sei.\n"
     ]
    },
    {
     "data": {
      "image/png": "[encoded data removed]",
      "text/plain": [
       "<Figure size 432x288 with 1 Axes>"
      ]
     },
     "metadata": {
      "needs_background": "light"
     },
     "output_type": "display_data"
    }
   ],
   "source": [
    "var = 'Q002'\n",
    "contagem_de_questionario = dadosEnem[var].value_counts().to_frame().reset_index()\n",
    "contagem_de_questionario.columns = [\"Respostas\", \"total\"]\n",
    "frequencia = dadosEnem[var].value_counts(normalize=True)\n",
    "\n",
    "plt.title('Até que série seu mãe, ou a mulher responsável por você, estudou?')\n",
    "\n",
    "sns.barplot(x=\"Respostas\", y = \"total\", data = contagem_de_questionario)\n",
    "\n",
    "\n",
    "print(\"A Nunca estudou. \\n B Não completou a 4ª série/5º ano do Ensino Fundamental. \\n C Completou a 4ª série/5º ano, mas não completou a 8ª série/9º ano do Ensino Fundamental. \\n D Completou a 8ª série/9º ano do Ensino Fundamental, mas não completou o Ensino Médio. \\n E Completou o Ensino Médio, mas não completou a Faculdade. \\n F Completou a Faculdade, mas não completou a Pós-graduação. \\n G Completou a Pós-graduação. \\n H Não sei.\")\n",
    "\n",
    "\n",
    "#array = pd.DataFrame(dadosEnem[var].value_counts(normalize=True))\n",
    "#array\n"
   ]
  },
  {
   "cell_type": "code",
   "execution_count": 19,
   "metadata": {
    "colab": {
     "base_uri": "https://localhost:8080/",
     "height": 424
    },
    "colab_type": "code",
    "id": "LIhlWUKYN08o",
    "outputId": "aea3c3cb-e4f9-4ca2-e7cf-44d5ec221646"
   },
   "outputs": [
    {
     "name": "stdout",
     "output_type": "stream",
     "text": [
      " A) Grupo 1: Lavrador, agricultor sem empregados, boia-fria, criador de animais, apicultor, pescador, lenhador, seringueiro, extrativista.  \n",
      " B) Grupo 2: Diarista, empregado doméstico, cuidador de idosos, babá, cozinheiro (em casas particulares), motorista particular, jardineiro, faxineiro de empresas e prédios, vigilante, porteiro, carteiro, office-boy, vendedor, caixa, atendente de loja, auxiliar administrativo, recepcionista, servente de pedreiro, repositor de mercadoria. \n",
      " C) Grupo 3: Padeiro, cozinheiro industrial ou em restaurantes, sapateiro, costureiro, joalheiro, torneiro mecânico, operador de máquinas, soldador, operário de fábrica, trabalhador da mineração, pedreiro, pintor, eletricista, encanador, motorista, caminhoneiro, taxista. \n",
      " D) Grupo 4: Professor (de ensino fundamental ou médio, idioma, música, artes etc.), técnico (de enfermagem, contabilidade, eletrônica etc.), policial, militar de baixa patente (soldado, cabo, sargento), corretor de imóveis, supervisor, gerente, mestre de obras, pastor, microempresário (proprietário de empresa com menos de 10 empregados), pequeno comerciante, pequeno proprietário de terras, trabalhador autônomo ou por conta própria. \n",
      " E)Grupo 5: Médico, engenheiro, dentista, psicólogo, economista, advogado, juiz, promotor, defensor, delegado, tenente, capitão, coronel, professor universitário, diretor em empresas públicas ou privadas, político, proprietário de empresas com mais de 10 empregados. \n",
      " F) Não sei.\n"
     ]
    },
    {
     "data": {
      "image/png": "[encoded data removed]",
      "text/plain": [
       "<Figure size 432x288 with 1 Axes>"
      ]
     },
     "metadata": {
      "needs_background": "light"
     },
     "output_type": "display_data"
    }
   ],
   "source": [
    "var = 'Q003'\n",
    "contagem_de_questionario = dadosEnem[var].value_counts().to_frame().reset_index()\n",
    "contagem_de_questionario.columns = [\"Respostas\", \"total\"]\n",
    "frequencia = dadosEnem[var].value_counts(normalize=True)\n",
    "\n",
    "plt.title('Profissão do pai')\n",
    "\n",
    "sns.barplot(x=\"Respostas\", y = \"total\", data = contagem_de_questionario)\n",
    "\n",
    "\n",
    "print(\" A) Grupo 1: Lavrador, agricultor sem empregados, boia-fria, criador de animais, apicultor, pescador, lenhador, seringueiro, extrativista.  \\n B) Grupo 2: Diarista, empregado doméstico, cuidador de idosos, babá, cozinheiro (em casas particulares), motorista particular, jardineiro, faxineiro de empresas e prédios, vigilante, porteiro, carteiro, office-boy, vendedor, caixa, atendente de loja, auxiliar administrativo, recepcionista, servente de pedreiro, repositor de mercadoria. \\n C) Grupo 3: Padeiro, cozinheiro industrial ou em restaurantes, sapateiro, costureiro, joalheiro, torneiro mecânico, operador de máquinas, soldador, operário de fábrica, trabalhador da mineração, pedreiro, pintor, eletricista, encanador, motorista, caminhoneiro, taxista. \\n D) Grupo 4: Professor (de ensino fundamental ou médio, idioma, música, artes etc.), técnico (de enfermagem, contabilidade, eletrônica etc.), policial, militar de baixa patente (soldado, cabo, sargento), corretor de imóveis, supervisor, gerente, mestre de obras, pastor, microempresário (proprietário de empresa com menos de 10 empregados), pequeno comerciante, pequeno proprietário de terras, trabalhador autônomo ou por conta própria. \\n E)Grupo 5: Médico, engenheiro, dentista, psicólogo, economista, advogado, juiz, promotor, defensor, delegado, tenente, capitão, coronel, professor universitário, diretor em empresas públicas ou privadas, político, proprietário de empresas com mais de 10 empregados. \\n F) Não sei.\")\n",
    "\n",
    "\n",
    "#array = pd.DataFrame(dadosEnem[var].value_counts(normalize=True))\n",
    "#array\n"
   ]
  },
  {
   "cell_type": "code",
   "execution_count": 20,
   "metadata": {
    "colab": {
     "base_uri": "https://localhost:8080/",
     "height": 424
    },
    "colab_type": "code",
    "id": "Q4fHH8M0Oobx",
    "outputId": "ecd83ae4-3657-4a41-d823-1b34de37a5bd"
   },
   "outputs": [
    {
     "name": "stdout",
     "output_type": "stream",
     "text": [
      " A) Grupo 1: Lavrador, agricultor sem empregados, boia-fria, criador de animais, apicultor, pescador, lenhador, seringueiro, extrativista.  \n",
      " B) Grupo 2: Diarista, empregado doméstico, cuidador de idosos, babá, cozinheiro (em casas particulares), motorista particular, jardineiro, faxineiro de empresas e prédios, vigilante, porteiro, carteiro, office-boy, vendedor, caixa, atendente de loja, auxiliar administrativo, recepcionista, servente de pedreiro, repositor de mercadoria. \n",
      " C) Grupo 3: Padeiro, cozinheiro industrial ou em restaurantes, sapateiro, costureiro, joalheiro, torneiro mecânico, operador de máquinas, soldador, operário de fábrica, trabalhador da mineração, pedreiro, pintor, eletricista, encanador, motorista, caminhoneiro, taxista. \n",
      " D) Grupo 4: Professor (de ensino fundamental ou médio, idioma, música, artes etc.), técnico (de enfermagem, contabilidade, eletrônica etc.), policial, militar de baixa patente (soldado, cabo, sargento), corretor de imóveis, supervisor, gerente, mestre de obras, pastor, microempresário (proprietário de empresa com menos de 10 empregados), pequeno comerciante, pequeno proprietário de terras, trabalhador autônomo ou por conta própria. \n",
      " E)Grupo 5: Médico, engenheiro, dentista, psicólogo, economista, advogado, juiz, promotor, defensor, delegado, tenente, capitão, coronel, professor universitário, diretor em empresas públicas ou privadas, político, proprietário de empresas com mais de 10 empregados. \n",
      " F) Não sei.\n"
     ]
    },
    {
     "data": {
      "image/png": "[encoded data removed]",
      "text/plain": [
       "<Figure size 432x288 with 1 Axes>"
      ]
     },
     "metadata": {
      "needs_background": "light"
     },
     "output_type": "display_data"
    }
   ],
   "source": [
    "var = 'Q004'\n",
    "contagem_de_questionario = dadosEnem[var].value_counts().to_frame().reset_index()\n",
    "contagem_de_questionario.columns = [\"Respostas\", \"total\"]\n",
    "frequencia = dadosEnem[var].value_counts(normalize=True)\n",
    "\n",
    "plt.title('Profissão da mãe')\n",
    "\n",
    "sns.barplot(x=\"Respostas\", y = \"total\", data = contagem_de_questionario)\n",
    "\n",
    "\n",
    "print(\" A) Grupo 1: Lavrador, agricultor sem empregados, boia-fria, criador de animais, apicultor, pescador, lenhador, seringueiro, extrativista.  \\n B) Grupo 2: Diarista, empregado doméstico, cuidador de idosos, babá, cozinheiro (em casas particulares), motorista particular, jardineiro, faxineiro de empresas e prédios, vigilante, porteiro, carteiro, office-boy, vendedor, caixa, atendente de loja, auxiliar administrativo, recepcionista, servente de pedreiro, repositor de mercadoria. \\n C) Grupo 3: Padeiro, cozinheiro industrial ou em restaurantes, sapateiro, costureiro, joalheiro, torneiro mecânico, operador de máquinas, soldador, operário de fábrica, trabalhador da mineração, pedreiro, pintor, eletricista, encanador, motorista, caminhoneiro, taxista. \\n D) Grupo 4: Professor (de ensino fundamental ou médio, idioma, música, artes etc.), técnico (de enfermagem, contabilidade, eletrônica etc.), policial, militar de baixa patente (soldado, cabo, sargento), corretor de imóveis, supervisor, gerente, mestre de obras, pastor, microempresário (proprietário de empresa com menos de 10 empregados), pequeno comerciante, pequeno proprietário de terras, trabalhador autônomo ou por conta própria. \\n E)Grupo 5: Médico, engenheiro, dentista, psicólogo, economista, advogado, juiz, promotor, defensor, delegado, tenente, capitão, coronel, professor universitário, diretor em empresas públicas ou privadas, político, proprietário de empresas com mais de 10 empregados. \\n F) Não sei.\")\n",
    "\n",
    "\n",
    "#array = pd.DataFrame(dadosEnem[var].value_counts(normalize=True))\n",
    "#array\n"
   ]
  },
  {
   "cell_type": "code",
   "execution_count": 21,
   "metadata": {
    "colab": {
     "base_uri": "https://localhost:8080/",
     "height": 576
    },
    "colab_type": "code",
    "id": "eC3CAIIgO-MD",
    "outputId": "e46c3964-9e0b-4910-c28e-ab837e5e3f45"
   },
   "outputs": [
    {
     "data": {
      "image/png": "[encoded data removed]",
      "text/plain": [
       "<Figure size 432x288 with 1 Axes>"
      ]
     },
     "metadata": {
      "needs_background": "light"
     },
     "output_type": "display_data"
    },
    {
     "data": {
      "text/plain": [
       "<matplotlib.axes._subplots.AxesSubplot at 0x1bb693f09c8>"
      ]
     },
     "execution_count": 21,
     "metadata": {},
     "output_type": "execute_result"
    },
    {
     "data": {
      "image/png": "[encoded data removed]",
      "text/plain": [
       "<Figure size 432x288 with 1 Axes>"
      ]
     },
     "metadata": {
      "needs_background": "light"
     },
     "output_type": "display_data"
    }
   ],
   "source": [
    "var = 'Q005'\n",
    "df = dadosEnem[var]\n",
    "hist = df.hist(bins=5)\n",
    "hist.set_xlim((0,12))\n",
    "plt.title('Incluindo você, quantas pessoas moram atualmente em sua residência?')\n",
    "plt.xlabel('Quantidade')\n",
    "plt.ylabel('Frequência')\n",
    "hist\n",
    "plt.show()\n",
    "\n",
    "sns.distplot(df)\n",
    "\n"
   ]
  },
  {
   "cell_type": "code",
   "execution_count": 22,
   "metadata": {
    "colab": {
     "base_uri": "https://localhost:8080/",
     "height": 622
    },
    "colab_type": "code",
    "id": "i5q75whtPc3Y",
    "outputId": "5ff0c8f7-e5d0-4a75-e184-7128b1214d50"
   },
   "outputs": [
    {
     "name": "stdout",
     "output_type": "stream",
     "text": [
      " A:Nenhuma renda. \n",
      " B:Até R$ 937,00. \n",
      " C:De R$ 937,01 até R$ 1.405,50. \n",
      " D:De R$ 1.405,51 até R$ 1.874,00. \n",
      " E:De R$ 1.874,01 até R$ 2.342,50. \n",
      " F:De R$ 2.342,51 até R$ 2.811,00. \n",
      " G:De R$ 2.811,01 até R$ 3.748,00. \n",
      " H:De R$ 3.748,01 até R$ 4.685,00. \n",
      " I:De R$ 4.685,01 até R$ 5.622,00. \n",
      " J:De R$ 5.622,01 até R$ 6.559,00. \n",
      " K:De R$ 6.559,01 até R$ 7.496,00. \n",
      " L:De R$ 7.496,01 até R$ 8.433,00. \n",
      " M:De R$ 8.433,01 até R$ 9.370,00. \n",
      " N:De R$ 9.370,01 até R$ 11.244,00. \n",
      " O:De R$ 11.244,01 até R$ 14.055,00. \n",
      " P:De R$ 14.055,01 até R$ 18.740,00. \n",
      " Q:Mais de R$ 18.740,00. \n",
      "\n"
     ]
    },
    {
     "data": {
      "text/html": [
       "<div>\n",
       "<style scoped>\n",
       "    .dataframe tbody tr th:only-of-type {\n",
       "        vertical-align: middle;\n",
       "    }\n",
       "\n",
       "    .dataframe tbody tr th {\n",
       "        vertical-align: top;\n",
       "    }\n",
       "\n",
       "    .dataframe thead th {\n",
       "        text-align: right;\n",
       "    }\n",
       "</style>\n",
       "<table border=\"1\" class=\"dataframe\">\n",
       "  <thead>\n",
       "    <tr style=\"text-align: right;\">\n",
       "      <th></th>\n",
       "      <th>Q006</th>\n",
       "      <th>Porcentagem (%)</th>\n",
       "    </tr>\n",
       "  </thead>\n",
       "  <tbody>\n",
       "    <tr>\n",
       "      <th>B</th>\n",
       "      <td>2324</td>\n",
       "      <td>33.323774</td>\n",
       "    </tr>\n",
       "    <tr>\n",
       "      <th>C</th>\n",
       "      <td>1686</td>\n",
       "      <td>24.175509</td>\n",
       "    </tr>\n",
       "    <tr>\n",
       "      <th>D</th>\n",
       "      <td>520</td>\n",
       "      <td>7.456266</td>\n",
       "    </tr>\n",
       "    <tr>\n",
       "      <th>E</th>\n",
       "      <td>448</td>\n",
       "      <td>6.423860</td>\n",
       "    </tr>\n",
       "    <tr>\n",
       "      <th>A</th>\n",
       "      <td>318</td>\n",
       "      <td>4.559794</td>\n",
       "    </tr>\n",
       "    <tr>\n",
       "      <th>G</th>\n",
       "      <td>303</td>\n",
       "      <td>4.344709</td>\n",
       "    </tr>\n",
       "    <tr>\n",
       "      <th>F</th>\n",
       "      <td>240</td>\n",
       "      <td>3.441354</td>\n",
       "    </tr>\n",
       "    <tr>\n",
       "      <th>H</th>\n",
       "      <td>226</td>\n",
       "      <td>3.240608</td>\n",
       "    </tr>\n",
       "    <tr>\n",
       "      <th>I</th>\n",
       "      <td>173</td>\n",
       "      <td>2.480642</td>\n",
       "    </tr>\n",
       "    <tr>\n",
       "      <th>Q</th>\n",
       "      <td>108</td>\n",
       "      <td>1.548609</td>\n",
       "    </tr>\n",
       "    <tr>\n",
       "      <th>J</th>\n",
       "      <td>108</td>\n",
       "      <td>1.548609</td>\n",
       "    </tr>\n",
       "    <tr>\n",
       "      <th>N</th>\n",
       "      <td>104</td>\n",
       "      <td>1.491253</td>\n",
       "    </tr>\n",
       "    <tr>\n",
       "      <th>O</th>\n",
       "      <td>96</td>\n",
       "      <td>1.376541</td>\n",
       "    </tr>\n",
       "    <tr>\n",
       "      <th>K</th>\n",
       "      <td>87</td>\n",
       "      <td>1.247491</td>\n",
       "    </tr>\n",
       "    <tr>\n",
       "      <th>M</th>\n",
       "      <td>83</td>\n",
       "      <td>1.190135</td>\n",
       "    </tr>\n",
       "    <tr>\n",
       "      <th>P</th>\n",
       "      <td>77</td>\n",
       "      <td>1.104101</td>\n",
       "    </tr>\n",
       "    <tr>\n",
       "      <th>L</th>\n",
       "      <td>73</td>\n",
       "      <td>1.046745</td>\n",
       "    </tr>\n",
       "  </tbody>\n",
       "</table>\n",
       "</div>"
      ],
      "text/plain": [
       "   Q006  Porcentagem (%)\n",
       "B  2324        33.323774\n",
       "C  1686        24.175509\n",
       "D   520         7.456266\n",
       "E   448         6.423860\n",
       "A   318         4.559794\n",
       "G   303         4.344709\n",
       "F   240         3.441354\n",
       "H   226         3.240608\n",
       "I   173         2.480642\n",
       "Q   108         1.548609\n",
       "J   108         1.548609\n",
       "N   104         1.491253\n",
       "O    96         1.376541\n",
       "K    87         1.247491\n",
       "M    83         1.190135\n",
       "P    77         1.104101\n",
       "L    73         1.046745"
      ]
     },
     "execution_count": 22,
     "metadata": {},
     "output_type": "execute_result"
    },
    {
     "data": {
      "image/png": "[encoded data removed]",
      "text/plain": [
       "<Figure size 432x288 with 1 Axes>"
      ]
     },
     "metadata": {
      "needs_background": "light"
     },
     "output_type": "display_data"
    }
   ],
   "source": [
    "var = \"Q006\"\n",
    "contagem_de_questionario = dadosEnem[var].value_counts().to_frame().reset_index()\n",
    "contagem_de_questionario.columns = [\"Respostas\", \"total\"]\n",
    "frequencia = dadosEnem[var].value_counts(normalize=True)\n",
    "\n",
    "plt.title('Renda Mensal da Família')\n",
    "\n",
    "sns.barplot(x=\"Respostas\", y = \"total\", data = contagem_de_questionario)\n",
    "\n",
    "print(\" A:Nenhuma renda. \\n B:Até R$ 937,00. \\n C:De R$ 937,01 até R$ 1.405,50. \\n D:De R$ 1.405,51 até R$ 1.874,00. \\n E:De R$ 1.874,01 até R$ 2.342,50. \\n F:De R$ 2.342,51 até R$ 2.811,00. \\n G:De R$ 2.811,01 até R$ 3.748,00. \\n H:De R$ 3.748,01 até R$ 4.685,00. \\n I:De R$ 4.685,01 até R$ 5.622,00. \\n J:De R$ 5.622,01 até R$ 6.559,00. \\n K:De R$ 6.559,01 até R$ 7.496,00. \\n L:De R$ 7.496,01 até R$ 8.433,00. \\n M:De R$ 8.433,01 até R$ 9.370,00. \\n N:De R$ 9.370,01 até R$ 11.244,00. \\n O:De R$ 11.244,01 até R$ 14.055,00. \\n P:De R$ 14.055,01 até R$ 18.740,00. \\n Q:Mais de R$ 18.740,00. \\n\" ) \n",
    "\n",
    "array = pd.DataFrame(dadosEnem[var].value_counts())\n",
    "array2 = pd.DataFrame(dadosEnem[var].value_counts(normalize=True) * 100)\n",
    "array['Porcentagem (%)'] = array2\n",
    "array\n"
   ]
  },
  {
   "cell_type": "code",
   "execution_count": 23,
   "metadata": {
    "colab": {
     "base_uri": "https://localhost:8080/",
     "height": 575
    },
    "colab_type": "code",
    "id": "5iNr7ccWQw0j",
    "outputId": "4eb377f2-9237-4e1a-d38e-38343032560d"
   },
   "outputs": [
    {
     "data": {
      "image/png": "[encoded data removed]",
      "text/plain": [
       "<Figure size 432x288 with 1 Axes>"
      ]
     },
     "metadata": {
      "needs_background": "light"
     },
     "output_type": "display_data"
    },
    {
     "data": {
      "text/html": [
       "<div>\n",
       "<style scoped>\n",
       "    .dataframe tbody tr th:only-of-type {\n",
       "        vertical-align: middle;\n",
       "    }\n",
       "\n",
       "    .dataframe tbody tr th {\n",
       "        vertical-align: top;\n",
       "    }\n",
       "\n",
       "    .dataframe thead th {\n",
       "        text-align: right;\n",
       "    }\n",
       "</style>\n",
       "<table border=\"1\" class=\"dataframe\">\n",
       "  <thead>\n",
       "    <tr style=\"text-align: right;\">\n",
       "      <th></th>\n",
       "      <th>Q005</th>\n",
       "      <th>Porcentagem (%)</th>\n",
       "    </tr>\n",
       "  </thead>\n",
       "  <tbody>\n",
       "    <tr>\n",
       "      <th>4</th>\n",
       "      <td>2485</td>\n",
       "      <td>35.632349</td>\n",
       "    </tr>\n",
       "    <tr>\n",
       "      <th>5</th>\n",
       "      <td>1493</td>\n",
       "      <td>21.408087</td>\n",
       "    </tr>\n",
       "    <tr>\n",
       "      <th>3</th>\n",
       "      <td>1391</td>\n",
       "      <td>19.945512</td>\n",
       "    </tr>\n",
       "    <tr>\n",
       "      <th>6</th>\n",
       "      <td>609</td>\n",
       "      <td>8.732435</td>\n",
       "    </tr>\n",
       "    <tr>\n",
       "      <th>2</th>\n",
       "      <td>532</td>\n",
       "      <td>7.628334</td>\n",
       "    </tr>\n",
       "    <tr>\n",
       "      <th>7</th>\n",
       "      <td>223</td>\n",
       "      <td>3.197591</td>\n",
       "    </tr>\n",
       "    <tr>\n",
       "      <th>8</th>\n",
       "      <td>117</td>\n",
       "      <td>1.677660</td>\n",
       "    </tr>\n",
       "    <tr>\n",
       "      <th>9</th>\n",
       "      <td>43</td>\n",
       "      <td>0.616576</td>\n",
       "    </tr>\n",
       "    <tr>\n",
       "      <th>1</th>\n",
       "      <td>37</td>\n",
       "      <td>0.530542</td>\n",
       "    </tr>\n",
       "    <tr>\n",
       "      <th>10</th>\n",
       "      <td>23</td>\n",
       "      <td>0.329796</td>\n",
       "    </tr>\n",
       "    <tr>\n",
       "      <th>11</th>\n",
       "      <td>11</td>\n",
       "      <td>0.157729</td>\n",
       "    </tr>\n",
       "    <tr>\n",
       "      <th>13</th>\n",
       "      <td>5</td>\n",
       "      <td>0.071695</td>\n",
       "    </tr>\n",
       "    <tr>\n",
       "      <th>12</th>\n",
       "      <td>4</td>\n",
       "      <td>0.057356</td>\n",
       "    </tr>\n",
       "    <tr>\n",
       "      <th>15</th>\n",
       "      <td>1</td>\n",
       "      <td>0.014339</td>\n",
       "    </tr>\n",
       "  </tbody>\n",
       "</table>\n",
       "</div>"
      ],
      "text/plain": [
       "    Q005  Porcentagem (%)\n",
       "4   2485        35.632349\n",
       "5   1493        21.408087\n",
       "3   1391        19.945512\n",
       "6    609         8.732435\n",
       "2    532         7.628334\n",
       "7    223         3.197591\n",
       "8    117         1.677660\n",
       "9     43         0.616576\n",
       "1     37         0.530542\n",
       "10    23         0.329796\n",
       "11    11         0.157729\n",
       "13     5         0.071695\n",
       "12     4         0.057356\n",
       "15     1         0.014339"
      ]
     },
     "execution_count": 23,
     "metadata": {},
     "output_type": "execute_result"
    },
    {
     "data": {
      "image/png": "[encoded data removed]",
      "text/plain": [
       "<Figure size 432x288 with 1 Axes>"
      ]
     },
     "metadata": {
      "needs_background": "light"
     },
     "output_type": "display_data"
    }
   ],
   "source": [
    "dados_C = dadosEnem.query(\"Q006 == 'C'\")\n",
    "var = 'Q005'\n",
    "df = dados_C[var]\n",
    "hist = df.hist()\n",
    "hist.set_xlim((2,8))\n",
    "plt.title('Incluindo você, quantas pessoas moram atualmente em sua residência?')\n",
    "plt.xlabel('Quantidade')\n",
    "plt.ylabel('Frequência')\n",
    "hist\n",
    "plt.show()\n",
    "\n",
    "sns.distplot(df)\n",
    "\n",
    "array = pd.DataFrame(dadosEnem[var].value_counts())\n",
    "array2 = pd.DataFrame(dadosEnem[var].value_counts(normalize=True) * 100)\n",
    "array['Porcentagem (%)'] = array2\n",
    "array\n",
    "\n",
    "\n"
   ]
  },
  {
   "cell_type": "code",
   "execution_count": 24,
   "metadata": {
    "colab": {},
    "colab_type": "code",
    "id": "2ZWVHaOiTFWj"
   },
   "outputs": [
    {
     "data": {
      "text/html": [
       "<div>\n",
       "<style scoped>\n",
       "    .dataframe tbody tr th:only-of-type {\n",
       "        vertical-align: middle;\n",
       "    }\n",
       "\n",
       "    .dataframe tbody tr th {\n",
       "        vertical-align: top;\n",
       "    }\n",
       "\n",
       "    .dataframe thead th {\n",
       "        text-align: right;\n",
       "    }\n",
       "</style>\n",
       "<table border=\"1\" class=\"dataframe\">\n",
       "  <thead>\n",
       "    <tr style=\"text-align: right;\">\n",
       "      <th></th>\n",
       "      <th>Q007</th>\n",
       "      <th>Porcentagem (%)</th>\n",
       "    </tr>\n",
       "  </thead>\n",
       "  <tbody>\n",
       "    <tr>\n",
       "      <th>A</th>\n",
       "      <td>6325</td>\n",
       "      <td>90.694006</td>\n",
       "    </tr>\n",
       "    <tr>\n",
       "      <th>D</th>\n",
       "      <td>328</td>\n",
       "      <td>4.703183</td>\n",
       "    </tr>\n",
       "    <tr>\n",
       "      <th>B</th>\n",
       "      <td>250</td>\n",
       "      <td>3.584743</td>\n",
       "    </tr>\n",
       "    <tr>\n",
       "      <th>C</th>\n",
       "      <td>71</td>\n",
       "      <td>1.018067</td>\n",
       "    </tr>\n",
       "  </tbody>\n",
       "</table>\n",
       "</div>"
      ],
      "text/plain": [
       "   Q007  Porcentagem (%)\n",
       "A  6325        90.694006\n",
       "D   328         4.703183\n",
       "B   250         3.584743\n",
       "C    71         1.018067"
      ]
     },
     "execution_count": 24,
     "metadata": {},
     "output_type": "execute_result"
    },
    {
     "data": {
      "image/png": "[encoded data removed]",
      "text/plain": [
       "<Figure size 432x288 with 1 Axes>"
      ]
     },
     "metadata": {
      "needs_background": "light"
     },
     "output_type": "display_data"
    }
   ],
   "source": [
    "var = \"Q007\"\n",
    "contagem_de_questionario = dadosEnem[var].value_counts().to_frame().reset_index()\n",
    "contagem_de_questionario.columns = [\"Respostas\", \"total\"]\n",
    "frequencia = dadosEnem[var].value_counts(normalize=True)\n",
    "\n",
    "plt.title('Em sua residência trabalha empregado(a) doméstico(a)?')\n",
    "\n",
    "sns.barplot(x=\"Respostas\", y = \"total\", data = contagem_de_questionario)\n",
    "\n",
    "\n",
    "array = pd.DataFrame(dadosEnem[var].value_counts())\n",
    "array2 = pd.DataFrame(dadosEnem[var].value_counts(normalize=True) * 100)\n",
    "array['Porcentagem (%)'] = array2\n",
    "array\n"
   ]
  },
  {
   "cell_type": "code",
   "execution_count": 25,
   "metadata": {
    "colab": {},
    "colab_type": "code",
    "id": "Y2CjThJ0XSn_"
   },
   "outputs": [
    {
     "data": {
      "text/html": [
       "<div>\n",
       "<style scoped>\n",
       "    .dataframe tbody tr th:only-of-type {\n",
       "        vertical-align: middle;\n",
       "    }\n",
       "\n",
       "    .dataframe tbody tr th {\n",
       "        vertical-align: top;\n",
       "    }\n",
       "\n",
       "    .dataframe thead th {\n",
       "        text-align: right;\n",
       "    }\n",
       "</style>\n",
       "<table border=\"1\" class=\"dataframe\">\n",
       "  <thead>\n",
       "    <tr style=\"text-align: right;\">\n",
       "      <th></th>\n",
       "      <th>Q008</th>\n",
       "      <th>Porcentagem (%)</th>\n",
       "    </tr>\n",
       "  </thead>\n",
       "  <tbody>\n",
       "    <tr>\n",
       "      <th>B</th>\n",
       "      <td>4653</td>\n",
       "      <td>66.719243</td>\n",
       "    </tr>\n",
       "    <tr>\n",
       "      <th>C</th>\n",
       "      <td>1479</td>\n",
       "      <td>21.207342</td>\n",
       "    </tr>\n",
       "    <tr>\n",
       "      <th>D</th>\n",
       "      <td>481</td>\n",
       "      <td>6.897046</td>\n",
       "    </tr>\n",
       "    <tr>\n",
       "      <th>E</th>\n",
       "      <td>312</td>\n",
       "      <td>4.473760</td>\n",
       "    </tr>\n",
       "    <tr>\n",
       "      <th>A</th>\n",
       "      <td>49</td>\n",
       "      <td>0.702610</td>\n",
       "    </tr>\n",
       "  </tbody>\n",
       "</table>\n",
       "</div>"
      ],
      "text/plain": [
       "   Q008  Porcentagem (%)\n",
       "B  4653        66.719243\n",
       "C  1479        21.207342\n",
       "D   481         6.897046\n",
       "E   312         4.473760\n",
       "A    49         0.702610"
      ]
     },
     "execution_count": 25,
     "metadata": {},
     "output_type": "execute_result"
    },
    {
     "data": {
      "image/png": "[encoded data removed]",
      "text/plain": [
       "<Figure size 432x288 with 1 Axes>"
      ]
     },
     "metadata": {
      "needs_background": "light"
     },
     "output_type": "display_data"
    }
   ],
   "source": [
    "var = \"Q008\"\n",
    "contagem_de_questionario = dadosEnem[var].value_counts().to_frame().reset_index()\n",
    "contagem_de_questionario.columns = [\"Respostas\", \"total\"]\n",
    "frequencia = dadosEnem[var].value_counts(normalize=True)\n",
    "\n",
    "plt.title('Na sua residência tem banheiro?')\n",
    "\n",
    "sns.barplot(x=\"Respostas\", y = \"total\", data = contagem_de_questionario)\n",
    "\n",
    "\n",
    "array = pd.DataFrame(dadosEnem[var].value_counts())\n",
    "array2 = pd.DataFrame(dadosEnem[var].value_counts(normalize=True) * 100)\n",
    "array['Porcentagem (%)'] = array2\n",
    "array\n"
   ]
  },
  {
   "cell_type": "code",
   "execution_count": 26,
   "metadata": {},
   "outputs": [
    {
     "data": {
      "text/html": [
       "<div>\n",
       "<style scoped>\n",
       "    .dataframe tbody tr th:only-of-type {\n",
       "        vertical-align: middle;\n",
       "    }\n",
       "\n",
       "    .dataframe tbody tr th {\n",
       "        vertical-align: top;\n",
       "    }\n",
       "\n",
       "    .dataframe thead th {\n",
       "        text-align: right;\n",
       "    }\n",
       "</style>\n",
       "<table border=\"1\" class=\"dataframe\">\n",
       "  <thead>\n",
       "    <tr style=\"text-align: right;\">\n",
       "      <th></th>\n",
       "      <th>Q009</th>\n",
       "      <th>Porcentagem (%)</th>\n",
       "    </tr>\n",
       "  </thead>\n",
       "  <tbody>\n",
       "    <tr>\n",
       "      <th>C</th>\n",
       "      <td>3621</td>\n",
       "      <td>51.921422</td>\n",
       "    </tr>\n",
       "    <tr>\n",
       "      <th>D</th>\n",
       "      <td>2274</td>\n",
       "      <td>32.606825</td>\n",
       "    </tr>\n",
       "    <tr>\n",
       "      <th>E</th>\n",
       "      <td>533</td>\n",
       "      <td>7.642673</td>\n",
       "    </tr>\n",
       "    <tr>\n",
       "      <th>B</th>\n",
       "      <td>527</td>\n",
       "      <td>7.556639</td>\n",
       "    </tr>\n",
       "    <tr>\n",
       "      <th>A</th>\n",
       "      <td>19</td>\n",
       "      <td>0.272440</td>\n",
       "    </tr>\n",
       "  </tbody>\n",
       "</table>\n",
       "</div>"
      ],
      "text/plain": [
       "   Q009  Porcentagem (%)\n",
       "C  3621        51.921422\n",
       "D  2274        32.606825\n",
       "E   533         7.642673\n",
       "B   527         7.556639\n",
       "A    19         0.272440"
      ]
     },
     "execution_count": 26,
     "metadata": {},
     "output_type": "execute_result"
    },
    {
     "data": {
      "image/png": "[encoded data removed]",
      "text/plain": [
       "<Figure size 432x288 with 1 Axes>"
      ]
     },
     "metadata": {
      "needs_background": "light"
     },
     "output_type": "display_data"
    }
   ],
   "source": [
    "var = \"Q009\"\n",
    "contagem_de_questionario = dadosEnem[var].value_counts().to_frame().reset_index()\n",
    "contagem_de_questionario.columns = [\"Respostas\", \"total\"]\n",
    "frequencia = dadosEnem[var].value_counts(normalize=True)\n",
    "\n",
    "plt.title('Na sua residência tem quantos quartos para dormir?')\n",
    "\n",
    "sns.barplot(x=\"Respostas\", y = \"total\", data = contagem_de_questionario)\n",
    "\n",
    "\n",
    "array = pd.DataFrame(dadosEnem[var].value_counts())\n",
    "array2 = pd.DataFrame(dadosEnem[var].value_counts(normalize=True) * 100)\n",
    "array['Porcentagem (%)'] = array2\n",
    "array"
   ]
  },
  {
   "cell_type": "code",
   "execution_count": 27,
   "metadata": {},
   "outputs": [
    {
     "data": {
      "text/html": [
       "<div>\n",
       "<style scoped>\n",
       "    .dataframe tbody tr th:only-of-type {\n",
       "        vertical-align: middle;\n",
       "    }\n",
       "\n",
       "    .dataframe tbody tr th {\n",
       "        vertical-align: top;\n",
       "    }\n",
       "\n",
       "    .dataframe thead th {\n",
       "        text-align: right;\n",
       "    }\n",
       "</style>\n",
       "<table border=\"1\" class=\"dataframe\">\n",
       "  <thead>\n",
       "    <tr style=\"text-align: right;\">\n",
       "      <th></th>\n",
       "      <th>Q010</th>\n",
       "      <th>Porcentagem (%)</th>\n",
       "    </tr>\n",
       "  </thead>\n",
       "  <tbody>\n",
       "    <tr>\n",
       "      <th>A</th>\n",
       "      <td>4252</td>\n",
       "      <td>60.969315</td>\n",
       "    </tr>\n",
       "    <tr>\n",
       "      <th>B</th>\n",
       "      <td>2116</td>\n",
       "      <td>30.341268</td>\n",
       "    </tr>\n",
       "    <tr>\n",
       "      <th>C</th>\n",
       "      <td>501</td>\n",
       "      <td>7.183826</td>\n",
       "    </tr>\n",
       "    <tr>\n",
       "      <th>D</th>\n",
       "      <td>84</td>\n",
       "      <td>1.204474</td>\n",
       "    </tr>\n",
       "    <tr>\n",
       "      <th>E</th>\n",
       "      <td>21</td>\n",
       "      <td>0.301118</td>\n",
       "    </tr>\n",
       "  </tbody>\n",
       "</table>\n",
       "</div>"
      ],
      "text/plain": [
       "   Q010  Porcentagem (%)\n",
       "A  4252        60.969315\n",
       "B  2116        30.341268\n",
       "C   501         7.183826\n",
       "D    84         1.204474\n",
       "E    21         0.301118"
      ]
     },
     "execution_count": 27,
     "metadata": {},
     "output_type": "execute_result"
    },
    {
     "data": {
      "image/png": "[encoded data removed]",
      "text/plain": [
       "<Figure size 432x288 with 1 Axes>"
      ]
     },
     "metadata": {
      "needs_background": "light"
     },
     "output_type": "display_data"
    }
   ],
   "source": [
    "var = \"Q010\"\n",
    "contagem_de_questionario = dadosEnem[var].value_counts().to_frame().reset_index()\n",
    "contagem_de_questionario.columns = [\"Respostas\", \"total\"]\n",
    "frequencia = dadosEnem[var].value_counts(normalize=True)\n",
    "\n",
    "plt.title('Na sua residência tem quantos quartos para dormir?')\n",
    "\n",
    "sns.barplot(x=\"Respostas\", y = \"total\", data = contagem_de_questionario)\n",
    "\n",
    "\n",
    "array = pd.DataFrame(dadosEnem[var].value_counts())\n",
    "array2 = pd.DataFrame(dadosEnem[var].value_counts(normalize=True) * 100)\n",
    "array['Porcentagem (%)'] = array2\n",
    "array"
   ]
  },
  {
   "cell_type": "code",
   "execution_count": 28,
   "metadata": {},
   "outputs": [
    {
     "data": {
      "text/html": [
       "<div>\n",
       "<style scoped>\n",
       "    .dataframe tbody tr th:only-of-type {\n",
       "        vertical-align: middle;\n",
       "    }\n",
       "\n",
       "    .dataframe tbody tr th {\n",
       "        vertical-align: top;\n",
       "    }\n",
       "\n",
       "    .dataframe thead th {\n",
       "        text-align: right;\n",
       "    }\n",
       "</style>\n",
       "<table border=\"1\" class=\"dataframe\">\n",
       "  <thead>\n",
       "    <tr style=\"text-align: right;\">\n",
       "      <th></th>\n",
       "      <th>Q011</th>\n",
       "      <th>Porcentagem (%)</th>\n",
       "    </tr>\n",
       "  </thead>\n",
       "  <tbody>\n",
       "    <tr>\n",
       "      <th>A</th>\n",
       "      <td>4924</td>\n",
       "      <td>70.605105</td>\n",
       "    </tr>\n",
       "    <tr>\n",
       "      <th>B</th>\n",
       "      <td>1888</td>\n",
       "      <td>27.071982</td>\n",
       "    </tr>\n",
       "    <tr>\n",
       "      <th>C</th>\n",
       "      <td>151</td>\n",
       "      <td>2.165185</td>\n",
       "    </tr>\n",
       "    <tr>\n",
       "      <th>D</th>\n",
       "      <td>8</td>\n",
       "      <td>0.114712</td>\n",
       "    </tr>\n",
       "    <tr>\n",
       "      <th>E</th>\n",
       "      <td>3</td>\n",
       "      <td>0.043017</td>\n",
       "    </tr>\n",
       "  </tbody>\n",
       "</table>\n",
       "</div>"
      ],
      "text/plain": [
       "   Q011  Porcentagem (%)\n",
       "A  4924        70.605105\n",
       "B  1888        27.071982\n",
       "C   151         2.165185\n",
       "D     8         0.114712\n",
       "E     3         0.043017"
      ]
     },
     "execution_count": 28,
     "metadata": {},
     "output_type": "execute_result"
    },
    {
     "data": {
      "image/png": "[encoded data removed]",
      "text/plain": [
       "<Figure size 432x288 with 1 Axes>"
      ]
     },
     "metadata": {
      "needs_background": "light"
     },
     "output_type": "display_data"
    }
   ],
   "source": [
    "var = \"Q011\"\n",
    "contagem_de_questionario = dadosEnem[var].value_counts().to_frame().reset_index()\n",
    "contagem_de_questionario.columns = [\"Respostas\", \"total\"]\n",
    "frequencia = dadosEnem[var].value_counts(normalize=True)\n",
    "\n",
    "plt.title('Na sua residência tem quantos quartos para dormir?')\n",
    "\n",
    "sns.barplot(x=\"Respostas\", y = \"total\", data = contagem_de_questionario)\n",
    "\n",
    "\n",
    "array = pd.DataFrame(dadosEnem[var].value_counts())\n",
    "array2 = pd.DataFrame(dadosEnem[var].value_counts(normalize=True) * 100)\n",
    "array['Porcentagem (%)'] = array2\n",
    "array"
   ]
  },
  {
   "cell_type": "code",
   "execution_count": 29,
   "metadata": {},
   "outputs": [
    {
     "data": {
      "text/html": [
       "<div>\n",
       "<style scoped>\n",
       "    .dataframe tbody tr th:only-of-type {\n",
       "        vertical-align: middle;\n",
       "    }\n",
       "\n",
       "    .dataframe tbody tr th {\n",
       "        vertical-align: top;\n",
       "    }\n",
       "\n",
       "    .dataframe thead th {\n",
       "        text-align: right;\n",
       "    }\n",
       "</style>\n",
       "<table border=\"1\" class=\"dataframe\">\n",
       "  <thead>\n",
       "    <tr style=\"text-align: right;\">\n",
       "      <th></th>\n",
       "      <th>Q012</th>\n",
       "      <th>Porcentagem (%)</th>\n",
       "    </tr>\n",
       "  </thead>\n",
       "  <tbody>\n",
       "    <tr>\n",
       "      <th>B</th>\n",
       "      <td>6586</td>\n",
       "      <td>94.436478</td>\n",
       "    </tr>\n",
       "    <tr>\n",
       "      <th>C</th>\n",
       "      <td>270</td>\n",
       "      <td>3.871523</td>\n",
       "    </tr>\n",
       "    <tr>\n",
       "      <th>A</th>\n",
       "      <td>85</td>\n",
       "      <td>1.218813</td>\n",
       "    </tr>\n",
       "    <tr>\n",
       "      <th>D</th>\n",
       "      <td>28</td>\n",
       "      <td>0.401491</td>\n",
       "    </tr>\n",
       "    <tr>\n",
       "      <th>E</th>\n",
       "      <td>5</td>\n",
       "      <td>0.071695</td>\n",
       "    </tr>\n",
       "  </tbody>\n",
       "</table>\n",
       "</div>"
      ],
      "text/plain": [
       "   Q012  Porcentagem (%)\n",
       "B  6586        94.436478\n",
       "C   270         3.871523\n",
       "A    85         1.218813\n",
       "D    28         0.401491\n",
       "E     5         0.071695"
      ]
     },
     "execution_count": 29,
     "metadata": {},
     "output_type": "execute_result"
    },
    {
     "data": {
      "image/png": "[encoded data removed]",
      "text/plain": [
       "<Figure size 432x288 with 1 Axes>"
      ]
     },
     "metadata": {
      "needs_background": "light"
     },
     "output_type": "display_data"
    }
   ],
   "source": [
    "var = \"Q012\"\n",
    "contagem_de_questionario = dadosEnem[var].value_counts().to_frame().reset_index()\n",
    "contagem_de_questionario.columns = [\"Respostas\", \"total\"]\n",
    "frequencia = dadosEnem[var].value_counts(normalize=True)\n",
    "\n",
    "plt.title('Na sua residência tem quantos quartos para dormir?')\n",
    "\n",
    "sns.barplot(x=\"Respostas\", y = \"total\", data = contagem_de_questionario)\n",
    "\n",
    "\n",
    "array = pd.DataFrame(dadosEnem[var].value_counts())\n",
    "array2 = pd.DataFrame(dadosEnem[var].value_counts(normalize=True) * 100)\n",
    "array['Porcentagem (%)'] = array2\n",
    "array"
   ]
  },
  {
   "cell_type": "code",
   "execution_count": 30,
   "metadata": {},
   "outputs": [
    {
     "data": {
      "text/html": [
       "<div>\n",
       "<style scoped>\n",
       "    .dataframe tbody tr th:only-of-type {\n",
       "        vertical-align: middle;\n",
       "    }\n",
       "\n",
       "    .dataframe tbody tr th {\n",
       "        vertical-align: top;\n",
       "    }\n",
       "\n",
       "    .dataframe thead th {\n",
       "        text-align: right;\n",
       "    }\n",
       "</style>\n",
       "<table border=\"1\" class=\"dataframe\">\n",
       "  <thead>\n",
       "    <tr style=\"text-align: right;\">\n",
       "      <th></th>\n",
       "      <th>Q013</th>\n",
       "      <th>Porcentagem (%)</th>\n",
       "    </tr>\n",
       "  </thead>\n",
       "  <tbody>\n",
       "    <tr>\n",
       "      <th>A</th>\n",
       "      <td>4865</td>\n",
       "      <td>69.759105</td>\n",
       "    </tr>\n",
       "    <tr>\n",
       "      <th>B</th>\n",
       "      <td>1927</td>\n",
       "      <td>27.631202</td>\n",
       "    </tr>\n",
       "    <tr>\n",
       "      <th>C</th>\n",
       "      <td>140</td>\n",
       "      <td>2.007456</td>\n",
       "    </tr>\n",
       "    <tr>\n",
       "      <th>D</th>\n",
       "      <td>35</td>\n",
       "      <td>0.501864</td>\n",
       "    </tr>\n",
       "    <tr>\n",
       "      <th>E</th>\n",
       "      <td>7</td>\n",
       "      <td>0.100373</td>\n",
       "    </tr>\n",
       "  </tbody>\n",
       "</table>\n",
       "</div>"
      ],
      "text/plain": [
       "   Q013  Porcentagem (%)\n",
       "A  4865        69.759105\n",
       "B  1927        27.631202\n",
       "C   140         2.007456\n",
       "D    35         0.501864\n",
       "E     7         0.100373"
      ]
     },
     "execution_count": 30,
     "metadata": {},
     "output_type": "execute_result"
    },
    {
     "data": {
      "image/png": "[encoded data removed]",
      "text/plain": [
       "<Figure size 432x288 with 1 Axes>"
      ]
     },
     "metadata": {
      "needs_background": "light"
     },
     "output_type": "display_data"
    }
   ],
   "source": [
    "var = \"Q013\"\n",
    "contagem_de_questionario = dadosEnem[var].value_counts().to_frame().reset_index()\n",
    "contagem_de_questionario.columns = [\"Respostas\", \"total\"]\n",
    "frequencia = dadosEnem[var].value_counts(normalize=True)\n",
    "\n",
    "plt.title('Na sua residência tem quantos quartos para dormir?')\n",
    "\n",
    "sns.barplot(x=\"Respostas\", y = \"total\", data = contagem_de_questionario)\n",
    "\n",
    "\n",
    "array = pd.DataFrame(dadosEnem[var].value_counts())\n",
    "array2 = pd.DataFrame(dadosEnem[var].value_counts(normalize=True) * 100)\n",
    "array['Porcentagem (%)'] = array2\n",
    "array"
   ]
  },
  {
   "cell_type": "code",
   "execution_count": 31,
   "metadata": {},
   "outputs": [
    {
     "data": {
      "text/html": [
       "<div>\n",
       "<style scoped>\n",
       "    .dataframe tbody tr th:only-of-type {\n",
       "        vertical-align: middle;\n",
       "    }\n",
       "\n",
       "    .dataframe tbody tr th {\n",
       "        vertical-align: top;\n",
       "    }\n",
       "\n",
       "    .dataframe thead th {\n",
       "        text-align: right;\n",
       "    }\n",
       "</style>\n",
       "<table border=\"1\" class=\"dataframe\">\n",
       "  <thead>\n",
       "    <tr style=\"text-align: right;\">\n",
       "      <th></th>\n",
       "      <th>Q014</th>\n",
       "      <th>Porcentagem (%)</th>\n",
       "    </tr>\n",
       "  </thead>\n",
       "  <tbody>\n",
       "    <tr>\n",
       "      <th>A</th>\n",
       "      <td>4074</td>\n",
       "      <td>58.416977</td>\n",
       "    </tr>\n",
       "    <tr>\n",
       "      <th>B</th>\n",
       "      <td>2878</td>\n",
       "      <td>41.267565</td>\n",
       "    </tr>\n",
       "    <tr>\n",
       "      <th>C</th>\n",
       "      <td>20</td>\n",
       "      <td>0.286779</td>\n",
       "    </tr>\n",
       "    <tr>\n",
       "      <th>D</th>\n",
       "      <td>1</td>\n",
       "      <td>0.014339</td>\n",
       "    </tr>\n",
       "    <tr>\n",
       "      <th>E</th>\n",
       "      <td>1</td>\n",
       "      <td>0.014339</td>\n",
       "    </tr>\n",
       "  </tbody>\n",
       "</table>\n",
       "</div>"
      ],
      "text/plain": [
       "   Q014  Porcentagem (%)\n",
       "A  4074        58.416977\n",
       "B  2878        41.267565\n",
       "C    20         0.286779\n",
       "D     1         0.014339\n",
       "E     1         0.014339"
      ]
     },
     "execution_count": 31,
     "metadata": {},
     "output_type": "execute_result"
    },
    {
     "data": {
      "image/png": "[encoded data removed]",
      "text/plain": [
       "<Figure size 432x288 with 1 Axes>"
      ]
     },
     "metadata": {
      "needs_background": "light"
     },
     "output_type": "display_data"
    }
   ],
   "source": [
    "var = \"Q014\"\n",
    "contagem_de_questionario = dadosEnem[var].value_counts().to_frame().reset_index()\n",
    "contagem_de_questionario.columns = [\"Respostas\", \"total\"]\n",
    "frequencia = dadosEnem[var].value_counts(normalize=True)\n",
    "\n",
    "plt.title('Na sua residência tem quantos quartos para dormir?')\n",
    "\n",
    "sns.barplot(x=\"Respostas\", y = \"total\", data = contagem_de_questionario)\n",
    "\n",
    "\n",
    "array = pd.DataFrame(dadosEnem[var].value_counts())\n",
    "array2 = pd.DataFrame(dadosEnem[var].value_counts(normalize=True) * 100)\n",
    "array['Porcentagem (%)'] = array2\n",
    "array"
   ]
  },
  {
   "cell_type": "code",
   "execution_count": 32,
   "metadata": {},
   "outputs": [
    {
     "data": {
      "text/html": [
       "<div>\n",
       "<style scoped>\n",
       "    .dataframe tbody tr th:only-of-type {\n",
       "        vertical-align: middle;\n",
       "    }\n",
       "\n",
       "    .dataframe tbody tr th {\n",
       "        vertical-align: top;\n",
       "    }\n",
       "\n",
       "    .dataframe thead th {\n",
       "        text-align: right;\n",
       "    }\n",
       "</style>\n",
       "<table border=\"1\" class=\"dataframe\">\n",
       "  <thead>\n",
       "    <tr style=\"text-align: right;\">\n",
       "      <th></th>\n",
       "      <th>Q015</th>\n",
       "      <th>Porcentagem (%)</th>\n",
       "    </tr>\n",
       "  </thead>\n",
       "  <tbody>\n",
       "    <tr>\n",
       "      <th>A</th>\n",
       "      <td>6560</td>\n",
       "      <td>94.063665</td>\n",
       "    </tr>\n",
       "    <tr>\n",
       "      <th>B</th>\n",
       "      <td>412</td>\n",
       "      <td>5.907657</td>\n",
       "    </tr>\n",
       "    <tr>\n",
       "      <th>C</th>\n",
       "      <td>2</td>\n",
       "      <td>0.028678</td>\n",
       "    </tr>\n",
       "  </tbody>\n",
       "</table>\n",
       "</div>"
      ],
      "text/plain": [
       "   Q015  Porcentagem (%)\n",
       "A  6560        94.063665\n",
       "B   412         5.907657\n",
       "C     2         0.028678"
      ]
     },
     "execution_count": 32,
     "metadata": {},
     "output_type": "execute_result"
    },
    {
     "data": {
      "image/png": "[encoded data removed]",
      "text/plain": [
       "<Figure size 432x288 with 1 Axes>"
      ]
     },
     "metadata": {
      "needs_background": "light"
     },
     "output_type": "display_data"
    }
   ],
   "source": [
    "var = \"Q015\"\n",
    "contagem_de_questionario = dadosEnem[var].value_counts().to_frame().reset_index()\n",
    "contagem_de_questionario.columns = [\"Respostas\", \"total\"]\n",
    "frequencia = dadosEnem[var].value_counts(normalize=True)\n",
    "\n",
    "plt.title('Na sua residência tem quantos quartos para dormir?')\n",
    "\n",
    "sns.barplot(x=\"Respostas\", y = \"total\", data = contagem_de_questionario)\n",
    "\n",
    "\n",
    "array = pd.DataFrame(dadosEnem[var].value_counts())\n",
    "array2 = pd.DataFrame(dadosEnem[var].value_counts(normalize=True) * 100)\n",
    "array['Porcentagem (%)'] = array2\n",
    "array"
   ]
  },
  {
   "cell_type": "code",
   "execution_count": 33,
   "metadata": {},
   "outputs": [
    {
     "data": {
      "text/html": [
       "<div>\n",
       "<style scoped>\n",
       "    .dataframe tbody tr th:only-of-type {\n",
       "        vertical-align: middle;\n",
       "    }\n",
       "\n",
       "    .dataframe tbody tr th {\n",
       "        vertical-align: top;\n",
       "    }\n",
       "\n",
       "    .dataframe thead th {\n",
       "        text-align: right;\n",
       "    }\n",
       "</style>\n",
       "<table border=\"1\" class=\"dataframe\">\n",
       "  <thead>\n",
       "    <tr style=\"text-align: right;\">\n",
       "      <th></th>\n",
       "      <th>Q016</th>\n",
       "      <th>Porcentagem (%)</th>\n",
       "    </tr>\n",
       "  </thead>\n",
       "  <tbody>\n",
       "    <tr>\n",
       "      <th>A</th>\n",
       "      <td>4453</td>\n",
       "      <td>63.851448</td>\n",
       "    </tr>\n",
       "    <tr>\n",
       "      <th>B</th>\n",
       "      <td>2498</td>\n",
       "      <td>35.818755</td>\n",
       "    </tr>\n",
       "    <tr>\n",
       "      <th>C</th>\n",
       "      <td>22</td>\n",
       "      <td>0.315457</td>\n",
       "    </tr>\n",
       "    <tr>\n",
       "      <th>D</th>\n",
       "      <td>1</td>\n",
       "      <td>0.014339</td>\n",
       "    </tr>\n",
       "  </tbody>\n",
       "</table>\n",
       "</div>"
      ],
      "text/plain": [
       "   Q016  Porcentagem (%)\n",
       "A  4453        63.851448\n",
       "B  2498        35.818755\n",
       "C    22         0.315457\n",
       "D     1         0.014339"
      ]
     },
     "execution_count": 33,
     "metadata": {},
     "output_type": "execute_result"
    },
    {
     "data": {
      "image/png": "[encoded data removed]",
      "text/plain": [
       "<Figure size 432x288 with 1 Axes>"
      ]
     },
     "metadata": {
      "needs_background": "light"
     },
     "output_type": "display_data"
    }
   ],
   "source": [
    "var = \"Q016\"\n",
    "contagem_de_questionario = dadosEnem[var].value_counts().to_frame().reset_index()\n",
    "contagem_de_questionario.columns = [\"Respostas\", \"total\"]\n",
    "frequencia = dadosEnem[var].value_counts(normalize=True)\n",
    "\n",
    "plt.title('Na sua residência tem quantos quartos para dormir?')\n",
    "\n",
    "sns.barplot(x=\"Respostas\", y = \"total\", data = contagem_de_questionario)\n",
    "\n",
    "\n",
    "array = pd.DataFrame(dadosEnem[var].value_counts())\n",
    "array2 = pd.DataFrame(dadosEnem[var].value_counts(normalize=True) * 100)\n",
    "array['Porcentagem (%)'] = array2\n",
    "array"
   ]
  },
  {
   "cell_type": "code",
   "execution_count": 34,
   "metadata": {},
   "outputs": [
    {
     "data": {
      "text/html": [
       "<div>\n",
       "<style scoped>\n",
       "    .dataframe tbody tr th:only-of-type {\n",
       "        vertical-align: middle;\n",
       "    }\n",
       "\n",
       "    .dataframe tbody tr th {\n",
       "        vertical-align: top;\n",
       "    }\n",
       "\n",
       "    .dataframe thead th {\n",
       "        text-align: right;\n",
       "    }\n",
       "</style>\n",
       "<table border=\"1\" class=\"dataframe\">\n",
       "  <thead>\n",
       "    <tr style=\"text-align: right;\">\n",
       "      <th></th>\n",
       "      <th>Q017</th>\n",
       "      <th>Porcentagem (%)</th>\n",
       "    </tr>\n",
       "  </thead>\n",
       "  <tbody>\n",
       "    <tr>\n",
       "      <th>A</th>\n",
       "      <td>6895</td>\n",
       "      <td>98.867221</td>\n",
       "    </tr>\n",
       "    <tr>\n",
       "      <th>B</th>\n",
       "      <td>76</td>\n",
       "      <td>1.089762</td>\n",
       "    </tr>\n",
       "    <tr>\n",
       "      <th>C</th>\n",
       "      <td>2</td>\n",
       "      <td>0.028678</td>\n",
       "    </tr>\n",
       "    <tr>\n",
       "      <th>D</th>\n",
       "      <td>1</td>\n",
       "      <td>0.014339</td>\n",
       "    </tr>\n",
       "  </tbody>\n",
       "</table>\n",
       "</div>"
      ],
      "text/plain": [
       "   Q017  Porcentagem (%)\n",
       "A  6895        98.867221\n",
       "B    76         1.089762\n",
       "C     2         0.028678\n",
       "D     1         0.014339"
      ]
     },
     "execution_count": 34,
     "metadata": {},
     "output_type": "execute_result"
    },
    {
     "data": {
      "image/png": "[encoded data removed]",
      "text/plain": [
       "<Figure size 432x288 with 1 Axes>"
      ]
     },
     "metadata": {
      "needs_background": "light"
     },
     "output_type": "display_data"
    }
   ],
   "source": [
    "var = \"Q017\"\n",
    "contagem_de_questionario = dadosEnem[var].value_counts().to_frame().reset_index()\n",
    "contagem_de_questionario.columns = [\"Respostas\", \"total\"]\n",
    "frequencia = dadosEnem[var].value_counts(normalize=True)\n",
    "\n",
    "plt.title('Na sua residência tem quantos quartos para dormir?')\n",
    "\n",
    "sns.barplot(x=\"Respostas\", y = \"total\", data = contagem_de_questionario)\n",
    "\n",
    "\n",
    "array = pd.DataFrame(dadosEnem[var].value_counts())\n",
    "array2 = pd.DataFrame(dadosEnem[var].value_counts(normalize=True) * 100)\n",
    "array['Porcentagem (%)'] = array2\n",
    "array"
   ]
  },
  {
   "cell_type": "code",
   "execution_count": 35,
   "metadata": {},
   "outputs": [
    {
     "data": {
      "text/html": [
       "<div>\n",
       "<style scoped>\n",
       "    .dataframe tbody tr th:only-of-type {\n",
       "        vertical-align: middle;\n",
       "    }\n",
       "\n",
       "    .dataframe tbody tr th {\n",
       "        vertical-align: top;\n",
       "    }\n",
       "\n",
       "    .dataframe thead th {\n",
       "        text-align: right;\n",
       "    }\n",
       "</style>\n",
       "<table border=\"1\" class=\"dataframe\">\n",
       "  <thead>\n",
       "    <tr style=\"text-align: right;\">\n",
       "      <th></th>\n",
       "      <th>Q018</th>\n",
       "      <th>Porcentagem (%)</th>\n",
       "    </tr>\n",
       "  </thead>\n",
       "  <tbody>\n",
       "    <tr>\n",
       "      <th>A</th>\n",
       "      <td>6515</td>\n",
       "      <td>93.418411</td>\n",
       "    </tr>\n",
       "    <tr>\n",
       "      <th>B</th>\n",
       "      <td>459</td>\n",
       "      <td>6.581589</td>\n",
       "    </tr>\n",
       "  </tbody>\n",
       "</table>\n",
       "</div>"
      ],
      "text/plain": [
       "   Q018  Porcentagem (%)\n",
       "A  6515        93.418411\n",
       "B   459         6.581589"
      ]
     },
     "execution_count": 35,
     "metadata": {},
     "output_type": "execute_result"
    },
    {
     "data": {
      "image/png": "[encoded data removed]",
      "text/plain": [
       "<Figure size 432x288 with 1 Axes>"
      ]
     },
     "metadata": {
      "needs_background": "light"
     },
     "output_type": "display_data"
    }
   ],
   "source": [
    "var = \"Q018\"\n",
    "contagem_de_questionario = dadosEnem[var].value_counts().to_frame().reset_index()\n",
    "contagem_de_questionario.columns = [\"Respostas\", \"total\"]\n",
    "frequencia = dadosEnem[var].value_counts(normalize=True)\n",
    "\n",
    "plt.title('Na sua residência tem quantos quartos para dormir?')\n",
    "\n",
    "sns.barplot(x=\"Respostas\", y = \"total\", data = contagem_de_questionario)\n",
    "\n",
    "\n",
    "array = pd.DataFrame(dadosEnem[var].value_counts())\n",
    "array2 = pd.DataFrame(dadosEnem[var].value_counts(normalize=True) * 100)\n",
    "array['Porcentagem (%)'] = array2\n",
    "array"
   ]
  },
  {
   "cell_type": "code",
   "execution_count": 36,
   "metadata": {},
   "outputs": [
    {
     "data": {
      "text/html": [
       "<div>\n",
       "<style scoped>\n",
       "    .dataframe tbody tr th:only-of-type {\n",
       "        vertical-align: middle;\n",
       "    }\n",
       "\n",
       "    .dataframe tbody tr th {\n",
       "        vertical-align: top;\n",
       "    }\n",
       "\n",
       "    .dataframe thead th {\n",
       "        text-align: right;\n",
       "    }\n",
       "</style>\n",
       "<table border=\"1\" class=\"dataframe\">\n",
       "  <thead>\n",
       "    <tr style=\"text-align: right;\">\n",
       "      <th></th>\n",
       "      <th>Q019</th>\n",
       "      <th>Porcentagem (%)</th>\n",
       "    </tr>\n",
       "  </thead>\n",
       "  <tbody>\n",
       "    <tr>\n",
       "      <th>B</th>\n",
       "      <td>4780</td>\n",
       "      <td>68.540293</td>\n",
       "    </tr>\n",
       "    <tr>\n",
       "      <th>C</th>\n",
       "      <td>1300</td>\n",
       "      <td>18.640665</td>\n",
       "    </tr>\n",
       "    <tr>\n",
       "      <th>D</th>\n",
       "      <td>416</td>\n",
       "      <td>5.965013</td>\n",
       "    </tr>\n",
       "    <tr>\n",
       "      <th>E</th>\n",
       "      <td>261</td>\n",
       "      <td>3.742472</td>\n",
       "    </tr>\n",
       "    <tr>\n",
       "      <th>A</th>\n",
       "      <td>217</td>\n",
       "      <td>3.111557</td>\n",
       "    </tr>\n",
       "  </tbody>\n",
       "</table>\n",
       "</div>"
      ],
      "text/plain": [
       "   Q019  Porcentagem (%)\n",
       "B  4780        68.540293\n",
       "C  1300        18.640665\n",
       "D   416         5.965013\n",
       "E   261         3.742472\n",
       "A   217         3.111557"
      ]
     },
     "execution_count": 36,
     "metadata": {},
     "output_type": "execute_result"
    },
    {
     "data": {
      "image/png": "[encoded data removed]",
      "text/plain": [
       "<Figure size 432x288 with 1 Axes>"
      ]
     },
     "metadata": {
      "needs_background": "light"
     },
     "output_type": "display_data"
    }
   ],
   "source": [
    "var = \"Q019\"\n",
    "contagem_de_questionario = dadosEnem[var].value_counts().to_frame().reset_index()\n",
    "contagem_de_questionario.columns = [\"Respostas\", \"total\"]\n",
    "frequencia = dadosEnem[var].value_counts(normalize=True)\n",
    "\n",
    "plt.title('Na sua residência tem quantos quartos para dormir?')\n",
    "\n",
    "sns.barplot(x=\"Respostas\", y = \"total\", data = contagem_de_questionario)\n",
    "\n",
    "\n",
    "array = pd.DataFrame(dadosEnem[var].value_counts())\n",
    "array2 = pd.DataFrame(dadosEnem[var].value_counts(normalize=True) * 100)\n",
    "array['Porcentagem (%)'] = array2\n",
    "array"
   ]
  },
  {
   "cell_type": "code",
   "execution_count": 37,
   "metadata": {},
   "outputs": [
    {
     "data": {
      "text/html": [
       "<div>\n",
       "<style scoped>\n",
       "    .dataframe tbody tr th:only-of-type {\n",
       "        vertical-align: middle;\n",
       "    }\n",
       "\n",
       "    .dataframe tbody tr th {\n",
       "        vertical-align: top;\n",
       "    }\n",
       "\n",
       "    .dataframe thead th {\n",
       "        text-align: right;\n",
       "    }\n",
       "</style>\n",
       "<table border=\"1\" class=\"dataframe\">\n",
       "  <thead>\n",
       "    <tr style=\"text-align: right;\">\n",
       "      <th></th>\n",
       "      <th>Q020</th>\n",
       "      <th>Porcentagem (%)</th>\n",
       "    </tr>\n",
       "  </thead>\n",
       "  <tbody>\n",
       "    <tr>\n",
       "      <th>A</th>\n",
       "      <td>4730</td>\n",
       "      <td>67.823344</td>\n",
       "    </tr>\n",
       "    <tr>\n",
       "      <th>B</th>\n",
       "      <td>2244</td>\n",
       "      <td>32.176656</td>\n",
       "    </tr>\n",
       "  </tbody>\n",
       "</table>\n",
       "</div>"
      ],
      "text/plain": [
       "   Q020  Porcentagem (%)\n",
       "A  4730        67.823344\n",
       "B  2244        32.176656"
      ]
     },
     "execution_count": 37,
     "metadata": {},
     "output_type": "execute_result"
    },
    {
     "data": {
      "image/png": "[encoded data removed]",
      "text/plain": [
       "<Figure size 432x288 with 1 Axes>"
      ]
     },
     "metadata": {
      "needs_background": "light"
     },
     "output_type": "display_data"
    }
   ],
   "source": [
    "var = \"Q020\"\n",
    "contagem_de_questionario = dadosEnem[var].value_counts().to_frame().reset_index()\n",
    "contagem_de_questionario.columns = [\"Respostas\", \"total\"]\n",
    "frequencia = dadosEnem[var].value_counts(normalize=True)\n",
    "\n",
    "plt.title('Na sua residência tem quantos quartos para dormir?')\n",
    "\n",
    "sns.barplot(x=\"Respostas\", y = \"total\", data = contagem_de_questionario)\n",
    "\n",
    "\n",
    "array = pd.DataFrame(dadosEnem[var].value_counts())\n",
    "array2 = pd.DataFrame(dadosEnem[var].value_counts(normalize=True) * 100)\n",
    "array['Porcentagem (%)'] = array2\n",
    "array"
   ]
  },
  {
   "cell_type": "code",
   "execution_count": 38,
   "metadata": {},
   "outputs": [
    {
     "data": {
      "text/html": [
       "<div>\n",
       "<style scoped>\n",
       "    .dataframe tbody tr th:only-of-type {\n",
       "        vertical-align: middle;\n",
       "    }\n",
       "\n",
       "    .dataframe tbody tr th {\n",
       "        vertical-align: top;\n",
       "    }\n",
       "\n",
       "    .dataframe thead th {\n",
       "        text-align: right;\n",
       "    }\n",
       "</style>\n",
       "<table border=\"1\" class=\"dataframe\">\n",
       "  <thead>\n",
       "    <tr style=\"text-align: right;\">\n",
       "      <th></th>\n",
       "      <th>Q021</th>\n",
       "      <th>Porcentagem (%)</th>\n",
       "    </tr>\n",
       "  </thead>\n",
       "  <tbody>\n",
       "    <tr>\n",
       "      <th>A</th>\n",
       "      <td>5740</td>\n",
       "      <td>82.305707</td>\n",
       "    </tr>\n",
       "    <tr>\n",
       "      <th>B</th>\n",
       "      <td>1234</td>\n",
       "      <td>17.694293</td>\n",
       "    </tr>\n",
       "  </tbody>\n",
       "</table>\n",
       "</div>"
      ],
      "text/plain": [
       "   Q021  Porcentagem (%)\n",
       "A  5740        82.305707\n",
       "B  1234        17.694293"
      ]
     },
     "execution_count": 38,
     "metadata": {},
     "output_type": "execute_result"
    },
    {
     "data": {
      "image/png": "[encoded data removed]",
      "text/plain": [
       "<Figure size 432x288 with 1 Axes>"
      ]
     },
     "metadata": {
      "needs_background": "light"
     },
     "output_type": "display_data"
    }
   ],
   "source": [
    "var = \"Q021\"\n",
    "contagem_de_questionario = dadosEnem[var].value_counts().to_frame().reset_index()\n",
    "contagem_de_questionario.columns = [\"Respostas\", \"total\"]\n",
    "frequencia = dadosEnem[var].value_counts(normalize=True)\n",
    "\n",
    "plt.title('Na sua residência tem quantos quartos para dormir?')\n",
    "\n",
    "sns.barplot(x=\"Respostas\", y = \"total\", data = contagem_de_questionario)\n",
    "\n",
    "\n",
    "array = pd.DataFrame(dadosEnem[var].value_counts())\n",
    "array2 = pd.DataFrame(dadosEnem[var].value_counts(normalize=True) * 100)\n",
    "array['Porcentagem (%)'] = array2\n",
    "array"
   ]
  },
  {
   "cell_type": "code",
   "execution_count": 39,
   "metadata": {},
   "outputs": [
    {
     "data": {
      "text/html": [
       "<div>\n",
       "<style scoped>\n",
       "    .dataframe tbody tr th:only-of-type {\n",
       "        vertical-align: middle;\n",
       "    }\n",
       "\n",
       "    .dataframe tbody tr th {\n",
       "        vertical-align: top;\n",
       "    }\n",
       "\n",
       "    .dataframe thead th {\n",
       "        text-align: right;\n",
       "    }\n",
       "</style>\n",
       "<table border=\"1\" class=\"dataframe\">\n",
       "  <thead>\n",
       "    <tr style=\"text-align: right;\">\n",
       "      <th></th>\n",
       "      <th>Q022</th>\n",
       "      <th>Porcentagem (%)</th>\n",
       "    </tr>\n",
       "  </thead>\n",
       "  <tbody>\n",
       "    <tr>\n",
       "      <th>C</th>\n",
       "      <td>2098</td>\n",
       "      <td>30.083166</td>\n",
       "    </tr>\n",
       "    <tr>\n",
       "      <th>D</th>\n",
       "      <td>1939</td>\n",
       "      <td>27.803269</td>\n",
       "    </tr>\n",
       "    <tr>\n",
       "      <th>E</th>\n",
       "      <td>1602</td>\n",
       "      <td>22.971035</td>\n",
       "    </tr>\n",
       "    <tr>\n",
       "      <th>B</th>\n",
       "      <td>1235</td>\n",
       "      <td>17.708632</td>\n",
       "    </tr>\n",
       "    <tr>\n",
       "      <th>A</th>\n",
       "      <td>100</td>\n",
       "      <td>1.433897</td>\n",
       "    </tr>\n",
       "  </tbody>\n",
       "</table>\n",
       "</div>"
      ],
      "text/plain": [
       "   Q022  Porcentagem (%)\n",
       "C  2098        30.083166\n",
       "D  1939        27.803269\n",
       "E  1602        22.971035\n",
       "B  1235        17.708632\n",
       "A   100         1.433897"
      ]
     },
     "execution_count": 39,
     "metadata": {},
     "output_type": "execute_result"
    },
    {
     "data": {
      "image/png": "[encoded data removed]",
      "text/plain": [
       "<Figure size 432x288 with 1 Axes>"
      ]
     },
     "metadata": {
      "needs_background": "light"
     },
     "output_type": "display_data"
    }
   ],
   "source": [
    "var = \"Q022\"\n",
    "contagem_de_questionario = dadosEnem[var].value_counts().to_frame().reset_index()\n",
    "contagem_de_questionario.columns = [\"Respostas\", \"total\"]\n",
    "frequencia = dadosEnem[var].value_counts(normalize=True)\n",
    "\n",
    "plt.title('Na sua residência tem quantos quartos para dormir?')\n",
    "\n",
    "sns.barplot(x=\"Respostas\", y = \"total\", data = contagem_de_questionario)\n",
    "\n",
    "\n",
    "array = pd.DataFrame(dadosEnem[var].value_counts())\n",
    "array2 = pd.DataFrame(dadosEnem[var].value_counts(normalize=True) * 100)\n",
    "array['Porcentagem (%)'] = array2\n",
    "array"
   ]
  },
  {
   "cell_type": "code",
   "execution_count": 40,
   "metadata": {},
   "outputs": [
    {
     "data": {
      "text/html": [
       "<div>\n",
       "<style scoped>\n",
       "    .dataframe tbody tr th:only-of-type {\n",
       "        vertical-align: middle;\n",
       "    }\n",
       "\n",
       "    .dataframe tbody tr th {\n",
       "        vertical-align: top;\n",
       "    }\n",
       "\n",
       "    .dataframe thead th {\n",
       "        text-align: right;\n",
       "    }\n",
       "</style>\n",
       "<table border=\"1\" class=\"dataframe\">\n",
       "  <thead>\n",
       "    <tr style=\"text-align: right;\">\n",
       "      <th></th>\n",
       "      <th>Q023</th>\n",
       "      <th>Porcentagem (%)</th>\n",
       "    </tr>\n",
       "  </thead>\n",
       "  <tbody>\n",
       "    <tr>\n",
       "      <th>A</th>\n",
       "      <td>5750</td>\n",
       "      <td>82.449097</td>\n",
       "    </tr>\n",
       "    <tr>\n",
       "      <th>B</th>\n",
       "      <td>1224</td>\n",
       "      <td>17.550903</td>\n",
       "    </tr>\n",
       "  </tbody>\n",
       "</table>\n",
       "</div>"
      ],
      "text/plain": [
       "   Q023  Porcentagem (%)\n",
       "A  5750        82.449097\n",
       "B  1224        17.550903"
      ]
     },
     "execution_count": 40,
     "metadata": {},
     "output_type": "execute_result"
    },
    {
     "data": {
      "image/png": "[encoded data removed]",
      "text/plain": [
       "<Figure size 432x288 with 1 Axes>"
      ]
     },
     "metadata": {
      "needs_background": "light"
     },
     "output_type": "display_data"
    }
   ],
   "source": [
    "var = \"Q023\"\n",
    "contagem_de_questionario = dadosEnem[var].value_counts().to_frame().reset_index()\n",
    "contagem_de_questionario.columns = [\"Respostas\", \"total\"]\n",
    "frequencia = dadosEnem[var].value_counts(normalize=True)\n",
    "\n",
    "plt.title('Na sua residência tem quantos quartos para dormir?')\n",
    "\n",
    "sns.barplot(x=\"Respostas\", y = \"total\", data = contagem_de_questionario)\n",
    "\n",
    "\n",
    "array = pd.DataFrame(dadosEnem[var].value_counts())\n",
    "array2 = pd.DataFrame(dadosEnem[var].value_counts(normalize=True) * 100)\n",
    "array['Porcentagem (%)'] = array2\n",
    "array"
   ]
  },
  {
   "cell_type": "code",
   "execution_count": 41,
   "metadata": {},
   "outputs": [
    {
     "data": {
      "text/html": [
       "<div>\n",
       "<style scoped>\n",
       "    .dataframe tbody tr th:only-of-type {\n",
       "        vertical-align: middle;\n",
       "    }\n",
       "\n",
       "    .dataframe tbody tr th {\n",
       "        vertical-align: top;\n",
       "    }\n",
       "\n",
       "    .dataframe thead th {\n",
       "        text-align: right;\n",
       "    }\n",
       "</style>\n",
       "<table border=\"1\" class=\"dataframe\">\n",
       "  <thead>\n",
       "    <tr style=\"text-align: right;\">\n",
       "      <th></th>\n",
       "      <th>Q024</th>\n",
       "      <th>Porcentagem (%)</th>\n",
       "    </tr>\n",
       "  </thead>\n",
       "  <tbody>\n",
       "    <tr>\n",
       "      <th>A</th>\n",
       "      <td>3866</td>\n",
       "      <td>55.434471</td>\n",
       "    </tr>\n",
       "    <tr>\n",
       "      <th>B</th>\n",
       "      <td>2407</td>\n",
       "      <td>34.513909</td>\n",
       "    </tr>\n",
       "    <tr>\n",
       "      <th>C</th>\n",
       "      <td>483</td>\n",
       "      <td>6.925724</td>\n",
       "    </tr>\n",
       "    <tr>\n",
       "      <th>D</th>\n",
       "      <td>164</td>\n",
       "      <td>2.351592</td>\n",
       "    </tr>\n",
       "    <tr>\n",
       "      <th>E</th>\n",
       "      <td>54</td>\n",
       "      <td>0.774305</td>\n",
       "    </tr>\n",
       "  </tbody>\n",
       "</table>\n",
       "</div>"
      ],
      "text/plain": [
       "   Q024  Porcentagem (%)\n",
       "A  3866        55.434471\n",
       "B  2407        34.513909\n",
       "C   483         6.925724\n",
       "D   164         2.351592\n",
       "E    54         0.774305"
      ]
     },
     "execution_count": 41,
     "metadata": {},
     "output_type": "execute_result"
    },
    {
     "data": {
      "image/png": "[encoded data removed]",
      "text/plain": [
       "<Figure size 432x288 with 1 Axes>"
      ]
     },
     "metadata": {
      "needs_background": "light"
     },
     "output_type": "display_data"
    }
   ],
   "source": [
    "var = \"Q024\"\n",
    "contagem_de_questionario = dadosEnem[var].value_counts().to_frame().reset_index()\n",
    "contagem_de_questionario.columns = [\"Respostas\", \"total\"]\n",
    "frequencia = dadosEnem[var].value_counts(normalize=True)\n",
    "\n",
    "plt.title('Na sua residência tem quantos quartos para dormir?')\n",
    "\n",
    "sns.barplot(x=\"Respostas\", y = \"total\", data = contagem_de_questionario)\n",
    "\n",
    "\n",
    "array = pd.DataFrame(dadosEnem[var].value_counts())\n",
    "array2 = pd.DataFrame(dadosEnem[var].value_counts(normalize=True) * 100)\n",
    "array['Porcentagem (%)'] = array2\n",
    "array"
   ]
  },
  {
   "cell_type": "code",
   "execution_count": 42,
   "metadata": {},
   "outputs": [
    {
     "data": {
      "text/html": [
       "<div>\n",
       "<style scoped>\n",
       "    .dataframe tbody tr th:only-of-type {\n",
       "        vertical-align: middle;\n",
       "    }\n",
       "\n",
       "    .dataframe tbody tr th {\n",
       "        vertical-align: top;\n",
       "    }\n",
       "\n",
       "    .dataframe thead th {\n",
       "        text-align: right;\n",
       "    }\n",
       "</style>\n",
       "<table border=\"1\" class=\"dataframe\">\n",
       "  <thead>\n",
       "    <tr style=\"text-align: right;\">\n",
       "      <th></th>\n",
       "      <th>Q025</th>\n",
       "      <th>Porcentagem (%)</th>\n",
       "    </tr>\n",
       "  </thead>\n",
       "  <tbody>\n",
       "    <tr>\n",
       "      <th>B</th>\n",
       "      <td>5060</td>\n",
       "      <td>72.555205</td>\n",
       "    </tr>\n",
       "    <tr>\n",
       "      <th>A</th>\n",
       "      <td>1914</td>\n",
       "      <td>27.444795</td>\n",
       "    </tr>\n",
       "  </tbody>\n",
       "</table>\n",
       "</div>"
      ],
      "text/plain": [
       "   Q025  Porcentagem (%)\n",
       "B  5060        72.555205\n",
       "A  1914        27.444795"
      ]
     },
     "execution_count": 42,
     "metadata": {},
     "output_type": "execute_result"
    },
    {
     "data": {
      "image/png": "[encoded data removed]",
      "text/plain": [
       "<Figure size 432x288 with 1 Axes>"
      ]
     },
     "metadata": {
      "needs_background": "light"
     },
     "output_type": "display_data"
    }
   ],
   "source": [
    "var = \"Q025\"\n",
    "contagem_de_questionario = dadosEnem[var].value_counts().to_frame().reset_index()\n",
    "contagem_de_questionario.columns = [\"Respostas\", \"total\"]\n",
    "frequencia = dadosEnem[var].value_counts(normalize=True)\n",
    "\n",
    "plt.title('Na sua residência tem quantos quartos para dormir?')\n",
    "\n",
    "sns.barplot(x=\"Respostas\", y = \"total\", data = contagem_de_questionario)\n",
    "\n",
    "\n",
    "array = pd.DataFrame(dadosEnem[var].value_counts())\n",
    "array2 = pd.DataFrame(dadosEnem[var].value_counts(normalize=True) * 100)\n",
    "array['Porcentagem (%)'] = array2\n",
    "array"
   ]
  },
  {
   "cell_type": "code",
   "execution_count": 43,
   "metadata": {},
   "outputs": [
    {
     "ename": "KeyError",
     "evalue": "'Q026'",
     "output_type": "error",
     "traceback": [
      "\u001b[1;31m---------------------------------------------------------------------------\u001b[0m",
      "\u001b[1;31mKeyError\u001b[0m                                  Traceback (most recent call last)",
      "\u001b[1;32m~\\anaconda3\\lib\\site-packages\\pandas\\core\\indexes\\base.py\u001b[0m in \u001b[0;36mget_loc\u001b[1;34m(self, key, method, tolerance)\u001b[0m\n\u001b[0;32m   2645\u001b[0m             \u001b[1;32mtry\u001b[0m\u001b[1;33m:\u001b[0m\u001b[1;33m\u001b[0m\u001b[1;33m\u001b[0m\u001b[0m\n\u001b[1;32m-> 2646\u001b[1;33m                 \u001b[1;32mreturn\u001b[0m \u001b[0mself\u001b[0m\u001b[1;33m.\u001b[0m\u001b[0m_engine\u001b[0m\u001b[1;33m.\u001b[0m\u001b[0mget_loc\u001b[0m\u001b[1;33m(\u001b[0m\u001b[0mkey\u001b[0m\u001b[1;33m)\u001b[0m\u001b[1;33m\u001b[0m\u001b[1;33m\u001b[0m\u001b[0m\n\u001b[0m\u001b[0;32m   2647\u001b[0m             \u001b[1;32mexcept\u001b[0m \u001b[0mKeyError\u001b[0m\u001b[1;33m:\u001b[0m\u001b[1;33m\u001b[0m\u001b[1;33m\u001b[0m\u001b[0m\n",
      "\u001b[1;32mpandas\\_libs\\index.pyx\u001b[0m in \u001b[0;36mpandas._libs.index.IndexEngine.get_loc\u001b[1;34m()\u001b[0m\n",
      "\u001b[1;32mpandas\\_libs\\index.pyx\u001b[0m in \u001b[0;36mpandas._libs.index.IndexEngine.get_loc\u001b[1;34m()\u001b[0m\n",
      "\u001b[1;32mpandas\\_libs\\hashtable_class_helper.pxi\u001b[0m in \u001b[0;36mpandas._libs.hashtable.PyObjectHashTable.get_item\u001b[1;34m()\u001b[0m\n",
      "\u001b[1;32mpandas\\_libs\\hashtable_class_helper.pxi\u001b[0m in \u001b[0;36mpandas._libs.hashtable.PyObjectHashTable.get_item\u001b[1;34m()\u001b[0m\n",
      "\u001b[1;31mKeyError\u001b[0m: 'Q026'",
      "\nDuring handling of the above exception, another exception occurred:\n",
      "\u001b[1;31mKeyError\u001b[0m                                  Traceback (most recent call last)",
      "\u001b[1;32m<ipython-input-43-ac07f4071b0c>\u001b[0m in \u001b[0;36m<module>\u001b[1;34m\u001b[0m\n\u001b[0;32m      1\u001b[0m \u001b[0mvar\u001b[0m \u001b[1;33m=\u001b[0m \u001b[1;34m\"Q026\"\u001b[0m\u001b[1;33m\u001b[0m\u001b[1;33m\u001b[0m\u001b[0m\n\u001b[1;32m----> 2\u001b[1;33m \u001b[0mcontagem_de_questionario\u001b[0m \u001b[1;33m=\u001b[0m \u001b[0mdadosEnem\u001b[0m\u001b[1;33m[\u001b[0m\u001b[0mvar\u001b[0m\u001b[1;33m]\u001b[0m\u001b[1;33m.\u001b[0m\u001b[0mvalue_counts\u001b[0m\u001b[1;33m(\u001b[0m\u001b[1;33m)\u001b[0m\u001b[1;33m.\u001b[0m\u001b[0mto_frame\u001b[0m\u001b[1;33m(\u001b[0m\u001b[1;33m)\u001b[0m\u001b[1;33m.\u001b[0m\u001b[0mreset_index\u001b[0m\u001b[1;33m(\u001b[0m\u001b[1;33m)\u001b[0m\u001b[1;33m\u001b[0m\u001b[1;33m\u001b[0m\u001b[0m\n\u001b[0m\u001b[0;32m      3\u001b[0m \u001b[0mcontagem_de_questionario\u001b[0m\u001b[1;33m.\u001b[0m\u001b[0mcolumns\u001b[0m \u001b[1;33m=\u001b[0m \u001b[1;33m[\u001b[0m\u001b[1;34m\"Respostas\"\u001b[0m\u001b[1;33m,\u001b[0m \u001b[1;34m\"total\"\u001b[0m\u001b[1;33m]\u001b[0m\u001b[1;33m\u001b[0m\u001b[1;33m\u001b[0m\u001b[0m\n\u001b[0;32m      4\u001b[0m \u001b[0mfrequencia\u001b[0m \u001b[1;33m=\u001b[0m \u001b[0mdadosEnem\u001b[0m\u001b[1;33m[\u001b[0m\u001b[0mvar\u001b[0m\u001b[1;33m]\u001b[0m\u001b[1;33m.\u001b[0m\u001b[0mvalue_counts\u001b[0m\u001b[1;33m(\u001b[0m\u001b[0mnormalize\u001b[0m\u001b[1;33m=\u001b[0m\u001b[1;32mTrue\u001b[0m\u001b[1;33m)\u001b[0m\u001b[1;33m\u001b[0m\u001b[1;33m\u001b[0m\u001b[0m\n\u001b[0;32m      5\u001b[0m \u001b[1;33m\u001b[0m\u001b[0m\n",
      "\u001b[1;32m~\\anaconda3\\lib\\site-packages\\pandas\\core\\frame.py\u001b[0m in \u001b[0;36m__getitem__\u001b[1;34m(self, key)\u001b[0m\n\u001b[0;32m   2798\u001b[0m             \u001b[1;32mif\u001b[0m \u001b[0mself\u001b[0m\u001b[1;33m.\u001b[0m\u001b[0mcolumns\u001b[0m\u001b[1;33m.\u001b[0m\u001b[0mnlevels\u001b[0m \u001b[1;33m>\u001b[0m \u001b[1;36m1\u001b[0m\u001b[1;33m:\u001b[0m\u001b[1;33m\u001b[0m\u001b[1;33m\u001b[0m\u001b[0m\n\u001b[0;32m   2799\u001b[0m                 \u001b[1;32mreturn\u001b[0m \u001b[0mself\u001b[0m\u001b[1;33m.\u001b[0m\u001b[0m_getitem_multilevel\u001b[0m\u001b[1;33m(\u001b[0m\u001b[0mkey\u001b[0m\u001b[1;33m)\u001b[0m\u001b[1;33m\u001b[0m\u001b[1;33m\u001b[0m\u001b[0m\n\u001b[1;32m-> 2800\u001b[1;33m             \u001b[0mindexer\u001b[0m \u001b[1;33m=\u001b[0m \u001b[0mself\u001b[0m\u001b[1;33m.\u001b[0m\u001b[0mcolumns\u001b[0m\u001b[1;33m.\u001b[0m\u001b[0mget_loc\u001b[0m\u001b[1;33m(\u001b[0m\u001b[0mkey\u001b[0m\u001b[1;33m)\u001b[0m\u001b[1;33m\u001b[0m\u001b[1;33m\u001b[0m\u001b[0m\n\u001b[0m\u001b[0;32m   2801\u001b[0m             \u001b[1;32mif\u001b[0m \u001b[0mis_integer\u001b[0m\u001b[1;33m(\u001b[0m\u001b[0mindexer\u001b[0m\u001b[1;33m)\u001b[0m\u001b[1;33m:\u001b[0m\u001b[1;33m\u001b[0m\u001b[1;33m\u001b[0m\u001b[0m\n\u001b[0;32m   2802\u001b[0m                 \u001b[0mindexer\u001b[0m \u001b[1;33m=\u001b[0m \u001b[1;33m[\u001b[0m\u001b[0mindexer\u001b[0m\u001b[1;33m]\u001b[0m\u001b[1;33m\u001b[0m\u001b[1;33m\u001b[0m\u001b[0m\n",
      "\u001b[1;32m~\\anaconda3\\lib\\site-packages\\pandas\\core\\indexes\\base.py\u001b[0m in \u001b[0;36mget_loc\u001b[1;34m(self, key, method, tolerance)\u001b[0m\n\u001b[0;32m   2646\u001b[0m                 \u001b[1;32mreturn\u001b[0m \u001b[0mself\u001b[0m\u001b[1;33m.\u001b[0m\u001b[0m_engine\u001b[0m\u001b[1;33m.\u001b[0m\u001b[0mget_loc\u001b[0m\u001b[1;33m(\u001b[0m\u001b[0mkey\u001b[0m\u001b[1;33m)\u001b[0m\u001b[1;33m\u001b[0m\u001b[1;33m\u001b[0m\u001b[0m\n\u001b[0;32m   2647\u001b[0m             \u001b[1;32mexcept\u001b[0m \u001b[0mKeyError\u001b[0m\u001b[1;33m:\u001b[0m\u001b[1;33m\u001b[0m\u001b[1;33m\u001b[0m\u001b[0m\n\u001b[1;32m-> 2648\u001b[1;33m                 \u001b[1;32mreturn\u001b[0m \u001b[0mself\u001b[0m\u001b[1;33m.\u001b[0m\u001b[0m_engine\u001b[0m\u001b[1;33m.\u001b[0m\u001b[0mget_loc\u001b[0m\u001b[1;33m(\u001b[0m\u001b[0mself\u001b[0m\u001b[1;33m.\u001b[0m\u001b[0m_maybe_cast_indexer\u001b[0m\u001b[1;33m(\u001b[0m\u001b[0mkey\u001b[0m\u001b[1;33m)\u001b[0m\u001b[1;33m)\u001b[0m\u001b[1;33m\u001b[0m\u001b[1;33m\u001b[0m\u001b[0m\n\u001b[0m\u001b[0;32m   2649\u001b[0m         \u001b[0mindexer\u001b[0m \u001b[1;33m=\u001b[0m \u001b[0mself\u001b[0m\u001b[1;33m.\u001b[0m\u001b[0mget_indexer\u001b[0m\u001b[1;33m(\u001b[0m\u001b[1;33m[\u001b[0m\u001b[0mkey\u001b[0m\u001b[1;33m]\u001b[0m\u001b[1;33m,\u001b[0m \u001b[0mmethod\u001b[0m\u001b[1;33m=\u001b[0m\u001b[0mmethod\u001b[0m\u001b[1;33m,\u001b[0m \u001b[0mtolerance\u001b[0m\u001b[1;33m=\u001b[0m\u001b[0mtolerance\u001b[0m\u001b[1;33m)\u001b[0m\u001b[1;33m\u001b[0m\u001b[1;33m\u001b[0m\u001b[0m\n\u001b[0;32m   2650\u001b[0m         \u001b[1;32mif\u001b[0m \u001b[0mindexer\u001b[0m\u001b[1;33m.\u001b[0m\u001b[0mndim\u001b[0m \u001b[1;33m>\u001b[0m \u001b[1;36m1\u001b[0m \u001b[1;32mor\u001b[0m \u001b[0mindexer\u001b[0m\u001b[1;33m.\u001b[0m\u001b[0msize\u001b[0m \u001b[1;33m>\u001b[0m \u001b[1;36m1\u001b[0m\u001b[1;33m:\u001b[0m\u001b[1;33m\u001b[0m\u001b[1;33m\u001b[0m\u001b[0m\n",
      "\u001b[1;32mpandas\\_libs\\index.pyx\u001b[0m in \u001b[0;36mpandas._libs.index.IndexEngine.get_loc\u001b[1;34m()\u001b[0m\n",
      "\u001b[1;32mpandas\\_libs\\index.pyx\u001b[0m in \u001b[0;36mpandas._libs.index.IndexEngine.get_loc\u001b[1;34m()\u001b[0m\n",
      "\u001b[1;32mpandas\\_libs\\hashtable_class_helper.pxi\u001b[0m in \u001b[0;36mpandas._libs.hashtable.PyObjectHashTable.get_item\u001b[1;34m()\u001b[0m\n",
      "\u001b[1;32mpandas\\_libs\\hashtable_class_helper.pxi\u001b[0m in \u001b[0;36mpandas._libs.hashtable.PyObjectHashTable.get_item\u001b[1;34m()\u001b[0m\n",
      "\u001b[1;31mKeyError\u001b[0m: 'Q026'"
     ]
    }
   ],
   "source": [
    "var = \"Q026\"\n",
    "contagem_de_questionario = dadosEnem[var].value_counts().to_frame().reset_index()\n",
    "contagem_de_questionario.columns = [\"Respostas\", \"total\"]\n",
    "frequencia = dadosEnem[var].value_counts(normalize=True)\n",
    "\n",
    "plt.title('Na sua residência tem quantos quartos para dormir?')\n",
    "\n",
    "sns.barplot(x=\"Respostas\", y = \"total\", data = contagem_de_questionario)\n",
    "\n",
    "\n",
    "array = pd.DataFrame(dadosEnem[var].value_counts())\n",
    "array2 = pd.DataFrame(dadosEnem[var].value_counts(normalize=True) * 100)\n",
    "array['Porcentagem (%)'] = array2\n",
    "array"
   ]
  },
  {
   "cell_type": "code",
   "execution_count": null,
   "metadata": {},
   "outputs": [],
   "source": []
  },
  {
   "cell_type": "code",
   "execution_count": null,
   "metadata": {
    "colab": {
     "base_uri": "https://localhost:8080/",
     "height": 440
    },
    "colab_type": "code",
    "id": "pvuhaI2tL7cA",
    "outputId": "9841694b-df05-4b26-baa0-edd9cd47e8af"
   },
   "outputs": [],
   "source": [
    "contagem_de_questionario = dadosEnem['Q001'].value_counts().to_frame().reset_index()\n",
    "contagem_de_questionario.columns = [\"Respostas\", \"total\"]\n",
    "frequencia = dadosEnem['Q001'].value_counts(normalize=True)\n",
    "\n",
    "#contagem_de_questionario.head()\n",
    "plt.title('Até que série seu pai, ou o homem responsável por você, estudou?')\n",
    "\n",
    "\n",
    "sns.barplot(x=\"Respostas\", y = \"total\", data = contagem_de_questionario)\n",
    "\n",
    "\n",
    "print(\" A Nunca estudou. \\n B Não completou a 4ª série/5º ano do Ensino Fundamental. \\n C Completou a 4ª série/5º ano, mas não completou a 8ª série/9º ano do Ensino Fundamental. \\n D Completou a 8ª série/9º ano do Ensino Fundamental, mas não completou o Ensino Médio. \\n E Completou o Ensino Médio, mas não completou a Faculdade. \\n F Completou a Faculdade, mas não completou a Pós-graduação. \\n G Completou a Pós-graduação. \\n H Não sei.\")\n",
    "\n",
    "\n",
    "\n",
    "\n"
   ]
  },
  {
   "cell_type": "code",
   "execution_count": null,
   "metadata": {
    "colab": {
     "base_uri": "https://localhost:8080/",
     "height": 440
    },
    "colab_type": "code",
    "id": "C4R08LhQLjlY",
    "outputId": "189ab62c-d945-42ed-bece-55b3316023e7"
   },
   "outputs": [],
   "source": [
    "var = 'Q002'\n",
    "contagem_de_questionario = dadosEnem[var].value_counts().to_frame().reset_index()\n",
    "contagem_de_questionario.columns = [\"Respostas\", \"total\"]\n",
    "frequencia = dadosEnem[var].value_counts(normalize=True)\n",
    "\n",
    "plt.title('Até que série seu mãe, ou a mulher responsável por você, estudou?')\n",
    "\n",
    "sns.barplot(x=\"Respostas\", y = \"total\", data = contagem_de_questionario)\n",
    "\n",
    "\n",
    "print(\"A Nunca estudou. \\n B Não completou a 4ª série/5º ano do Ensino Fundamental. \\n C Completou a 4ª série/5º ano, mas não completou a 8ª série/9º ano do Ensino Fundamental. \\n D Completou a 8ª série/9º ano do Ensino Fundamental, mas não completou o Ensino Médio. \\n E Completou o Ensino Médio, mas não completou a Faculdade. \\n F Completou a Faculdade, mas não completou a Pós-graduação. \\n G Completou a Pós-graduação. \\n H Não sei.\")\n",
    "\n",
    "\n",
    "#array = pd.DataFrame(dadosEnem[var].value_counts(normalize=True))\n",
    "#array\n"
   ]
  },
  {
   "cell_type": "code",
   "execution_count": null,
   "metadata": {
    "colab": {
     "base_uri": "https://localhost:8080/",
     "height": 424
    },
    "colab_type": "code",
    "id": "LIhlWUKYN08o",
    "outputId": "aea3c3cb-e4f9-4ca2-e7cf-44d5ec221646"
   },
   "outputs": [],
   "source": [
    "var = 'Q003'\n",
    "contagem_de_questionario = dadosEnem[var].value_counts().to_frame().reset_index()\n",
    "contagem_de_questionario.columns = [\"Respostas\", \"total\"]\n",
    "frequencia = dadosEnem[var].value_counts(normalize=True)\n",
    "\n",
    "plt.title('Profissão do pai')\n",
    "\n",
    "sns.barplot(x=\"Respostas\", y = \"total\", data = contagem_de_questionario)\n",
    "\n",
    "\n",
    "print(\" A) Grupo 1: Lavrador, agricultor sem empregados, boia-fria, criador de animais, apicultor, pescador, lenhador, seringueiro, extrativista.  \\n B) Grupo 2: Diarista, empregado doméstico, cuidador de idosos, babá, cozinheiro (em casas particulares), motorista particular, jardineiro, faxineiro de empresas e prédios, vigilante, porteiro, carteiro, office-boy, vendedor, caixa, atendente de loja, auxiliar administrativo, recepcionista, servente de pedreiro, repositor de mercadoria. \\n C) Grupo 3: Padeiro, cozinheiro industrial ou em restaurantes, sapateiro, costureiro, joalheiro, torneiro mecânico, operador de máquinas, soldador, operário de fábrica, trabalhador da mineração, pedreiro, pintor, eletricista, encanador, motorista, caminhoneiro, taxista. \\n D) Grupo 4: Professor (de ensino fundamental ou médio, idioma, música, artes etc.), técnico (de enfermagem, contabilidade, eletrônica etc.), policial, militar de baixa patente (soldado, cabo, sargento), corretor de imóveis, supervisor, gerente, mestre de obras, pastor, microempresário (proprietário de empresa com menos de 10 empregados), pequeno comerciante, pequeno proprietário de terras, trabalhador autônomo ou por conta própria. \\n E)Grupo 5: Médico, engenheiro, dentista, psicólogo, economista, advogado, juiz, promotor, defensor, delegado, tenente, capitão, coronel, professor universitário, diretor em empresas públicas ou privadas, político, proprietário de empresas com mais de 10 empregados. \\n F) Não sei.\")\n",
    "\n",
    "\n",
    "#array = pd.DataFrame(dadosEnem[var].value_counts(normalize=True))\n",
    "#array\n"
   ]
  },
  {
   "cell_type": "code",
   "execution_count": null,
   "metadata": {
    "colab": {
     "base_uri": "https://localhost:8080/",
     "height": 424
    },
    "colab_type": "code",
    "id": "Q4fHH8M0Oobx",
    "outputId": "ecd83ae4-3657-4a41-d823-1b34de37a5bd"
   },
   "outputs": [],
   "source": [
    "var = 'Q004'\n",
    "contagem_de_questionario = dadosEnem[var].value_counts().to_frame().reset_index()\n",
    "contagem_de_questionario.columns = [\"Respostas\", \"total\"]\n",
    "frequencia = dadosEnem[var].value_counts(normalize=True)\n",
    "\n",
    "plt.title('Profissão da mãe')\n",
    "\n",
    "sns.barplot(x=\"Respostas\", y = \"total\", data = contagem_de_questionario)\n",
    "\n",
    "\n",
    "print(\" A) Grupo 1: Lavrador, agricultor sem empregados, boia-fria, criador de animais, apicultor, pescador, lenhador, seringueiro, extrativista.  \\n B) Grupo 2: Diarista, empregado doméstico, cuidador de idosos, babá, cozinheiro (em casas particulares), motorista particular, jardineiro, faxineiro de empresas e prédios, vigilante, porteiro, carteiro, office-boy, vendedor, caixa, atendente de loja, auxiliar administrativo, recepcionista, servente de pedreiro, repositor de mercadoria. \\n C) Grupo 3: Padeiro, cozinheiro industrial ou em restaurantes, sapateiro, costureiro, joalheiro, torneiro mecânico, operador de máquinas, soldador, operário de fábrica, trabalhador da mineração, pedreiro, pintor, eletricista, encanador, motorista, caminhoneiro, taxista. \\n D) Grupo 4: Professor (de ensino fundamental ou médio, idioma, música, artes etc.), técnico (de enfermagem, contabilidade, eletrônica etc.), policial, militar de baixa patente (soldado, cabo, sargento), corretor de imóveis, supervisor, gerente, mestre de obras, pastor, microempresário (proprietário de empresa com menos de 10 empregados), pequeno comerciante, pequeno proprietário de terras, trabalhador autônomo ou por conta própria. \\n E)Grupo 5: Médico, engenheiro, dentista, psicólogo, economista, advogado, juiz, promotor, defensor, delegado, tenente, capitão, coronel, professor universitário, diretor em empresas públicas ou privadas, político, proprietário de empresas com mais de 10 empregados. \\n F) Não sei.\")\n",
    "\n",
    "\n",
    "#array = pd.DataFrame(dadosEnem[var].value_counts(normalize=True))\n",
    "#array\n"
   ]
  },
  {
   "cell_type": "code",
   "execution_count": null,
   "metadata": {
    "colab": {
     "base_uri": "https://localhost:8080/",
     "height": 576
    },
    "colab_type": "code",
    "id": "eC3CAIIgO-MD",
    "outputId": "e46c3964-9e0b-4910-c28e-ab837e5e3f45"
   },
   "outputs": [],
   "source": [
    "var = 'Q005'\n",
    "df = dadosEnem[var]\n",
    "hist = df.hist(bins=5)\n",
    "hist.set_xlim((0,12))\n",
    "plt.title('Incluindo você, quantas pessoas moram atualmente em sua residência?')\n",
    "plt.xlabel('Quantidade')\n",
    "plt.ylabel('Frequência')\n",
    "hist\n",
    "plt.show()\n",
    "\n",
    "sns.distplot(df)\n",
    "\n"
   ]
  },
  {
   "cell_type": "code",
   "execution_count": null,
   "metadata": {
    "colab": {
     "base_uri": "https://localhost:8080/",
     "height": 622
    },
    "colab_type": "code",
    "id": "i5q75whtPc3Y",
    "outputId": "5ff0c8f7-e5d0-4a75-e184-7128b1214d50"
   },
   "outputs": [],
   "source": [
    "var = \"Q006\"\n",
    "contagem_de_questionario = dadosEnem[var].value_counts().to_frame().reset_index()\n",
    "contagem_de_questionario.columns = [\"Respostas\", \"total\"]\n",
    "frequencia = dadosEnem[var].value_counts(normalize=True)\n",
    "\n",
    "plt.title('Renda Mensal da Família')\n",
    "\n",
    "sns.barplot(x=\"Respostas\", y = \"total\", data = contagem_de_questionario)\n",
    "\n",
    "print(\" A:Nenhuma renda. \\n B:Até R$ 937,00. \\n C:De R$ 937,01 até R$ 1.405,50. \\n D:De R$ 1.405,51 até R$ 1.874,00. \\n E:De R$ 1.874,01 até R$ 2.342,50. \\n F:De R$ 2.342,51 até R$ 2.811,00. \\n G:De R$ 2.811,01 até R$ 3.748,00. \\n H:De R$ 3.748,01 até R$ 4.685,00. \\n I:De R$ 4.685,01 até R$ 5.622,00. \\n J:De R$ 5.622,01 até R$ 6.559,00. \\n K:De R$ 6.559,01 até R$ 7.496,00. \\n L:De R$ 7.496,01 até R$ 8.433,00. \\n M:De R$ 8.433,01 até R$ 9.370,00. \\n N:De R$ 9.370,01 até R$ 11.244,00. \\n O:De R$ 11.244,01 até R$ 14.055,00. \\n P:De R$ 14.055,01 até R$ 18.740,00. \\n Q:Mais de R$ 18.740,00. \\n\" ) \n",
    "\n",
    "array = pd.DataFrame(dadosEnem[var].value_counts())\n",
    "array2 = pd.DataFrame(dadosEnem[var].value_counts(normalize=True) * 100)\n",
    "array['Porcentagem (%)'] = array2\n",
    "array\n"
   ]
  },
  {
   "cell_type": "code",
   "execution_count": null,
   "metadata": {
    "colab": {
     "base_uri": "https://localhost:8080/",
     "height": 575
    },
    "colab_type": "code",
    "id": "5iNr7ccWQw0j",
    "outputId": "4eb377f2-9237-4e1a-d38e-38343032560d"
   },
   "outputs": [],
   "source": [
    "dados_C = dadosEnem.query(\"Q006 == 'C'\")\n",
    "var = 'Q005'\n",
    "df = dados_C[var]\n",
    "hist = df.hist()\n",
    "hist.set_xlim((2,8))\n",
    "plt.title('Incluindo você, quantas pessoas moram atualmente em sua residência?')\n",
    "plt.xlabel('Quantidade')\n",
    "plt.ylabel('Frequência')\n",
    "hist\n",
    "plt.show()\n",
    "\n",
    "sns.distplot(df)\n",
    "\n",
    "array = pd.DataFrame(dadosEnem[var].value_counts())\n",
    "array2 = pd.DataFrame(dadosEnem[var].value_counts(normalize=True) * 100)\n",
    "array['Porcentagem (%)'] = array2\n",
    "array\n",
    "\n",
    "\n"
   ]
  },
  {
   "cell_type": "code",
   "execution_count": null,
   "metadata": {
    "colab": {},
    "colab_type": "code",
    "id": "2ZWVHaOiTFWj"
   },
   "outputs": [],
   "source": [
    "var = \"Q007\"\n",
    "contagem_de_questionario = dadosEnem[var].value_counts().to_frame().reset_index()\n",
    "contagem_de_questionario.columns = [\"Respostas\", \"total\"]\n",
    "frequencia = dadosEnem[var].value_counts(normalize=True)\n",
    "\n",
    "plt.title('Em sua residência trabalha empregado(a) doméstico(a)?')\n",
    "\n",
    "sns.barplot(x=\"Respostas\", y = \"total\", data = contagem_de_questionario)\n",
    "\n",
    "\n",
    "array = pd.DataFrame(dadosEnem[var].value_counts())\n",
    "array2 = pd.DataFrame(dadosEnem[var].value_counts(normalize=True) * 100)\n",
    "array['Porcentagem (%)'] = array2\n",
    "array\n"
   ]
  },
  {
   "cell_type": "code",
   "execution_count": null,
   "metadata": {
    "colab": {},
    "colab_type": "code",
    "id": "Y2CjThJ0XSn_"
   },
   "outputs": [],
   "source": [
    "var = \"Q008\"\n",
    "contagem_de_questionario = dadosEnem[var].value_counts().to_frame().reset_index()\n",
    "contagem_de_questionario.columns = [\"Respostas\", \"total\"]\n",
    "frequencia = dadosEnem[var].value_counts(normalize=True)\n",
    "\n",
    "plt.title('Na sua residência tem banheiro?')\n",
    "\n",
    "sns.barplot(x=\"Respostas\", y = \"total\", data = contagem_de_questionario)\n",
    "\n",
    "\n",
    "array = pd.DataFrame(dadosEnem[var].value_counts())\n",
    "array2 = pd.DataFrame(dadosEnem[var].value_counts(normalize=True) * 100)\n",
    "array['Porcentagem (%)'] = array2\n",
    "array\n"
   ]
  },
  {
   "cell_type": "code",
   "execution_count": null,
   "metadata": {},
   "outputs": [],
   "source": [
    "var = \"Q009\"\n",
    "contagem_de_questionario = dadosEnem[var].value_counts().to_frame().reset_index()\n",
    "contagem_de_questionario.columns = [\"Respostas\", \"total\"]\n",
    "frequencia = dadosEnem[var].value_counts(normalize=True)\n",
    "\n",
    "plt.title('Na sua residência tem quantos quartos para dormir?')\n",
    "\n",
    "sns.barplot(x=\"Respostas\", y = \"total\", data = contagem_de_questionario)\n",
    "\n",
    "\n",
    "array = pd.DataFrame(dadosEnem[var].value_counts())\n",
    "array2 = pd.DataFrame(dadosEnem[var].value_counts(normalize=True) * 100)\n",
    "array['Porcentagem (%)'] = array2\n",
    "array"
   ]
  },
  {
   "cell_type": "code",
   "execution_count": null,
   "metadata": {},
   "outputs": [],
   "source": [
    "var = \"Q010\"\n",
    "contagem_de_questionario = dadosEnem[var].value_counts().to_frame().reset_index()\n",
    "contagem_de_questionario.columns = [\"Respostas\", \"total\"]\n",
    "frequencia = dadosEnem[var].value_counts(normalize=True)\n",
    "\n",
    "plt.title('Na sua residência tem quantos quartos para dormir?')\n",
    "\n",
    "sns.barplot(x=\"Respostas\", y = \"total\", data = contagem_de_questionario)\n",
    "\n",
    "\n",
    "array = pd.DataFrame(dadosEnem[var].value_counts())\n",
    "array2 = pd.DataFrame(dadosEnem[var].value_counts(normalize=True) * 100)\n",
    "array['Porcentagem (%)'] = array2\n",
    "array"
   ]
  },
  {
   "cell_type": "code",
   "execution_count": null,
   "metadata": {},
   "outputs": [],
   "source": [
    "var = \"Q011\"\n",
    "contagem_de_questionario = dadosEnem[var].value_counts().to_frame().reset_index()\n",
    "contagem_de_questionario.columns = [\"Respostas\", \"total\"]\n",
    "frequencia = dadosEnem[var].value_counts(normalize=True)\n",
    "\n",
    "plt.title('Na sua residência tem quantos quartos para dormir?')\n",
    "\n",
    "sns.barplot(x=\"Respostas\", y = \"total\", data = contagem_de_questionario)\n",
    "\n",
    "\n",
    "array = pd.DataFrame(dadosEnem[var].value_counts())\n",
    "array2 = pd.DataFrame(dadosEnem[var].value_counts(normalize=True) * 100)\n",
    "array['Porcentagem (%)'] = array2\n",
    "array"
   ]
  },
  {
   "cell_type": "code",
   "execution_count": null,
   "metadata": {},
   "outputs": [],
   "source": [
    "var = \"Q012\"\n",
    "contagem_de_questionario = dadosEnem[var].value_counts().to_frame().reset_index()\n",
    "contagem_de_questionario.columns = [\"Respostas\", \"total\"]\n",
    "frequencia = dadosEnem[var].value_counts(normalize=True)\n",
    "\n",
    "plt.title('Na sua residência tem quantos quartos para dormir?')\n",
    "\n",
    "sns.barplot(x=\"Respostas\", y = \"total\", data = contagem_de_questionario)\n",
    "\n",
    "\n",
    "array = pd.DataFrame(dadosEnem[var].value_counts())\n",
    "array2 = pd.DataFrame(dadosEnem[var].value_counts(normalize=True) * 100)\n",
    "array['Porcentagem (%)'] = array2\n",
    "array"
   ]
  },
  {
   "cell_type": "code",
   "execution_count": null,
   "metadata": {},
   "outputs": [],
   "source": [
    "var = \"Q013\"\n",
    "contagem_de_questionario = dadosEnem[var].value_counts().to_frame().reset_index()\n",
    "contagem_de_questionario.columns = [\"Respostas\", \"total\"]\n",
    "frequencia = dadosEnem[var].value_counts(normalize=True)\n",
    "\n",
    "plt.title('Na sua residência tem quantos quartos para dormir?')\n",
    "\n",
    "sns.barplot(x=\"Respostas\", y = \"total\", data = contagem_de_questionario)\n",
    "\n",
    "\n",
    "array = pd.DataFrame(dadosEnem[var].value_counts())\n",
    "array2 = pd.DataFrame(dadosEnem[var].value_counts(normalize=True) * 100)\n",
    "array['Porcentagem (%)'] = array2\n",
    "array"
   ]
  },
  {
   "cell_type": "code",
   "execution_count": null,
   "metadata": {},
   "outputs": [],
   "source": [
    "var = \"Q014\"\n",
    "contagem_de_questionario = dadosEnem[var].value_counts().to_frame().reset_index()\n",
    "contagem_de_questionario.columns = [\"Respostas\", \"total\"]\n",
    "frequencia = dadosEnem[var].value_counts(normalize=True)\n",
    "\n",
    "plt.title('Na sua residência tem quantos quartos para dormir?')\n",
    "\n",
    "sns.barplot(x=\"Respostas\", y = \"total\", data = contagem_de_questionario)\n",
    "\n",
    "\n",
    "array = pd.DataFrame(dadosEnem[var].value_counts())\n",
    "array2 = pd.DataFrame(dadosEnem[var].value_counts(normalize=True) * 100)\n",
    "array['Porcentagem (%)'] = array2\n",
    "array"
   ]
  },
  {
   "cell_type": "code",
   "execution_count": null,
   "metadata": {},
   "outputs": [],
   "source": [
    "var = \"Q015\"\n",
    "contagem_de_questionario = dadosEnem[var].value_counts().to_frame().reset_index()\n",
    "contagem_de_questionario.columns = [\"Respostas\", \"total\"]\n",
    "frequencia = dadosEnem[var].value_counts(normalize=True)\n",
    "\n",
    "plt.title('Na sua residência tem quantos quartos para dormir?')\n",
    "\n",
    "sns.barplot(x=\"Respostas\", y = \"total\", data = contagem_de_questionario)\n",
    "\n",
    "\n",
    "array = pd.DataFrame(dadosEnem[var].value_counts())\n",
    "array2 = pd.DataFrame(dadosEnem[var].value_counts(normalize=True) * 100)\n",
    "array['Porcentagem (%)'] = array2\n",
    "array"
   ]
  },
  {
   "cell_type": "code",
   "execution_count": null,
   "metadata": {},
   "outputs": [],
   "source": [
    "var = \"Q016\"\n",
    "contagem_de_questionario = dadosEnem[var].value_counts().to_frame().reset_index()\n",
    "contagem_de_questionario.columns = [\"Respostas\", \"total\"]\n",
    "frequencia = dadosEnem[var].value_counts(normalize=True)\n",
    "\n",
    "plt.title('Na sua residência tem quantos quartos para dormir?')\n",
    "\n",
    "sns.barplot(x=\"Respostas\", y = \"total\", data = contagem_de_questionario)\n",
    "\n",
    "\n",
    "array = pd.DataFrame(dadosEnem[var].value_counts())\n",
    "array2 = pd.DataFrame(dadosEnem[var].value_counts(normalize=True) * 100)\n",
    "array['Porcentagem (%)'] = array2\n",
    "array"
   ]
  },
  {
   "cell_type": "code",
   "execution_count": null,
   "metadata": {},
   "outputs": [],
   "source": [
    "var = \"Q017\"\n",
    "contagem_de_questionario = dadosEnem[var].value_counts().to_frame().reset_index()\n",
    "contagem_de_questionario.columns = [\"Respostas\", \"total\"]\n",
    "frequencia = dadosEnem[var].value_counts(normalize=True)\n",
    "\n",
    "plt.title('Na sua residência tem quantos quartos para dormir?')\n",
    "\n",
    "sns.barplot(x=\"Respostas\", y = \"total\", data = contagem_de_questionario)\n",
    "\n",
    "\n",
    "array = pd.DataFrame(dadosEnem[var].value_counts())\n",
    "array2 = pd.DataFrame(dadosEnem[var].value_counts(normalize=True) * 100)\n",
    "array['Porcentagem (%)'] = array2\n",
    "array"
   ]
  },
  {
   "cell_type": "code",
   "execution_count": null,
   "metadata": {},
   "outputs": [],
   "source": [
    "var = \"Q018\"\n",
    "contagem_de_questionario = dadosEnem[var].value_counts().to_frame().reset_index()\n",
    "contagem_de_questionario.columns = [\"Respostas\", \"total\"]\n",
    "frequencia = dadosEnem[var].value_counts(normalize=True)\n",
    "\n",
    "plt.title('Na sua residência tem quantos quartos para dormir?')\n",
    "\n",
    "sns.barplot(x=\"Respostas\", y = \"total\", data = contagem_de_questionario)\n",
    "\n",
    "\n",
    "array = pd.DataFrame(dadosEnem[var].value_counts())\n",
    "array2 = pd.DataFrame(dadosEnem[var].value_counts(normalize=True) * 100)\n",
    "array['Porcentagem (%)'] = array2\n",
    "array"
   ]
  },
  {
   "cell_type": "code",
   "execution_count": null,
   "metadata": {},
   "outputs": [],
   "source": [
    "var = \"Q019\"\n",
    "contagem_de_questionario = dadosEnem[var].value_counts().to_frame().reset_index()\n",
    "contagem_de_questionario.columns = [\"Respostas\", \"total\"]\n",
    "frequencia = dadosEnem[var].value_counts(normalize=True)\n",
    "\n",
    "plt.title('Na sua residência tem quantos quartos para dormir?')\n",
    "\n",
    "sns.barplot(x=\"Respostas\", y = \"total\", data = contagem_de_questionario)\n",
    "\n",
    "\n",
    "array = pd.DataFrame(dadosEnem[var].value_counts())\n",
    "array2 = pd.DataFrame(dadosEnem[var].value_counts(normalize=True) * 100)\n",
    "array['Porcentagem (%)'] = array2\n",
    "array"
   ]
  },
  {
   "cell_type": "code",
   "execution_count": null,
   "metadata": {},
   "outputs": [],
   "source": [
    "var = \"Q020\"\n",
    "contagem_de_questionario = dadosEnem[var].value_counts().to_frame().reset_index()\n",
    "contagem_de_questionario.columns = [\"Respostas\", \"total\"]\n",
    "frequencia = dadosEnem[var].value_counts(normalize=True)\n",
    "\n",
    "plt.title('Na sua residência tem quantos quartos para dormir?')\n",
    "\n",
    "sns.barplot(x=\"Respostas\", y = \"total\", data = contagem_de_questionario)\n",
    "\n",
    "\n",
    "array = pd.DataFrame(dadosEnem[var].value_counts())\n",
    "array2 = pd.DataFrame(dadosEnem[var].value_counts(normalize=True) * 100)\n",
    "array['Porcentagem (%)'] = array2\n",
    "array"
   ]
  },
  {
   "cell_type": "code",
   "execution_count": null,
   "metadata": {},
   "outputs": [],
   "source": [
    "var = \"Q021\"\n",
    "contagem_de_questionario = dadosEnem[var].value_counts().to_frame().reset_index()\n",
    "contagem_de_questionario.columns = [\"Respostas\", \"total\"]\n",
    "frequencia = dadosEnem[var].value_counts(normalize=True)\n",
    "\n",
    "plt.title('Na sua residência tem quantos quartos para dormir?')\n",
    "\n",
    "sns.barplot(x=\"Respostas\", y = \"total\", data = contagem_de_questionario)\n",
    "\n",
    "\n",
    "array = pd.DataFrame(dadosEnem[var].value_counts())\n",
    "array2 = pd.DataFrame(dadosEnem[var].value_counts(normalize=True) * 100)\n",
    "array['Porcentagem (%)'] = array2\n",
    "array"
   ]
  },
  {
   "cell_type": "code",
   "execution_count": null,
   "metadata": {},
   "outputs": [],
   "source": [
    "var = \"Q022\"\n",
    "contagem_de_questionario = dadosEnem[var].value_counts().to_frame().reset_index()\n",
    "contagem_de_questionario.columns = [\"Respostas\", \"total\"]\n",
    "frequencia = dadosEnem[var].value_counts(normalize=True)\n",
    "\n",
    "plt.title('Na sua residência tem quantos quartos para dormir?')\n",
    "\n",
    "sns.barplot(x=\"Respostas\", y = \"total\", data = contagem_de_questionario)\n",
    "\n",
    "\n",
    "array = pd.DataFrame(dadosEnem[var].value_counts())\n",
    "array2 = pd.DataFrame(dadosEnem[var].value_counts(normalize=True) * 100)\n",
    "array['Porcentagem (%)'] = array2\n",
    "array"
   ]
  },
  {
   "cell_type": "code",
   "execution_count": null,
   "metadata": {},
   "outputs": [],
   "source": [
    "var = \"Q023\"\n",
    "contagem_de_questionario = dadosEnem[var].value_counts().to_frame().reset_index()\n",
    "contagem_de_questionario.columns = [\"Respostas\", \"total\"]\n",
    "frequencia = dadosEnem[var].value_counts(normalize=True)\n",
    "\n",
    "plt.title('Na sua residência tem quantos quartos para dormir?')\n",
    "\n",
    "sns.barplot(x=\"Respostas\", y = \"total\", data = contagem_de_questionario)\n",
    "\n",
    "\n",
    "array = pd.DataFrame(dadosEnem[var].value_counts())\n",
    "array2 = pd.DataFrame(dadosEnem[var].value_counts(normalize=True) * 100)\n",
    "array['Porcentagem (%)'] = array2\n",
    "array"
   ]
  },
  {
   "cell_type": "code",
   "execution_count": null,
   "metadata": {},
   "outputs": [],
   "source": [
    "var = \"Q024\"\n",
    "contagem_de_questionario = dadosEnem[var].value_counts().to_frame().reset_index()\n",
    "contagem_de_questionario.columns = [\"Respostas\", \"total\"]\n",
    "frequencia = dadosEnem[var].value_counts(normalize=True)\n",
    "\n",
    "plt.title('Na sua residência tem quantos quartos para dormir?')\n",
    "\n",
    "sns.barplot(x=\"Respostas\", y = \"total\", data = contagem_de_questionario)\n",
    "\n",
    "\n",
    "array = pd.DataFrame(dadosEnem[var].value_counts())\n",
    "array2 = pd.DataFrame(dadosEnem[var].value_counts(normalize=True) * 100)\n",
    "array['Porcentagem (%)'] = array2\n",
    "array"
   ]
  },
  {
   "cell_type": "code",
   "execution_count": null,
   "metadata": {},
   "outputs": [],
   "source": [
    "var = \"Q025\"\n",
    "contagem_de_questionario = dadosEnem[var].value_counts().to_frame().reset_index()\n",
    "contagem_de_questionario.columns = [\"Respostas\", \"total\"]\n",
    "frequencia = dadosEnem[var].value_counts(normalize=True)\n",
    "\n",
    "plt.title('Na sua residência tem quantos quartos para dormir?')\n",
    "\n",
    "sns.barplot(x=\"Respostas\", y = \"total\", data = contagem_de_questionario)\n",
    "\n",
    "\n",
    "array = pd.DataFrame(dadosEnem[var].value_counts())\n",
    "array2 = pd.DataFrame(dadosEnem[var].value_counts(normalize=True) * 100)\n",
    "array['Porcentagem (%)'] = array2\n",
    "array"
   ]
  },
  {
   "cell_type": "code",
   "execution_count": null,
   "metadata": {},
   "outputs": [],
   "source": [
    "var = \"Q026\"\n",
    "contagem_de_questionario = dadosEnem[var].value_counts().to_frame().reset_index()\n",
    "contagem_de_questionario.columns = [\"Respostas\", \"total\"]\n",
    "frequencia = dadosEnem[var].value_counts(normalize=True)\n",
    "\n",
    "plt.title('Na sua residência tem quantos quartos para dormir?')\n",
    "\n",
    "sns.barplot(x=\"Respostas\", y = \"total\", data = contagem_de_questionario)\n",
    "\n",
    "\n",
    "array = pd.DataFrame(dadosEnem[var].value_counts())\n",
    "array2 = pd.DataFrame(dadosEnem[var].value_counts(normalize=True) * 100)\n",
    "array['Porcentagem (%)'] = array2\n",
    "array"
   ]
  },
  {
   "cell_type": "code",
   "execution_count": null,
   "metadata": {},
   "outputs": [],
   "source": []
  },
  {
   "cell_type": "markdown",
   "metadata": {
    "colab_type": "text",
    "id": "PACvEUFbb2Ep"
   },
   "source": [
    "# O que foi feito?\n",
    "\n",
    "\n",
    "\n",
    "1.   Análise das bases de dados públicas e ficou decidido que inicialmente iriamos focar nos dados do Enem de Minas Gerais.\n",
    "2.   Análise exploratória dos dados do Enem 2017 ( Microdados_Enem_Aluno e Microdados_Enem_Escola)\n",
    "3.   Busca sobre trabalhos relacionados a clusterização e trabalhos sobre mineração de dados do enem\n",
    "4.  Surgiu a intenção de relacionar os alunos com a proximidade à Instituições de Ensino Superior Públicas (IESP) e enriquecer a base com dados das cidades de MG.\n",
    "5. Para saber quais cidades possuiam um IESP o Stênio forneceu uma base. Entretanto, essa base não incluia todos os Campi das IESP, acredito eu só tinha as sedes das instituições. Para conseguir quais cidades possuiam um Campus de uma IESP fui na base do Enade.\n",
    "6. Para saber mais informações da cidades tenho duas bases:\n",
    " uma mais simples que tem a estimativa da população e alguns dados\n",
    "    1. Estimativas de população enviadas ao TCU (DTB_MG_POP)\n",
    "    1. PIB dos Munícipios (DTB_MG_PIB) \n",
    "\n",
    "\n",
    "    #Datasets\n",
    "\n",
    "|          Nome          | Fonte |  Ano |                        Observações                        | Linhas | Colunas |\n",
    "|:----------------------:|:-----:|:----:|:---------------------------------------------------------:|:------:|:-------:|\n",
    "|  Microdados_Enem_Aluno |  Inep | 2017 |        Algumas Colunas Foram retiradas da Original        | 177552 |    67   |\n",
    "| Microdados_Enem_Escola |  Inep | 2017 |        Algumas Colunas Foram retiradas da Original        |  1185  |    27   |\n",
    "|       DTB_MG_POP       |  IBGE | 2017 | Adicionada coluna possui_IESP a partir da base Enade 2017 |   854  |    9    |\n",
    "|       DTB_MG_PIB       |  IBGE | 2017 |      Falta limpar algumas colunas \"estranhas\" da base     |   854  |    83   |\n",
    "\n"
   ]
  }
 ],
 "metadata": {
  "colab": {
   "collapsed_sections": [],
   "name": "TratandoDadosEnem.ipynb",
   "provenance": [],
   "toc_visible": true
  },
  "hide_input": false,
  "kernelspec": {
   "display_name": "Python 3",
   "language": "python",
   "name": "python3"
  },
  "language_info": {
   "codemirror_mode": {
    "name": "ipython",
    "version": 3
   },
   "file_extension": ".py",
   "mimetype": "text/x-python",
   "name": "python",
   "nbconvert_exporter": "python",
   "pygments_lexer": "ipython3",
   "version": "3.7.6"
  }
 },
 "nbformat": 4,
 "nbformat_minor": 1
}
